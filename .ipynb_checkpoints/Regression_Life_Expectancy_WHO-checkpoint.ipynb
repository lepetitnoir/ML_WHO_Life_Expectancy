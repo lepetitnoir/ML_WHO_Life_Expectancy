{
 "cells": [
  {
   "cell_type": "markdown",
   "id": "262ceaa6",
   "metadata": {},
   "source": [
    "# Importing libraries"
   ]
  },
  {
   "cell_type": "code",
   "execution_count": 2,
   "id": "dd1fdefc",
   "metadata": {},
   "outputs": [],
   "source": [
    "import pandas as pd\n",
    "import numpy as np\n",
    "from sklearn.model_selection import train_test_split\n",
    "import seaborn as sns\n",
    "import matplotlib.pyplot as plt\n",
    "from sklearn.linear_model import LinearRegression\n",
    "from sklearn.preprocessing import StandardScaler\n",
    "from sklearn.metrics import r2_score\n",
    "from sklearn.metrics import mean_squared_error as mse\n",
    "from sklearn.metrics import mean_absolute_error as mae\n",
    "from sklearn.feature_selection import RFE\n",
    "from sklearn.model_selection import cross_val_score\n",
    "from sklearn.model_selection import cross_val_predict\n",
    "from sklearn.neighbors import KNeighborsRegressor"
   ]
  },
  {
   "cell_type": "markdown",
   "id": "11bd47df",
   "metadata": {},
   "source": [
    "# Loading .xls"
   ]
  },
  {
   "cell_type": "code",
   "execution_count": 3,
   "id": "4dfdd842",
   "metadata": {},
   "outputs": [],
   "source": [
    "who = pd.read_csv('Life_Expectancy_Data.xls')"
   ]
  },
  {
   "cell_type": "code",
   "execution_count": 4,
   "id": "aa5162df",
   "metadata": {},
   "outputs": [
    {
     "data": {
      "text/html": [
       "<div>\n",
       "<style scoped>\n",
       "    .dataframe tbody tr th:only-of-type {\n",
       "        vertical-align: middle;\n",
       "    }\n",
       "\n",
       "    .dataframe tbody tr th {\n",
       "        vertical-align: top;\n",
       "    }\n",
       "\n",
       "    .dataframe thead th {\n",
       "        text-align: right;\n",
       "    }\n",
       "</style>\n",
       "<table border=\"1\" class=\"dataframe\">\n",
       "  <thead>\n",
       "    <tr style=\"text-align: right;\">\n",
       "      <th></th>\n",
       "      <th>Country</th>\n",
       "      <th>Year</th>\n",
       "      <th>Status</th>\n",
       "      <th>Life expectancy</th>\n",
       "      <th>Adult Mortality</th>\n",
       "      <th>infant deaths</th>\n",
       "      <th>Alcohol</th>\n",
       "      <th>percentage expenditure</th>\n",
       "      <th>Hepatitis B</th>\n",
       "      <th>Measles</th>\n",
       "      <th>...</th>\n",
       "      <th>Polio</th>\n",
       "      <th>Total expenditure</th>\n",
       "      <th>Diphtheria</th>\n",
       "      <th>HIV/AIDS</th>\n",
       "      <th>GDP</th>\n",
       "      <th>Population</th>\n",
       "      <th>thinness  1-19 years</th>\n",
       "      <th>thinness 5-9 years</th>\n",
       "      <th>Income composition of resources</th>\n",
       "      <th>Schooling</th>\n",
       "    </tr>\n",
       "  </thead>\n",
       "  <tbody>\n",
       "    <tr>\n",
       "      <th>0</th>\n",
       "      <td>Afghanistan</td>\n",
       "      <td>2015</td>\n",
       "      <td>Developing</td>\n",
       "      <td>65.0</td>\n",
       "      <td>263.0</td>\n",
       "      <td>62</td>\n",
       "      <td>0.01</td>\n",
       "      <td>71.279624</td>\n",
       "      <td>65.0</td>\n",
       "      <td>1154</td>\n",
       "      <td>...</td>\n",
       "      <td>6.0</td>\n",
       "      <td>8.16</td>\n",
       "      <td>65.0</td>\n",
       "      <td>0.1</td>\n",
       "      <td>584.259210</td>\n",
       "      <td>33736494.0</td>\n",
       "      <td>17.2</td>\n",
       "      <td>17.3</td>\n",
       "      <td>0.479</td>\n",
       "      <td>10.1</td>\n",
       "    </tr>\n",
       "    <tr>\n",
       "      <th>1</th>\n",
       "      <td>Afghanistan</td>\n",
       "      <td>2014</td>\n",
       "      <td>Developing</td>\n",
       "      <td>59.9</td>\n",
       "      <td>271.0</td>\n",
       "      <td>64</td>\n",
       "      <td>0.01</td>\n",
       "      <td>73.523582</td>\n",
       "      <td>62.0</td>\n",
       "      <td>492</td>\n",
       "      <td>...</td>\n",
       "      <td>58.0</td>\n",
       "      <td>8.18</td>\n",
       "      <td>62.0</td>\n",
       "      <td>0.1</td>\n",
       "      <td>612.696514</td>\n",
       "      <td>327582.0</td>\n",
       "      <td>17.5</td>\n",
       "      <td>17.5</td>\n",
       "      <td>0.476</td>\n",
       "      <td>10.0</td>\n",
       "    </tr>\n",
       "    <tr>\n",
       "      <th>2</th>\n",
       "      <td>Afghanistan</td>\n",
       "      <td>2013</td>\n",
       "      <td>Developing</td>\n",
       "      <td>59.9</td>\n",
       "      <td>268.0</td>\n",
       "      <td>66</td>\n",
       "      <td>0.01</td>\n",
       "      <td>73.219243</td>\n",
       "      <td>64.0</td>\n",
       "      <td>430</td>\n",
       "      <td>...</td>\n",
       "      <td>62.0</td>\n",
       "      <td>8.13</td>\n",
       "      <td>64.0</td>\n",
       "      <td>0.1</td>\n",
       "      <td>631.744976</td>\n",
       "      <td>31731688.0</td>\n",
       "      <td>17.7</td>\n",
       "      <td>17.7</td>\n",
       "      <td>0.470</td>\n",
       "      <td>9.9</td>\n",
       "    </tr>\n",
       "    <tr>\n",
       "      <th>3</th>\n",
       "      <td>Afghanistan</td>\n",
       "      <td>2012</td>\n",
       "      <td>Developing</td>\n",
       "      <td>59.5</td>\n",
       "      <td>272.0</td>\n",
       "      <td>69</td>\n",
       "      <td>0.01</td>\n",
       "      <td>78.184215</td>\n",
       "      <td>67.0</td>\n",
       "      <td>2787</td>\n",
       "      <td>...</td>\n",
       "      <td>67.0</td>\n",
       "      <td>8.52</td>\n",
       "      <td>67.0</td>\n",
       "      <td>0.1</td>\n",
       "      <td>669.959000</td>\n",
       "      <td>3696958.0</td>\n",
       "      <td>17.9</td>\n",
       "      <td>18.0</td>\n",
       "      <td>0.463</td>\n",
       "      <td>9.8</td>\n",
       "    </tr>\n",
       "    <tr>\n",
       "      <th>4</th>\n",
       "      <td>Afghanistan</td>\n",
       "      <td>2011</td>\n",
       "      <td>Developing</td>\n",
       "      <td>59.2</td>\n",
       "      <td>275.0</td>\n",
       "      <td>71</td>\n",
       "      <td>0.01</td>\n",
       "      <td>7.097109</td>\n",
       "      <td>68.0</td>\n",
       "      <td>3013</td>\n",
       "      <td>...</td>\n",
       "      <td>68.0</td>\n",
       "      <td>7.87</td>\n",
       "      <td>68.0</td>\n",
       "      <td>0.1</td>\n",
       "      <td>63.537231</td>\n",
       "      <td>2978599.0</td>\n",
       "      <td>18.2</td>\n",
       "      <td>18.2</td>\n",
       "      <td>0.454</td>\n",
       "      <td>9.5</td>\n",
       "    </tr>\n",
       "  </tbody>\n",
       "</table>\n",
       "<p>5 rows × 22 columns</p>\n",
       "</div>"
      ],
      "text/plain": [
       "       Country  Year      Status  Life expectancy   Adult Mortality  \\\n",
       "0  Afghanistan  2015  Developing              65.0            263.0   \n",
       "1  Afghanistan  2014  Developing              59.9            271.0   \n",
       "2  Afghanistan  2013  Developing              59.9            268.0   \n",
       "3  Afghanistan  2012  Developing              59.5            272.0   \n",
       "4  Afghanistan  2011  Developing              59.2            275.0   \n",
       "\n",
       "   infant deaths  Alcohol  percentage expenditure  Hepatitis B  Measles   ...  \\\n",
       "0             62     0.01               71.279624         65.0      1154  ...   \n",
       "1             64     0.01               73.523582         62.0       492  ...   \n",
       "2             66     0.01               73.219243         64.0       430  ...   \n",
       "3             69     0.01               78.184215         67.0      2787  ...   \n",
       "4             71     0.01                7.097109         68.0      3013  ...   \n",
       "\n",
       "   Polio  Total expenditure  Diphtheria    HIV/AIDS         GDP  Population  \\\n",
       "0    6.0               8.16         65.0        0.1  584.259210  33736494.0   \n",
       "1   58.0               8.18         62.0        0.1  612.696514    327582.0   \n",
       "2   62.0               8.13         64.0        0.1  631.744976  31731688.0   \n",
       "3   67.0               8.52         67.0        0.1  669.959000   3696958.0   \n",
       "4   68.0               7.87         68.0        0.1   63.537231   2978599.0   \n",
       "\n",
       "    thinness  1-19 years   thinness 5-9 years  \\\n",
       "0                   17.2                 17.3   \n",
       "1                   17.5                 17.5   \n",
       "2                   17.7                 17.7   \n",
       "3                   17.9                 18.0   \n",
       "4                   18.2                 18.2   \n",
       "\n",
       "   Income composition of resources  Schooling  \n",
       "0                            0.479       10.1  \n",
       "1                            0.476       10.0  \n",
       "2                            0.470        9.9  \n",
       "3                            0.463        9.8  \n",
       "4                            0.454        9.5  \n",
       "\n",
       "[5 rows x 22 columns]"
      ]
     },
     "execution_count": 4,
     "metadata": {},
     "output_type": "execute_result"
    }
   ],
   "source": [
    "who.head()"
   ]
  },
  {
   "cell_type": "markdown",
   "id": "271aa4c6",
   "metadata": {},
   "source": [
    "# Checking size of data frame (columns + rows)"
   ]
  },
  {
   "cell_type": "code",
   "execution_count": 5,
   "id": "87c3ecd7",
   "metadata": {},
   "outputs": [
    {
     "data": {
      "text/plain": [
       "22"
      ]
     },
     "execution_count": 5,
     "metadata": {},
     "output_type": "execute_result"
    }
   ],
   "source": [
    "len(who.columns)"
   ]
  },
  {
   "cell_type": "code",
   "execution_count": 6,
   "id": "b5f26c82",
   "metadata": {},
   "outputs": [
    {
     "data": {
      "text/plain": [
       "2938"
      ]
     },
     "execution_count": 6,
     "metadata": {},
     "output_type": "execute_result"
    }
   ],
   "source": [
    "len(who.index)"
   ]
  },
  {
   "cell_type": "markdown",
   "id": "0d9a1cc8",
   "metadata": {},
   "source": [
    "# Checking for data types"
   ]
  },
  {
   "cell_type": "code",
   "execution_count": 7,
   "id": "d20876a2",
   "metadata": {},
   "outputs": [
    {
     "name": "stdout",
     "output_type": "stream",
     "text": [
      "<class 'pandas.core.frame.DataFrame'>\n",
      "RangeIndex: 2938 entries, 0 to 2937\n",
      "Data columns (total 22 columns):\n",
      " #   Column                           Non-Null Count  Dtype  \n",
      "---  ------                           --------------  -----  \n",
      " 0   Country                          2938 non-null   object \n",
      " 1   Year                             2938 non-null   int64  \n",
      " 2   Status                           2938 non-null   object \n",
      " 3   Life expectancy                  2928 non-null   float64\n",
      " 4   Adult Mortality                  2928 non-null   float64\n",
      " 5   infant deaths                    2938 non-null   int64  \n",
      " 6   Alcohol                          2744 non-null   float64\n",
      " 7   percentage expenditure           2938 non-null   float64\n",
      " 8   Hepatitis B                      2385 non-null   float64\n",
      " 9   Measles                          2938 non-null   int64  \n",
      " 10   BMI                             2904 non-null   float64\n",
      " 11  under-five deaths                2938 non-null   int64  \n",
      " 12  Polio                            2919 non-null   float64\n",
      " 13  Total expenditure                2712 non-null   float64\n",
      " 14  Diphtheria                       2919 non-null   float64\n",
      " 15   HIV/AIDS                        2938 non-null   float64\n",
      " 16  GDP                              2490 non-null   float64\n",
      " 17  Population                       2286 non-null   float64\n",
      " 18   thinness  1-19 years            2904 non-null   float64\n",
      " 19   thinness 5-9 years              2904 non-null   float64\n",
      " 20  Income composition of resources  2771 non-null   float64\n",
      " 21  Schooling                        2775 non-null   float64\n",
      "dtypes: float64(16), int64(4), object(2)\n",
      "memory usage: 505.1+ KB\n"
     ]
    }
   ],
   "source": [
    "who.info()"
   ]
  },
  {
   "cell_type": "markdown",
   "id": "06b3c7fc",
   "metadata": {},
   "source": [
    "# Checking amount of NaN's"
   ]
  },
  {
   "cell_type": "code",
   "execution_count": 8,
   "id": "c7adb710",
   "metadata": {},
   "outputs": [
    {
     "data": {
      "text/html": [
       "<div>\n",
       "<style scoped>\n",
       "    .dataframe tbody tr th:only-of-type {\n",
       "        vertical-align: middle;\n",
       "    }\n",
       "\n",
       "    .dataframe tbody tr th {\n",
       "        vertical-align: top;\n",
       "    }\n",
       "\n",
       "    .dataframe thead th {\n",
       "        text-align: right;\n",
       "    }\n",
       "</style>\n",
       "<table border=\"1\" class=\"dataframe\">\n",
       "  <thead>\n",
       "    <tr style=\"text-align: right;\">\n",
       "      <th></th>\n",
       "      <th>header_name</th>\n",
       "      <th>percent_nulls</th>\n",
       "    </tr>\n",
       "  </thead>\n",
       "  <tbody>\n",
       "    <tr>\n",
       "      <th>0</th>\n",
       "      <td>Country</td>\n",
       "      <td>0.00</td>\n",
       "    </tr>\n",
       "    <tr>\n",
       "      <th>1</th>\n",
       "      <td>Year</td>\n",
       "      <td>0.00</td>\n",
       "    </tr>\n",
       "    <tr>\n",
       "      <th>2</th>\n",
       "      <td>Status</td>\n",
       "      <td>0.00</td>\n",
       "    </tr>\n",
       "    <tr>\n",
       "      <th>3</th>\n",
       "      <td>Life expectancy</td>\n",
       "      <td>0.34</td>\n",
       "    </tr>\n",
       "    <tr>\n",
       "      <th>4</th>\n",
       "      <td>Adult Mortality</td>\n",
       "      <td>0.34</td>\n",
       "    </tr>\n",
       "    <tr>\n",
       "      <th>5</th>\n",
       "      <td>infant deaths</td>\n",
       "      <td>0.00</td>\n",
       "    </tr>\n",
       "    <tr>\n",
       "      <th>6</th>\n",
       "      <td>Alcohol</td>\n",
       "      <td>6.60</td>\n",
       "    </tr>\n",
       "    <tr>\n",
       "      <th>7</th>\n",
       "      <td>percentage expenditure</td>\n",
       "      <td>0.00</td>\n",
       "    </tr>\n",
       "    <tr>\n",
       "      <th>8</th>\n",
       "      <td>Hepatitis B</td>\n",
       "      <td>18.82</td>\n",
       "    </tr>\n",
       "    <tr>\n",
       "      <th>9</th>\n",
       "      <td>Measles</td>\n",
       "      <td>0.00</td>\n",
       "    </tr>\n",
       "    <tr>\n",
       "      <th>10</th>\n",
       "      <td>BMI</td>\n",
       "      <td>1.16</td>\n",
       "    </tr>\n",
       "    <tr>\n",
       "      <th>11</th>\n",
       "      <td>under-five deaths</td>\n",
       "      <td>0.00</td>\n",
       "    </tr>\n",
       "    <tr>\n",
       "      <th>12</th>\n",
       "      <td>Polio</td>\n",
       "      <td>0.65</td>\n",
       "    </tr>\n",
       "    <tr>\n",
       "      <th>13</th>\n",
       "      <td>Total expenditure</td>\n",
       "      <td>7.69</td>\n",
       "    </tr>\n",
       "    <tr>\n",
       "      <th>14</th>\n",
       "      <td>Diphtheria</td>\n",
       "      <td>0.65</td>\n",
       "    </tr>\n",
       "    <tr>\n",
       "      <th>15</th>\n",
       "      <td>HIV/AIDS</td>\n",
       "      <td>0.00</td>\n",
       "    </tr>\n",
       "    <tr>\n",
       "      <th>16</th>\n",
       "      <td>GDP</td>\n",
       "      <td>15.25</td>\n",
       "    </tr>\n",
       "    <tr>\n",
       "      <th>17</th>\n",
       "      <td>Population</td>\n",
       "      <td>22.19</td>\n",
       "    </tr>\n",
       "    <tr>\n",
       "      <th>18</th>\n",
       "      <td>thinness  1-19 years</td>\n",
       "      <td>1.16</td>\n",
       "    </tr>\n",
       "    <tr>\n",
       "      <th>19</th>\n",
       "      <td>thinness 5-9 years</td>\n",
       "      <td>1.16</td>\n",
       "    </tr>\n",
       "    <tr>\n",
       "      <th>20</th>\n",
       "      <td>Income composition of resources</td>\n",
       "      <td>5.68</td>\n",
       "    </tr>\n",
       "    <tr>\n",
       "      <th>21</th>\n",
       "      <td>Schooling</td>\n",
       "      <td>5.55</td>\n",
       "    </tr>\n",
       "  </tbody>\n",
       "</table>\n",
       "</div>"
      ],
      "text/plain": [
       "                        header_name  percent_nulls\n",
       "0                           Country           0.00\n",
       "1                              Year           0.00\n",
       "2                            Status           0.00\n",
       "3                  Life expectancy            0.34\n",
       "4                   Adult Mortality           0.34\n",
       "5                     infant deaths           0.00\n",
       "6                           Alcohol           6.60\n",
       "7            percentage expenditure           0.00\n",
       "8                       Hepatitis B          18.82\n",
       "9                          Measles            0.00\n",
       "10                             BMI            1.16\n",
       "11               under-five deaths            0.00\n",
       "12                            Polio           0.65\n",
       "13                Total expenditure           7.69\n",
       "14                      Diphtheria            0.65\n",
       "15                         HIV/AIDS           0.00\n",
       "16                              GDP          15.25\n",
       "17                       Population          22.19\n",
       "18             thinness  1-19 years           1.16\n",
       "19               thinness 5-9 years           1.16\n",
       "20  Income composition of resources           5.68\n",
       "21                        Schooling           5.55"
      ]
     },
     "execution_count": 8,
     "metadata": {},
     "output_type": "execute_result"
    }
   ],
   "source": [
    "nulls_df = pd.DataFrame(round(who.isna().sum()/len(who),4)*100)\n",
    "nulls_df = nulls_df.reset_index()\n",
    "nulls_df.columns = ['header_name', 'percent_nulls']\n",
    "nulls_df"
   ]
  },
  {
   "cell_type": "markdown",
   "id": "d9c1ec27",
   "metadata": {},
   "source": [
    "# Replacing NaN with median"
   ]
  },
  {
   "cell_type": "code",
   "execution_count": 9,
   "id": "6a29357b",
   "metadata": {},
   "outputs": [
    {
     "name": "stderr",
     "output_type": "stream",
     "text": [
      "/var/folders/z7/h39z8zd55hb3q_stjqd0sqgm0000gn/T/ipykernel_4278/2090037703.py:1: FutureWarning: Dropping of nuisance columns in DataFrame reductions (with 'numeric_only=None') is deprecated; in a future version this will raise TypeError.  Select only valid columns before calling the reduction.\n",
      "  who.fillna(who.median(), inplace=True)\n"
     ]
    }
   ],
   "source": [
    "who.fillna(who.median(), inplace=True)"
   ]
  },
  {
   "cell_type": "code",
   "execution_count": 10,
   "id": "0ca3ebb5",
   "metadata": {},
   "outputs": [
    {
     "data": {
      "text/html": [
       "<div>\n",
       "<style scoped>\n",
       "    .dataframe tbody tr th:only-of-type {\n",
       "        vertical-align: middle;\n",
       "    }\n",
       "\n",
       "    .dataframe tbody tr th {\n",
       "        vertical-align: top;\n",
       "    }\n",
       "\n",
       "    .dataframe thead th {\n",
       "        text-align: right;\n",
       "    }\n",
       "</style>\n",
       "<table border=\"1\" class=\"dataframe\">\n",
       "  <thead>\n",
       "    <tr style=\"text-align: right;\">\n",
       "      <th></th>\n",
       "      <th>header_name</th>\n",
       "      <th>percent_nulls</th>\n",
       "    </tr>\n",
       "  </thead>\n",
       "  <tbody>\n",
       "    <tr>\n",
       "      <th>0</th>\n",
       "      <td>Country</td>\n",
       "      <td>0.0</td>\n",
       "    </tr>\n",
       "    <tr>\n",
       "      <th>1</th>\n",
       "      <td>Year</td>\n",
       "      <td>0.0</td>\n",
       "    </tr>\n",
       "    <tr>\n",
       "      <th>2</th>\n",
       "      <td>Status</td>\n",
       "      <td>0.0</td>\n",
       "    </tr>\n",
       "    <tr>\n",
       "      <th>3</th>\n",
       "      <td>Life expectancy</td>\n",
       "      <td>0.0</td>\n",
       "    </tr>\n",
       "    <tr>\n",
       "      <th>4</th>\n",
       "      <td>Adult Mortality</td>\n",
       "      <td>0.0</td>\n",
       "    </tr>\n",
       "    <tr>\n",
       "      <th>5</th>\n",
       "      <td>infant deaths</td>\n",
       "      <td>0.0</td>\n",
       "    </tr>\n",
       "    <tr>\n",
       "      <th>6</th>\n",
       "      <td>Alcohol</td>\n",
       "      <td>0.0</td>\n",
       "    </tr>\n",
       "    <tr>\n",
       "      <th>7</th>\n",
       "      <td>percentage expenditure</td>\n",
       "      <td>0.0</td>\n",
       "    </tr>\n",
       "    <tr>\n",
       "      <th>8</th>\n",
       "      <td>Hepatitis B</td>\n",
       "      <td>0.0</td>\n",
       "    </tr>\n",
       "    <tr>\n",
       "      <th>9</th>\n",
       "      <td>Measles</td>\n",
       "      <td>0.0</td>\n",
       "    </tr>\n",
       "    <tr>\n",
       "      <th>10</th>\n",
       "      <td>BMI</td>\n",
       "      <td>0.0</td>\n",
       "    </tr>\n",
       "    <tr>\n",
       "      <th>11</th>\n",
       "      <td>under-five deaths</td>\n",
       "      <td>0.0</td>\n",
       "    </tr>\n",
       "    <tr>\n",
       "      <th>12</th>\n",
       "      <td>Polio</td>\n",
       "      <td>0.0</td>\n",
       "    </tr>\n",
       "    <tr>\n",
       "      <th>13</th>\n",
       "      <td>Total expenditure</td>\n",
       "      <td>0.0</td>\n",
       "    </tr>\n",
       "    <tr>\n",
       "      <th>14</th>\n",
       "      <td>Diphtheria</td>\n",
       "      <td>0.0</td>\n",
       "    </tr>\n",
       "    <tr>\n",
       "      <th>15</th>\n",
       "      <td>HIV/AIDS</td>\n",
       "      <td>0.0</td>\n",
       "    </tr>\n",
       "    <tr>\n",
       "      <th>16</th>\n",
       "      <td>GDP</td>\n",
       "      <td>0.0</td>\n",
       "    </tr>\n",
       "    <tr>\n",
       "      <th>17</th>\n",
       "      <td>Population</td>\n",
       "      <td>0.0</td>\n",
       "    </tr>\n",
       "    <tr>\n",
       "      <th>18</th>\n",
       "      <td>thinness  1-19 years</td>\n",
       "      <td>0.0</td>\n",
       "    </tr>\n",
       "    <tr>\n",
       "      <th>19</th>\n",
       "      <td>thinness 5-9 years</td>\n",
       "      <td>0.0</td>\n",
       "    </tr>\n",
       "    <tr>\n",
       "      <th>20</th>\n",
       "      <td>Income composition of resources</td>\n",
       "      <td>0.0</td>\n",
       "    </tr>\n",
       "    <tr>\n",
       "      <th>21</th>\n",
       "      <td>Schooling</td>\n",
       "      <td>0.0</td>\n",
       "    </tr>\n",
       "  </tbody>\n",
       "</table>\n",
       "</div>"
      ],
      "text/plain": [
       "                        header_name  percent_nulls\n",
       "0                           Country            0.0\n",
       "1                              Year            0.0\n",
       "2                            Status            0.0\n",
       "3                  Life expectancy             0.0\n",
       "4                   Adult Mortality            0.0\n",
       "5                     infant deaths            0.0\n",
       "6                           Alcohol            0.0\n",
       "7            percentage expenditure            0.0\n",
       "8                       Hepatitis B            0.0\n",
       "9                          Measles             0.0\n",
       "10                             BMI             0.0\n",
       "11               under-five deaths             0.0\n",
       "12                            Polio            0.0\n",
       "13                Total expenditure            0.0\n",
       "14                      Diphtheria             0.0\n",
       "15                         HIV/AIDS            0.0\n",
       "16                              GDP            0.0\n",
       "17                       Population            0.0\n",
       "18             thinness  1-19 years            0.0\n",
       "19               thinness 5-9 years            0.0\n",
       "20  Income composition of resources            0.0\n",
       "21                        Schooling            0.0"
      ]
     },
     "execution_count": 10,
     "metadata": {},
     "output_type": "execute_result"
    }
   ],
   "source": [
    "nulls_df = pd.DataFrame(round(who.isna().sum()/len(who),4)*100)\n",
    "nulls_df = nulls_df.reset_index()\n",
    "nulls_df.columns = ['header_name', 'percent_nulls']\n",
    "nulls_df"
   ]
  },
  {
   "cell_type": "markdown",
   "id": "a9b25e70",
   "metadata": {},
   "source": [
    "# Dropping duplicates"
   ]
  },
  {
   "cell_type": "code",
   "execution_count": 11,
   "id": "86559df1",
   "metadata": {},
   "outputs": [
    {
     "data": {
      "text/html": [
       "<div>\n",
       "<style scoped>\n",
       "    .dataframe tbody tr th:only-of-type {\n",
       "        vertical-align: middle;\n",
       "    }\n",
       "\n",
       "    .dataframe tbody tr th {\n",
       "        vertical-align: top;\n",
       "    }\n",
       "\n",
       "    .dataframe thead th {\n",
       "        text-align: right;\n",
       "    }\n",
       "</style>\n",
       "<table border=\"1\" class=\"dataframe\">\n",
       "  <thead>\n",
       "    <tr style=\"text-align: right;\">\n",
       "      <th></th>\n",
       "      <th>Country</th>\n",
       "      <th>Year</th>\n",
       "      <th>Status</th>\n",
       "      <th>Life expectancy</th>\n",
       "      <th>Adult Mortality</th>\n",
       "      <th>infant deaths</th>\n",
       "      <th>Alcohol</th>\n",
       "      <th>percentage expenditure</th>\n",
       "      <th>Hepatitis B</th>\n",
       "      <th>Measles</th>\n",
       "      <th>...</th>\n",
       "      <th>Polio</th>\n",
       "      <th>Total expenditure</th>\n",
       "      <th>Diphtheria</th>\n",
       "      <th>HIV/AIDS</th>\n",
       "      <th>GDP</th>\n",
       "      <th>Population</th>\n",
       "      <th>thinness  1-19 years</th>\n",
       "      <th>thinness 5-9 years</th>\n",
       "      <th>Income composition of resources</th>\n",
       "      <th>Schooling</th>\n",
       "    </tr>\n",
       "  </thead>\n",
       "  <tbody>\n",
       "    <tr>\n",
       "      <th>0</th>\n",
       "      <td>Afghanistan</td>\n",
       "      <td>2015</td>\n",
       "      <td>Developing</td>\n",
       "      <td>65.0</td>\n",
       "      <td>263.0</td>\n",
       "      <td>62</td>\n",
       "      <td>0.01</td>\n",
       "      <td>71.279624</td>\n",
       "      <td>65.0</td>\n",
       "      <td>1154</td>\n",
       "      <td>...</td>\n",
       "      <td>6.0</td>\n",
       "      <td>8.16</td>\n",
       "      <td>65.0</td>\n",
       "      <td>0.1</td>\n",
       "      <td>584.259210</td>\n",
       "      <td>33736494.0</td>\n",
       "      <td>17.2</td>\n",
       "      <td>17.3</td>\n",
       "      <td>0.479</td>\n",
       "      <td>10.1</td>\n",
       "    </tr>\n",
       "    <tr>\n",
       "      <th>1</th>\n",
       "      <td>Afghanistan</td>\n",
       "      <td>2014</td>\n",
       "      <td>Developing</td>\n",
       "      <td>59.9</td>\n",
       "      <td>271.0</td>\n",
       "      <td>64</td>\n",
       "      <td>0.01</td>\n",
       "      <td>73.523582</td>\n",
       "      <td>62.0</td>\n",
       "      <td>492</td>\n",
       "      <td>...</td>\n",
       "      <td>58.0</td>\n",
       "      <td>8.18</td>\n",
       "      <td>62.0</td>\n",
       "      <td>0.1</td>\n",
       "      <td>612.696514</td>\n",
       "      <td>327582.0</td>\n",
       "      <td>17.5</td>\n",
       "      <td>17.5</td>\n",
       "      <td>0.476</td>\n",
       "      <td>10.0</td>\n",
       "    </tr>\n",
       "    <tr>\n",
       "      <th>2</th>\n",
       "      <td>Afghanistan</td>\n",
       "      <td>2013</td>\n",
       "      <td>Developing</td>\n",
       "      <td>59.9</td>\n",
       "      <td>268.0</td>\n",
       "      <td>66</td>\n",
       "      <td>0.01</td>\n",
       "      <td>73.219243</td>\n",
       "      <td>64.0</td>\n",
       "      <td>430</td>\n",
       "      <td>...</td>\n",
       "      <td>62.0</td>\n",
       "      <td>8.13</td>\n",
       "      <td>64.0</td>\n",
       "      <td>0.1</td>\n",
       "      <td>631.744976</td>\n",
       "      <td>31731688.0</td>\n",
       "      <td>17.7</td>\n",
       "      <td>17.7</td>\n",
       "      <td>0.470</td>\n",
       "      <td>9.9</td>\n",
       "    </tr>\n",
       "    <tr>\n",
       "      <th>3</th>\n",
       "      <td>Afghanistan</td>\n",
       "      <td>2012</td>\n",
       "      <td>Developing</td>\n",
       "      <td>59.5</td>\n",
       "      <td>272.0</td>\n",
       "      <td>69</td>\n",
       "      <td>0.01</td>\n",
       "      <td>78.184215</td>\n",
       "      <td>67.0</td>\n",
       "      <td>2787</td>\n",
       "      <td>...</td>\n",
       "      <td>67.0</td>\n",
       "      <td>8.52</td>\n",
       "      <td>67.0</td>\n",
       "      <td>0.1</td>\n",
       "      <td>669.959000</td>\n",
       "      <td>3696958.0</td>\n",
       "      <td>17.9</td>\n",
       "      <td>18.0</td>\n",
       "      <td>0.463</td>\n",
       "      <td>9.8</td>\n",
       "    </tr>\n",
       "    <tr>\n",
       "      <th>4</th>\n",
       "      <td>Afghanistan</td>\n",
       "      <td>2011</td>\n",
       "      <td>Developing</td>\n",
       "      <td>59.2</td>\n",
       "      <td>275.0</td>\n",
       "      <td>71</td>\n",
       "      <td>0.01</td>\n",
       "      <td>7.097109</td>\n",
       "      <td>68.0</td>\n",
       "      <td>3013</td>\n",
       "      <td>...</td>\n",
       "      <td>68.0</td>\n",
       "      <td>7.87</td>\n",
       "      <td>68.0</td>\n",
       "      <td>0.1</td>\n",
       "      <td>63.537231</td>\n",
       "      <td>2978599.0</td>\n",
       "      <td>18.2</td>\n",
       "      <td>18.2</td>\n",
       "      <td>0.454</td>\n",
       "      <td>9.5</td>\n",
       "    </tr>\n",
       "    <tr>\n",
       "      <th>...</th>\n",
       "      <td>...</td>\n",
       "      <td>...</td>\n",
       "      <td>...</td>\n",
       "      <td>...</td>\n",
       "      <td>...</td>\n",
       "      <td>...</td>\n",
       "      <td>...</td>\n",
       "      <td>...</td>\n",
       "      <td>...</td>\n",
       "      <td>...</td>\n",
       "      <td>...</td>\n",
       "      <td>...</td>\n",
       "      <td>...</td>\n",
       "      <td>...</td>\n",
       "      <td>...</td>\n",
       "      <td>...</td>\n",
       "      <td>...</td>\n",
       "      <td>...</td>\n",
       "      <td>...</td>\n",
       "      <td>...</td>\n",
       "      <td>...</td>\n",
       "    </tr>\n",
       "    <tr>\n",
       "      <th>2933</th>\n",
       "      <td>Zimbabwe</td>\n",
       "      <td>2004</td>\n",
       "      <td>Developing</td>\n",
       "      <td>44.3</td>\n",
       "      <td>723.0</td>\n",
       "      <td>27</td>\n",
       "      <td>4.36</td>\n",
       "      <td>0.000000</td>\n",
       "      <td>68.0</td>\n",
       "      <td>31</td>\n",
       "      <td>...</td>\n",
       "      <td>67.0</td>\n",
       "      <td>7.13</td>\n",
       "      <td>65.0</td>\n",
       "      <td>33.6</td>\n",
       "      <td>454.366654</td>\n",
       "      <td>12777511.0</td>\n",
       "      <td>9.4</td>\n",
       "      <td>9.4</td>\n",
       "      <td>0.407</td>\n",
       "      <td>9.2</td>\n",
       "    </tr>\n",
       "    <tr>\n",
       "      <th>2934</th>\n",
       "      <td>Zimbabwe</td>\n",
       "      <td>2003</td>\n",
       "      <td>Developing</td>\n",
       "      <td>44.5</td>\n",
       "      <td>715.0</td>\n",
       "      <td>26</td>\n",
       "      <td>4.06</td>\n",
       "      <td>0.000000</td>\n",
       "      <td>7.0</td>\n",
       "      <td>998</td>\n",
       "      <td>...</td>\n",
       "      <td>7.0</td>\n",
       "      <td>6.52</td>\n",
       "      <td>68.0</td>\n",
       "      <td>36.7</td>\n",
       "      <td>453.351155</td>\n",
       "      <td>12633897.0</td>\n",
       "      <td>9.8</td>\n",
       "      <td>9.9</td>\n",
       "      <td>0.418</td>\n",
       "      <td>9.5</td>\n",
       "    </tr>\n",
       "    <tr>\n",
       "      <th>2935</th>\n",
       "      <td>Zimbabwe</td>\n",
       "      <td>2002</td>\n",
       "      <td>Developing</td>\n",
       "      <td>44.8</td>\n",
       "      <td>73.0</td>\n",
       "      <td>25</td>\n",
       "      <td>4.43</td>\n",
       "      <td>0.000000</td>\n",
       "      <td>73.0</td>\n",
       "      <td>304</td>\n",
       "      <td>...</td>\n",
       "      <td>73.0</td>\n",
       "      <td>6.53</td>\n",
       "      <td>71.0</td>\n",
       "      <td>39.8</td>\n",
       "      <td>57.348340</td>\n",
       "      <td>125525.0</td>\n",
       "      <td>1.2</td>\n",
       "      <td>1.3</td>\n",
       "      <td>0.427</td>\n",
       "      <td>10.0</td>\n",
       "    </tr>\n",
       "    <tr>\n",
       "      <th>2936</th>\n",
       "      <td>Zimbabwe</td>\n",
       "      <td>2001</td>\n",
       "      <td>Developing</td>\n",
       "      <td>45.3</td>\n",
       "      <td>686.0</td>\n",
       "      <td>25</td>\n",
       "      <td>1.72</td>\n",
       "      <td>0.000000</td>\n",
       "      <td>76.0</td>\n",
       "      <td>529</td>\n",
       "      <td>...</td>\n",
       "      <td>76.0</td>\n",
       "      <td>6.16</td>\n",
       "      <td>75.0</td>\n",
       "      <td>42.1</td>\n",
       "      <td>548.587312</td>\n",
       "      <td>12366165.0</td>\n",
       "      <td>1.6</td>\n",
       "      <td>1.7</td>\n",
       "      <td>0.427</td>\n",
       "      <td>9.8</td>\n",
       "    </tr>\n",
       "    <tr>\n",
       "      <th>2937</th>\n",
       "      <td>Zimbabwe</td>\n",
       "      <td>2000</td>\n",
       "      <td>Developing</td>\n",
       "      <td>46.0</td>\n",
       "      <td>665.0</td>\n",
       "      <td>24</td>\n",
       "      <td>1.68</td>\n",
       "      <td>0.000000</td>\n",
       "      <td>79.0</td>\n",
       "      <td>1483</td>\n",
       "      <td>...</td>\n",
       "      <td>78.0</td>\n",
       "      <td>7.10</td>\n",
       "      <td>78.0</td>\n",
       "      <td>43.5</td>\n",
       "      <td>547.358878</td>\n",
       "      <td>12222251.0</td>\n",
       "      <td>11.0</td>\n",
       "      <td>11.2</td>\n",
       "      <td>0.434</td>\n",
       "      <td>9.8</td>\n",
       "    </tr>\n",
       "  </tbody>\n",
       "</table>\n",
       "<p>2938 rows × 22 columns</p>\n",
       "</div>"
      ],
      "text/plain": [
       "          Country  Year      Status  Life expectancy   Adult Mortality  \\\n",
       "0     Afghanistan  2015  Developing              65.0            263.0   \n",
       "1     Afghanistan  2014  Developing              59.9            271.0   \n",
       "2     Afghanistan  2013  Developing              59.9            268.0   \n",
       "3     Afghanistan  2012  Developing              59.5            272.0   \n",
       "4     Afghanistan  2011  Developing              59.2            275.0   \n",
       "...           ...   ...         ...               ...              ...   \n",
       "2933     Zimbabwe  2004  Developing              44.3            723.0   \n",
       "2934     Zimbabwe  2003  Developing              44.5            715.0   \n",
       "2935     Zimbabwe  2002  Developing              44.8             73.0   \n",
       "2936     Zimbabwe  2001  Developing              45.3            686.0   \n",
       "2937     Zimbabwe  2000  Developing              46.0            665.0   \n",
       "\n",
       "      infant deaths  Alcohol  percentage expenditure  Hepatitis B  Measles   \\\n",
       "0                62     0.01               71.279624         65.0      1154   \n",
       "1                64     0.01               73.523582         62.0       492   \n",
       "2                66     0.01               73.219243         64.0       430   \n",
       "3                69     0.01               78.184215         67.0      2787   \n",
       "4                71     0.01                7.097109         68.0      3013   \n",
       "...             ...      ...                     ...          ...       ...   \n",
       "2933             27     4.36                0.000000         68.0        31   \n",
       "2934             26     4.06                0.000000          7.0       998   \n",
       "2935             25     4.43                0.000000         73.0       304   \n",
       "2936             25     1.72                0.000000         76.0       529   \n",
       "2937             24     1.68                0.000000         79.0      1483   \n",
       "\n",
       "      ...  Polio  Total expenditure  Diphtheria    HIV/AIDS         GDP  \\\n",
       "0     ...    6.0               8.16         65.0        0.1  584.259210   \n",
       "1     ...   58.0               8.18         62.0        0.1  612.696514   \n",
       "2     ...   62.0               8.13         64.0        0.1  631.744976   \n",
       "3     ...   67.0               8.52         67.0        0.1  669.959000   \n",
       "4     ...   68.0               7.87         68.0        0.1   63.537231   \n",
       "...   ...    ...                ...          ...        ...         ...   \n",
       "2933  ...   67.0               7.13         65.0       33.6  454.366654   \n",
       "2934  ...    7.0               6.52         68.0       36.7  453.351155   \n",
       "2935  ...   73.0               6.53         71.0       39.8   57.348340   \n",
       "2936  ...   76.0               6.16         75.0       42.1  548.587312   \n",
       "2937  ...   78.0               7.10         78.0       43.5  547.358878   \n",
       "\n",
       "      Population   thinness  1-19 years   thinness 5-9 years  \\\n",
       "0     33736494.0                   17.2                 17.3   \n",
       "1       327582.0                   17.5                 17.5   \n",
       "2     31731688.0                   17.7                 17.7   \n",
       "3      3696958.0                   17.9                 18.0   \n",
       "4      2978599.0                   18.2                 18.2   \n",
       "...          ...                    ...                  ...   \n",
       "2933  12777511.0                    9.4                  9.4   \n",
       "2934  12633897.0                    9.8                  9.9   \n",
       "2935    125525.0                    1.2                  1.3   \n",
       "2936  12366165.0                    1.6                  1.7   \n",
       "2937  12222251.0                   11.0                 11.2   \n",
       "\n",
       "      Income composition of resources  Schooling  \n",
       "0                               0.479       10.1  \n",
       "1                               0.476       10.0  \n",
       "2                               0.470        9.9  \n",
       "3                               0.463        9.8  \n",
       "4                               0.454        9.5  \n",
       "...                               ...        ...  \n",
       "2933                            0.407        9.2  \n",
       "2934                            0.418        9.5  \n",
       "2935                            0.427       10.0  \n",
       "2936                            0.427        9.8  \n",
       "2937                            0.434        9.8  \n",
       "\n",
       "[2938 rows x 22 columns]"
      ]
     },
     "execution_count": 11,
     "metadata": {},
     "output_type": "execute_result"
    }
   ],
   "source": [
    "who.drop_duplicates()"
   ]
  },
  {
   "cell_type": "markdown",
   "id": "4566f6c6",
   "metadata": {},
   "source": [
    "# Checking for column uniform names"
   ]
  },
  {
   "cell_type": "code",
   "execution_count": 12,
   "id": "4f2bf7c4",
   "metadata": {},
   "outputs": [
    {
     "data": {
      "text/plain": [
       "Index(['Country', 'Year', 'Status', 'Life expectancy ', 'Adult Mortality',\n",
       "       'infant deaths', 'Alcohol', 'percentage expenditure', 'Hepatitis B',\n",
       "       'Measles ', ' BMI ', 'under-five deaths ', 'Polio', 'Total expenditure',\n",
       "       'Diphtheria ', ' HIV/AIDS', 'GDP', 'Population',\n",
       "       ' thinness  1-19 years', ' thinness 5-9 years',\n",
       "       'Income composition of resources', 'Schooling'],\n",
       "      dtype='object')"
      ]
     },
     "execution_count": 12,
     "metadata": {},
     "output_type": "execute_result"
    }
   ],
   "source": [
    "who.columns"
   ]
  },
  {
   "cell_type": "markdown",
   "id": "c932b8f1",
   "metadata": {},
   "source": [
    "# Standardizing column names"
   ]
  },
  {
   "cell_type": "code",
   "execution_count": 13,
   "id": "bfd230ee",
   "metadata": {},
   "outputs": [],
   "source": [
    "who.rename(columns={'Life expectancy ' : 'life expectancy'}, inplace=True)"
   ]
  },
  {
   "cell_type": "code",
   "execution_count": 14,
   "id": "7aa26a47",
   "metadata": {},
   "outputs": [],
   "source": [
    "who.rename(columns={'Measles '  : 'measles'}, inplace=True)"
   ]
  },
  {
   "cell_type": "code",
   "execution_count": 15,
   "id": "7c91ff28",
   "metadata": {},
   "outputs": [],
   "source": [
    "who.rename(columns={' BMI ' : 'bmi'}, inplace=True)"
   ]
  },
  {
   "cell_type": "code",
   "execution_count": 16,
   "id": "f887e1dd",
   "metadata": {},
   "outputs": [],
   "source": [
    "who.rename(columns={'under-five deaths ' : 'under-five deaths'}, inplace=True)"
   ]
  },
  {
   "cell_type": "code",
   "execution_count": 17,
   "id": "2b8a295d",
   "metadata": {},
   "outputs": [],
   "source": [
    "who.rename(columns={'Diphtheria ' : 'diphtheria'}, inplace=True)"
   ]
  },
  {
   "cell_type": "code",
   "execution_count": 18,
   "id": "032482ea",
   "metadata": {},
   "outputs": [],
   "source": [
    "who.rename(columns={' HIV/AIDS' : 'hiv/aids'}, inplace=True)"
   ]
  },
  {
   "cell_type": "code",
   "execution_count": 19,
   "id": "444d0979",
   "metadata": {},
   "outputs": [],
   "source": [
    "who.rename(columns={' thinness  1-19 years' : 'thinness 1-19 years'}, inplace=True)"
   ]
  },
  {
   "cell_type": "code",
   "execution_count": 20,
   "id": "6a3a001a",
   "metadata": {},
   "outputs": [],
   "source": [
    "who.rename(columns={' thinness 5-9 years' : 'thinness 5-9 years'}, inplace=True)"
   ]
  },
  {
   "cell_type": "code",
   "execution_count": 21,
   "id": "2cc64373",
   "metadata": {},
   "outputs": [],
   "source": [
    "who.columns= who.columns.str.lower()"
   ]
  },
  {
   "cell_type": "code",
   "execution_count": 22,
   "id": "defaa92f",
   "metadata": {},
   "outputs": [
    {
     "data": {
      "text/plain": [
       "Index(['country', 'year', 'status', 'life expectancy', 'adult mortality',\n",
       "       'infant deaths', 'alcohol', 'percentage expenditure', 'hepatitis b',\n",
       "       'measles', 'bmi', 'under-five deaths', 'polio', 'total expenditure',\n",
       "       'diphtheria', 'hiv/aids', 'gdp', 'population', 'thinness 1-19 years',\n",
       "       'thinness 5-9 years', 'income composition of resources', 'schooling'],\n",
       "      dtype='object')"
      ]
     },
     "execution_count": 22,
     "metadata": {},
     "output_type": "execute_result"
    }
   ],
   "source": [
    "who.columns"
   ]
  },
  {
   "cell_type": "markdown",
   "id": "950aae5e",
   "metadata": {},
   "source": [
    "# Standardizing country names"
   ]
  },
  {
   "cell_type": "code",
   "execution_count": 23,
   "id": "fae7740a",
   "metadata": {},
   "outputs": [
    {
     "data": {
      "text/plain": [
       "array(['Afghanistan', 'Albania', 'Algeria', 'Angola',\n",
       "       'Antigua and Barbuda', 'Argentina', 'Armenia', 'Australia',\n",
       "       'Austria', 'Azerbaijan', 'Bahamas', 'Bahrain', 'Bangladesh',\n",
       "       'Barbados', 'Belarus', 'Belgium', 'Belize', 'Benin', 'Bhutan',\n",
       "       'Bolivia (Plurinational State of)', 'Bosnia and Herzegovina',\n",
       "       'Botswana', 'Brazil', 'Brunei Darussalam', 'Bulgaria',\n",
       "       'Burkina Faso', 'Burundi', \"Côte d'Ivoire\", 'Cabo Verde',\n",
       "       'Cambodia', 'Cameroon', 'Canada', 'Central African Republic',\n",
       "       'Chad', 'Chile', 'China', 'Colombia', 'Comoros', 'Congo',\n",
       "       'Cook Islands', 'Costa Rica', 'Croatia', 'Cuba', 'Cyprus',\n",
       "       'Czechia', \"Democratic People's Republic of Korea\",\n",
       "       'Democratic Republic of the Congo', 'Denmark', 'Djibouti',\n",
       "       'Dominica', 'Dominican Republic', 'Ecuador', 'Egypt',\n",
       "       'El Salvador', 'Equatorial Guinea', 'Eritrea', 'Estonia',\n",
       "       'Ethiopia', 'Fiji', 'Finland', 'France', 'Gabon', 'Gambia',\n",
       "       'Georgia', 'Germany', 'Ghana', 'Greece', 'Grenada', 'Guatemala',\n",
       "       'Guinea', 'Guinea-Bissau', 'Guyana', 'Haiti', 'Honduras',\n",
       "       'Hungary', 'Iceland', 'India', 'Indonesia',\n",
       "       'Iran (Islamic Republic of)', 'Iraq', 'Ireland', 'Israel', 'Italy',\n",
       "       'Jamaica', 'Japan', 'Jordan', 'Kazakhstan', 'Kenya', 'Kiribati',\n",
       "       'Kuwait', 'Kyrgyzstan', \"Lao People's Democratic Republic\",\n",
       "       'Latvia', 'Lebanon', 'Lesotho', 'Liberia', 'Libya', 'Lithuania',\n",
       "       'Luxembourg', 'Madagascar', 'Malawi', 'Malaysia', 'Maldives',\n",
       "       'Mali', 'Malta', 'Marshall Islands', 'Mauritania', 'Mauritius',\n",
       "       'Mexico', 'Micronesia (Federated States of)', 'Monaco', 'Mongolia',\n",
       "       'Montenegro', 'Morocco', 'Mozambique', 'Myanmar', 'Namibia',\n",
       "       'Nauru', 'Nepal', 'Netherlands', 'New Zealand', 'Nicaragua',\n",
       "       'Niger', 'Nigeria', 'Niue', 'Norway', 'Oman', 'Pakistan', 'Palau',\n",
       "       'Panama', 'Papua New Guinea', 'Paraguay', 'Peru', 'Philippines',\n",
       "       'Poland', 'Portugal', 'Qatar', 'Republic of Korea',\n",
       "       'Republic of Moldova', 'Romania', 'Russian Federation', 'Rwanda',\n",
       "       'Saint Kitts and Nevis', 'Saint Lucia',\n",
       "       'Saint Vincent and the Grenadines', 'Samoa', 'San Marino',\n",
       "       'Sao Tome and Principe', 'Saudi Arabia', 'Senegal', 'Serbia',\n",
       "       'Seychelles', 'Sierra Leone', 'Singapore', 'Slovakia', 'Slovenia',\n",
       "       'Solomon Islands', 'Somalia', 'South Africa', 'South Sudan',\n",
       "       'Spain', 'Sri Lanka', 'Sudan', 'Suriname', 'Swaziland', 'Sweden',\n",
       "       'Switzerland', 'Syrian Arab Republic', 'Tajikistan', 'Thailand',\n",
       "       'The former Yugoslav republic of Macedonia', 'Timor-Leste', 'Togo',\n",
       "       'Tonga', 'Trinidad and Tobago', 'Tunisia', 'Turkey',\n",
       "       'Turkmenistan', 'Tuvalu', 'Uganda', 'Ukraine',\n",
       "       'United Arab Emirates',\n",
       "       'United Kingdom of Great Britain and Northern Ireland',\n",
       "       'United Republic of Tanzania', 'United States of America',\n",
       "       'Uruguay', 'Uzbekistan', 'Vanuatu',\n",
       "       'Venezuela (Bolivarian Republic of)', 'Viet Nam', 'Yemen',\n",
       "       'Zambia', 'Zimbabwe'], dtype=object)"
      ]
     },
     "execution_count": 23,
     "metadata": {},
     "output_type": "execute_result"
    }
   ],
   "source": [
    "who['country'].unique()"
   ]
  },
  {
   "cell_type": "code",
   "execution_count": 24,
   "id": "d6808f30",
   "metadata": {},
   "outputs": [],
   "source": [
    "who.replace('Brunei Darussalam', 'Brunei', inplace=True)"
   ]
  },
  {
   "cell_type": "code",
   "execution_count": 25,
   "id": "54c6a55f",
   "metadata": {},
   "outputs": [],
   "source": [
    "who.replace('Bolivia (Plurinational State of)', 'Bolivia', inplace=True)"
   ]
  },
  {
   "cell_type": "code",
   "execution_count": 26,
   "id": "85d41655",
   "metadata": {},
   "outputs": [],
   "source": [
    "who.replace('Cabo Verde', 'Cape Verde', inplace=True)"
   ]
  },
  {
   "cell_type": "code",
   "execution_count": 27,
   "id": "7b4d53fa",
   "metadata": {},
   "outputs": [],
   "source": [
    "who.replace(\"Democratic People's Republic of Korea\", \"North Korea\", inplace=True)"
   ]
  },
  {
   "cell_type": "code",
   "execution_count": 28,
   "id": "f1e19492",
   "metadata": {},
   "outputs": [],
   "source": [
    "who.replace(\"Democratic Republic of the Congo\", \"Congo\", inplace=True)"
   ]
  },
  {
   "cell_type": "code",
   "execution_count": 29,
   "id": "8f0164fa",
   "metadata": {},
   "outputs": [],
   "source": [
    "who.replace('Iran (Islamic Republic of)', 'Iran', inplace=True)"
   ]
  },
  {
   "cell_type": "code",
   "execution_count": 30,
   "id": "e29b2bf9",
   "metadata": {},
   "outputs": [],
   "source": [
    "who.replace(\"Lao People's Democratic Republic\", \"Laos\", inplace=True)"
   ]
  },
  {
   "cell_type": "code",
   "execution_count": 31,
   "id": "124b403d",
   "metadata": {},
   "outputs": [],
   "source": [
    "who.replace(\"Micronesia (Federated States of)\", \"Micronesia\", inplace=True)"
   ]
  },
  {
   "cell_type": "code",
   "execution_count": 32,
   "id": "1abb9c4f",
   "metadata": {},
   "outputs": [],
   "source": [
    "who.replace(\"Republic of Korea\", \"South Republic of Korea\", inplace=True)"
   ]
  },
  {
   "cell_type": "code",
   "execution_count": 33,
   "id": "22475333",
   "metadata": {},
   "outputs": [],
   "source": [
    "who.replace(\"Republic of Moldova\", \"Moldova\", inplace=True)"
   ]
  },
  {
   "cell_type": "code",
   "execution_count": 34,
   "id": "8df0aae1",
   "metadata": {},
   "outputs": [],
   "source": [
    "who.replace(\"Russian Federation\", \"Russia\", inplace=True)"
   ]
  },
  {
   "cell_type": "code",
   "execution_count": 35,
   "id": "064ec2b1",
   "metadata": {},
   "outputs": [],
   "source": [
    "who.replace(\"Syrian Arab Republic\", \"Syria\", inplace=True)"
   ]
  },
  {
   "cell_type": "code",
   "execution_count": 36,
   "id": "f067e3af",
   "metadata": {},
   "outputs": [],
   "source": [
    "who.replace(\"The former Yugoslav republic of Macedonia\", \"Macedonia\", inplace=True)"
   ]
  },
  {
   "cell_type": "code",
   "execution_count": 37,
   "id": "c8a231a7",
   "metadata": {},
   "outputs": [],
   "source": [
    "who.replace(\"United Kingdom of Great Britain and Northern Ireland\", \"United Kingdom\", inplace=True)"
   ]
  },
  {
   "cell_type": "code",
   "execution_count": 38,
   "id": "47fe6855",
   "metadata": {},
   "outputs": [],
   "source": [
    "who.replace(\"United Republic of Tanzania\", \"Tanzania\", inplace=True)"
   ]
  },
  {
   "cell_type": "code",
   "execution_count": 39,
   "id": "0de5c511",
   "metadata": {},
   "outputs": [],
   "source": [
    "who.replace(\"United States of America\", \"America\", inplace=True)"
   ]
  },
  {
   "cell_type": "code",
   "execution_count": 40,
   "id": "06182f9d",
   "metadata": {},
   "outputs": [],
   "source": [
    "who.replace(\"America\", \"United States\", inplace=True)"
   ]
  },
  {
   "cell_type": "code",
   "execution_count": 41,
   "id": "c2a61f81",
   "metadata": {},
   "outputs": [],
   "source": [
    "who.replace(\"Venezuela (Bolivarian Republic of)\", \"Venezuela\", inplace=True)"
   ]
  },
  {
   "cell_type": "code",
   "execution_count": 42,
   "id": "a977f1e5",
   "metadata": {},
   "outputs": [],
   "source": [
    "who.replace(\"Viet Nam\", \"Vietnam\", inplace=True)"
   ]
  },
  {
   "cell_type": "code",
   "execution_count": 43,
   "id": "3a1f5b9f",
   "metadata": {},
   "outputs": [
    {
     "data": {
      "text/plain": [
       "array(['Afghanistan', 'Albania', 'Algeria', 'Angola',\n",
       "       'Antigua and Barbuda', 'Argentina', 'Armenia', 'Australia',\n",
       "       'Austria', 'Azerbaijan', 'Bahamas', 'Bahrain', 'Bangladesh',\n",
       "       'Barbados', 'Belarus', 'Belgium', 'Belize', 'Benin', 'Bhutan',\n",
       "       'Bolivia', 'Bosnia and Herzegovina', 'Botswana', 'Brazil',\n",
       "       'Brunei', 'Bulgaria', 'Burkina Faso', 'Burundi', \"Côte d'Ivoire\",\n",
       "       'Cape Verde', 'Cambodia', 'Cameroon', 'Canada',\n",
       "       'Central African Republic', 'Chad', 'Chile', 'China', 'Colombia',\n",
       "       'Comoros', 'Congo', 'Cook Islands', 'Costa Rica', 'Croatia',\n",
       "       'Cuba', 'Cyprus', 'Czechia', 'North Korea', 'Denmark', 'Djibouti',\n",
       "       'Dominica', 'Dominican Republic', 'Ecuador', 'Egypt',\n",
       "       'El Salvador', 'Equatorial Guinea', 'Eritrea', 'Estonia',\n",
       "       'Ethiopia', 'Fiji', 'Finland', 'France', 'Gabon', 'Gambia',\n",
       "       'Georgia', 'Germany', 'Ghana', 'Greece', 'Grenada', 'Guatemala',\n",
       "       'Guinea', 'Guinea-Bissau', 'Guyana', 'Haiti', 'Honduras',\n",
       "       'Hungary', 'Iceland', 'India', 'Indonesia', 'Iran', 'Iraq',\n",
       "       'Ireland', 'Israel', 'Italy', 'Jamaica', 'Japan', 'Jordan',\n",
       "       'Kazakhstan', 'Kenya', 'Kiribati', 'Kuwait', 'Kyrgyzstan', 'Laos',\n",
       "       'Latvia', 'Lebanon', 'Lesotho', 'Liberia', 'Libya', 'Lithuania',\n",
       "       'Luxembourg', 'Madagascar', 'Malawi', 'Malaysia', 'Maldives',\n",
       "       'Mali', 'Malta', 'Marshall Islands', 'Mauritania', 'Mauritius',\n",
       "       'Mexico', 'Micronesia', 'Monaco', 'Mongolia', 'Montenegro',\n",
       "       'Morocco', 'Mozambique', 'Myanmar', 'Namibia', 'Nauru', 'Nepal',\n",
       "       'Netherlands', 'New Zealand', 'Nicaragua', 'Niger', 'Nigeria',\n",
       "       'Niue', 'Norway', 'Oman', 'Pakistan', 'Palau', 'Panama',\n",
       "       'Papua New Guinea', 'Paraguay', 'Peru', 'Philippines', 'Poland',\n",
       "       'Portugal', 'Qatar', 'South Republic of Korea', 'Moldova',\n",
       "       'Romania', 'Russia', 'Rwanda', 'Saint Kitts and Nevis',\n",
       "       'Saint Lucia', 'Saint Vincent and the Grenadines', 'Samoa',\n",
       "       'San Marino', 'Sao Tome and Principe', 'Saudi Arabia', 'Senegal',\n",
       "       'Serbia', 'Seychelles', 'Sierra Leone', 'Singapore', 'Slovakia',\n",
       "       'Slovenia', 'Solomon Islands', 'Somalia', 'South Africa',\n",
       "       'South Sudan', 'Spain', 'Sri Lanka', 'Sudan', 'Suriname',\n",
       "       'Swaziland', 'Sweden', 'Switzerland', 'Syria', 'Tajikistan',\n",
       "       'Thailand', 'Macedonia', 'Timor-Leste', 'Togo', 'Tonga',\n",
       "       'Trinidad and Tobago', 'Tunisia', 'Turkey', 'Turkmenistan',\n",
       "       'Tuvalu', 'Uganda', 'Ukraine', 'United Arab Emirates',\n",
       "       'United Kingdom', 'Tanzania', 'United States', 'Uruguay',\n",
       "       'Uzbekistan', 'Vanuatu', 'Venezuela', 'Vietnam', 'Yemen', 'Zambia',\n",
       "       'Zimbabwe'], dtype=object)"
      ]
     },
     "execution_count": 43,
     "metadata": {},
     "output_type": "execute_result"
    }
   ],
   "source": [
    "who['country'].unique()"
   ]
  },
  {
   "cell_type": "markdown",
   "id": "ed4c2c53",
   "metadata": {},
   "source": [
    "# Checking skewness of dataframe"
   ]
  },
  {
   "cell_type": "code",
   "execution_count": 44,
   "id": "ac75f607",
   "metadata": {},
   "outputs": [
    {
     "name": "stderr",
     "output_type": "stream",
     "text": [
      "/var/folders/z7/h39z8zd55hb3q_stjqd0sqgm0000gn/T/ipykernel_4278/1374744912.py:1: FutureWarning: Dropping of nuisance columns in DataFrame reductions (with 'numeric_only=None') is deprecated; in a future version this will raise TypeError.  Select only valid columns before calling the reduction.\n",
      "  who.skew(axis = 0, skipna = False)\n"
     ]
    },
    {
     "data": {
      "text/plain": [
       "year                               -0.006409\n",
       "life expectancy                    -0.642391\n",
       "adult mortality                     1.177899\n",
       "infant deaths                       9.786963\n",
       "alcohol                             0.649578\n",
       "percentage expenditure              4.652051\n",
       "hepatitis b                        -2.281697\n",
       "measles                             9.441332\n",
       "bmi                                -0.229157\n",
       "under-five deaths                   9.495065\n",
       "polio                              -2.108909\n",
       "total expenditure                   0.661108\n",
       "diphtheria                         -2.083566\n",
       "hiv/aids                            5.396112\n",
       "gdp                                 3.543756\n",
       "population                         17.972837\n",
       "thinness 1-19 years                 1.729496\n",
       "thinness 5-9 years                  1.795694\n",
       "income composition of resources    -1.212526\n",
       "schooling                          -0.635052\n",
       "dtype: float64"
      ]
     },
     "execution_count": 44,
     "metadata": {},
     "output_type": "execute_result"
    }
   ],
   "source": [
    "who.skew(axis = 0, skipna = False)"
   ]
  },
  {
   "cell_type": "markdown",
   "id": "bb2ad57e",
   "metadata": {},
   "source": [
    "# Building correlation heatmap"
   ]
  },
  {
   "cell_type": "code",
   "execution_count": 45,
   "id": "9bd31678",
   "metadata": {},
   "outputs": [
    {
     "data": {
      "image/png": "[encoded data removed]",
      "text/plain": [
       "<Figure size 1080x864 with 2 Axes>"
      ]
     },
     "metadata": {
      "needs_background": "light"
     },
     "output_type": "display_data"
    }
   ],
   "source": [
    "corr = who.corr()\n",
    "mask = np.zeros_like(corr)\n",
    "mask[np.triu_indices_from(mask)] = True\n",
    "with sns.axes_style(\"white\"):\n",
    "    f, ax = plt.subplots(figsize=(15, 12))\n",
    "    ax = sns.heatmap(corr, mask=mask,cmap='coolwarm', vmin=-1,vmax=1,annot=True, square=True)\n",
    "\n",
    "\n",
    "\n"
   ]
  },
  {
   "cell_type": "markdown",
   "id": "ad624d79",
   "metadata": {},
   "source": [
    "# Identifying highly correlated columns"
   ]
  },
  {
   "cell_type": "code",
   "execution_count": 46,
   "id": "72bfa9f6",
   "metadata": {},
   "outputs": [
    {
     "data": {
      "text/plain": [
       "['under-five deaths', 'gdp', 'thinness 5-9 years']"
      ]
     },
     "execution_count": 46,
     "metadata": {},
     "output_type": "execute_result"
    }
   ],
   "source": [
    "corr_matrix=who.corr().abs()\n",
    "upper_triangle=corr_matrix.where(np.triu(np.ones(corr_matrix.shape),k=1).astype(bool))\n",
    "[column for column in upper_triangle.columns if any(upper_triangle[column] >= 0.80)]\n",
    "\n"
   ]
  },
  {
   "cell_type": "markdown",
   "id": "dcb8029a",
   "metadata": {},
   "source": [
    "# Dropping highly correlated columns"
   ]
  },
  {
   "cell_type": "code",
   "execution_count": 47,
   "id": "e6f234ae",
   "metadata": {},
   "outputs": [],
   "source": [
    "who.drop(['under-five deaths', 'gdp', 'thinness 5-9 years'],axis=1,inplace=True)"
   ]
  },
  {
   "cell_type": "markdown",
   "id": "604886b1",
   "metadata": {},
   "source": [
    "# Dividing categoricals/numericals"
   ]
  },
  {
   "cell_type": "code",
   "execution_count": 48,
   "id": "7c9d1255",
   "metadata": {},
   "outputs": [],
   "source": [
    "who_categoricals = pd.concat([who['country'], who['status']], axis = 1)"
   ]
  },
  {
   "cell_type": "code",
   "execution_count": 49,
   "id": "3d91c67f",
   "metadata": {},
   "outputs": [
    {
     "data": {
      "text/html": [
       "<div>\n",
       "<style scoped>\n",
       "    .dataframe tbody tr th:only-of-type {\n",
       "        vertical-align: middle;\n",
       "    }\n",
       "\n",
       "    .dataframe tbody tr th {\n",
       "        vertical-align: top;\n",
       "    }\n",
       "\n",
       "    .dataframe thead th {\n",
       "        text-align: right;\n",
       "    }\n",
       "</style>\n",
       "<table border=\"1\" class=\"dataframe\">\n",
       "  <thead>\n",
       "    <tr style=\"text-align: right;\">\n",
       "      <th></th>\n",
       "      <th>country</th>\n",
       "      <th>status</th>\n",
       "    </tr>\n",
       "  </thead>\n",
       "  <tbody>\n",
       "    <tr>\n",
       "      <th>0</th>\n",
       "      <td>Afghanistan</td>\n",
       "      <td>Developing</td>\n",
       "    </tr>\n",
       "    <tr>\n",
       "      <th>1</th>\n",
       "      <td>Afghanistan</td>\n",
       "      <td>Developing</td>\n",
       "    </tr>\n",
       "    <tr>\n",
       "      <th>2</th>\n",
       "      <td>Afghanistan</td>\n",
       "      <td>Developing</td>\n",
       "    </tr>\n",
       "    <tr>\n",
       "      <th>3</th>\n",
       "      <td>Afghanistan</td>\n",
       "      <td>Developing</td>\n",
       "    </tr>\n",
       "    <tr>\n",
       "      <th>4</th>\n",
       "      <td>Afghanistan</td>\n",
       "      <td>Developing</td>\n",
       "    </tr>\n",
       "    <tr>\n",
       "      <th>...</th>\n",
       "      <td>...</td>\n",
       "      <td>...</td>\n",
       "    </tr>\n",
       "    <tr>\n",
       "      <th>2933</th>\n",
       "      <td>Zimbabwe</td>\n",
       "      <td>Developing</td>\n",
       "    </tr>\n",
       "    <tr>\n",
       "      <th>2934</th>\n",
       "      <td>Zimbabwe</td>\n",
       "      <td>Developing</td>\n",
       "    </tr>\n",
       "    <tr>\n",
       "      <th>2935</th>\n",
       "      <td>Zimbabwe</td>\n",
       "      <td>Developing</td>\n",
       "    </tr>\n",
       "    <tr>\n",
       "      <th>2936</th>\n",
       "      <td>Zimbabwe</td>\n",
       "      <td>Developing</td>\n",
       "    </tr>\n",
       "    <tr>\n",
       "      <th>2937</th>\n",
       "      <td>Zimbabwe</td>\n",
       "      <td>Developing</td>\n",
       "    </tr>\n",
       "  </tbody>\n",
       "</table>\n",
       "<p>2938 rows × 2 columns</p>\n",
       "</div>"
      ],
      "text/plain": [
       "          country      status\n",
       "0     Afghanistan  Developing\n",
       "1     Afghanistan  Developing\n",
       "2     Afghanistan  Developing\n",
       "3     Afghanistan  Developing\n",
       "4     Afghanistan  Developing\n",
       "...           ...         ...\n",
       "2933     Zimbabwe  Developing\n",
       "2934     Zimbabwe  Developing\n",
       "2935     Zimbabwe  Developing\n",
       "2936     Zimbabwe  Developing\n",
       "2937     Zimbabwe  Developing\n",
       "\n",
       "[2938 rows x 2 columns]"
      ]
     },
     "execution_count": 49,
     "metadata": {},
     "output_type": "execute_result"
    }
   ],
   "source": [
    "who_categoricals"
   ]
  },
  {
   "cell_type": "code",
   "execution_count": 50,
   "id": "3cc49e56",
   "metadata": {},
   "outputs": [],
   "source": [
    "who_numericals = who._get_numeric_data()"
   ]
  },
  {
   "cell_type": "code",
   "execution_count": 51,
   "id": "b758b405",
   "metadata": {},
   "outputs": [
    {
     "name": "stdout",
     "output_type": "stream",
     "text": [
      "<class 'pandas.core.frame.DataFrame'>\n",
      "RangeIndex: 2938 entries, 0 to 2937\n",
      "Data columns (total 17 columns):\n",
      " #   Column                           Non-Null Count  Dtype  \n",
      "---  ------                           --------------  -----  \n",
      " 0   year                             2938 non-null   int64  \n",
      " 1   life expectancy                  2938 non-null   float64\n",
      " 2   adult mortality                  2938 non-null   float64\n",
      " 3   infant deaths                    2938 non-null   int64  \n",
      " 4   alcohol                          2938 non-null   float64\n",
      " 5   percentage expenditure           2938 non-null   float64\n",
      " 6   hepatitis b                      2938 non-null   float64\n",
      " 7   measles                          2938 non-null   int64  \n",
      " 8   bmi                              2938 non-null   float64\n",
      " 9   polio                            2938 non-null   float64\n",
      " 10  total expenditure                2938 non-null   float64\n",
      " 11  diphtheria                       2938 non-null   float64\n",
      " 12  hiv/aids                         2938 non-null   float64\n",
      " 13  population                       2938 non-null   float64\n",
      " 14  thinness 1-19 years              2938 non-null   float64\n",
      " 15  income composition of resources  2938 non-null   float64\n",
      " 16  schooling                        2938 non-null   float64\n",
      "dtypes: float64(14), int64(3)\n",
      "memory usage: 390.3 KB\n"
     ]
    }
   ],
   "source": [
    "who_numericals.info()"
   ]
  },
  {
   "cell_type": "markdown",
   "id": "9021fd4b",
   "metadata": {},
   "source": [
    "# Defining X1, y1 (Linear regression, w/o Hot Coding)"
   ]
  },
  {
   "cell_type": "code",
   "execution_count": 52,
   "id": "4c18aea7",
   "metadata": {},
   "outputs": [],
   "source": [
    "X1 = who_numericals"
   ]
  },
  {
   "cell_type": "code",
   "execution_count": 53,
   "id": "507b076e",
   "metadata": {},
   "outputs": [],
   "source": [
    "X1 = X1.drop(['life expectancy'], axis=1)"
   ]
  },
  {
   "cell_type": "code",
   "execution_count": 54,
   "id": "185cb801",
   "metadata": {},
   "outputs": [
    {
     "name": "stdout",
     "output_type": "stream",
     "text": [
      "<class 'pandas.core.frame.DataFrame'>\n",
      "RangeIndex: 2938 entries, 0 to 2937\n",
      "Data columns (total 16 columns):\n",
      " #   Column                           Non-Null Count  Dtype  \n",
      "---  ------                           --------------  -----  \n",
      " 0   year                             2938 non-null   int64  \n",
      " 1   adult mortality                  2938 non-null   float64\n",
      " 2   infant deaths                    2938 non-null   int64  \n",
      " 3   alcohol                          2938 non-null   float64\n",
      " 4   percentage expenditure           2938 non-null   float64\n",
      " 5   hepatitis b                      2938 non-null   float64\n",
      " 6   measles                          2938 non-null   int64  \n",
      " 7   bmi                              2938 non-null   float64\n",
      " 8   polio                            2938 non-null   float64\n",
      " 9   total expenditure                2938 non-null   float64\n",
      " 10  diphtheria                       2938 non-null   float64\n",
      " 11  hiv/aids                         2938 non-null   float64\n",
      " 12  population                       2938 non-null   float64\n",
      " 13  thinness 1-19 years              2938 non-null   float64\n",
      " 14  income composition of resources  2938 non-null   float64\n",
      " 15  schooling                        2938 non-null   float64\n",
      "dtypes: float64(13), int64(3)\n",
      "memory usage: 367.4 KB\n"
     ]
    }
   ],
   "source": [
    "X1.info()"
   ]
  },
  {
   "cell_type": "code",
   "execution_count": 55,
   "id": "12da7ff8",
   "metadata": {},
   "outputs": [],
   "source": [
    "y1 = who_numericals['life expectancy']"
   ]
  },
  {
   "cell_type": "code",
   "execution_count": 56,
   "id": "4638a581",
   "metadata": {},
   "outputs": [
    {
     "data": {
      "text/plain": [
       "0       65.0\n",
       "1       59.9\n",
       "2       59.9\n",
       "3       59.5\n",
       "4       59.2\n",
       "        ... \n",
       "2933    44.3\n",
       "2934    44.5\n",
       "2935    44.8\n",
       "2936    45.3\n",
       "2937    46.0\n",
       "Name: life expectancy, Length: 2938, dtype: float64"
      ]
     },
     "execution_count": 56,
     "metadata": {},
     "output_type": "execute_result"
    }
   ],
   "source": [
    "y1"
   ]
  },
  {
   "cell_type": "markdown",
   "id": "6b7cce50",
   "metadata": {},
   "source": [
    "# Data splitting X1, y1"
   ]
  },
  {
   "cell_type": "code",
   "execution_count": 57,
   "id": "b18af782",
   "metadata": {},
   "outputs": [],
   "source": [
    "X1_train, X1_test, y1_train, y1_test = train_test_split(X1, y1, test_size=0.20, random_state=42)\n",
    "\n",
    "X1_train = pd.DataFrame(X1_train, columns=X1.columns)\n",
    "X1_test  = pd.DataFrame(X1_test, columns=X1.columns)"
   ]
  },
  {
   "cell_type": "markdown",
   "id": "64d05aa6",
   "metadata": {},
   "source": [
    "# Standardizing Data X1, y1"
   ]
  },
  {
   "cell_type": "code",
   "execution_count": 58,
   "id": "a60bdce8",
   "metadata": {},
   "outputs": [
    {
     "data": {
      "text/plain": [
       "array([[<AxesSubplot:title={'center':'year'}>,\n",
       "        <AxesSubplot:title={'center':'adult mortality'}>,\n",
       "        <AxesSubplot:title={'center':'infant deaths'}>,\n",
       "        <AxesSubplot:title={'center':'alcohol'}>],\n",
       "       [<AxesSubplot:title={'center':'percentage expenditure'}>,\n",
       "        <AxesSubplot:title={'center':'hepatitis b'}>,\n",
       "        <AxesSubplot:title={'center':'measles'}>,\n",
       "        <AxesSubplot:title={'center':'bmi'}>],\n",
       "       [<AxesSubplot:title={'center':'polio'}>,\n",
       "        <AxesSubplot:title={'center':'total expenditure'}>,\n",
       "        <AxesSubplot:title={'center':'diphtheria'}>,\n",
       "        <AxesSubplot:title={'center':'hiv/aids'}>],\n",
       "       [<AxesSubplot:title={'center':'population'}>,\n",
       "        <AxesSubplot:title={'center':'thinness 1-19 years'}>,\n",
       "        <AxesSubplot:title={'center':'income composition of resources'}>,\n",
       "        <AxesSubplot:title={'center':'schooling'}>]], dtype=object)"
      ]
     },
     "execution_count": 58,
     "metadata": {},
     "output_type": "execute_result"
    },
    {
     "data": {
      "image/png": "[encoded data removed]",
      "text/plain": [
       "<Figure size 1008x1008 with 16 Axes>"
      ]
     },
     "metadata": {},
     "output_type": "display_data"
    }
   ],
   "source": [
    " X1.hist(figsize=(14,14))"
   ]
  },
  {
   "cell_type": "code",
   "execution_count": 59,
   "id": "d777b3d0",
   "metadata": {},
   "outputs": [],
   "source": [
    "std_scaler=StandardScaler().fit(X1_train)   \n",
    "\n",
    "X1_train_scaled=std_scaler.transform(X1_train)\n",
    "\n"
   ]
  },
  {
   "cell_type": "code",
   "execution_count": 60,
   "id": "bdabb893",
   "metadata": {},
   "outputs": [],
   "source": [
    "X1_test_scaled=std_scaler.transform(X1_test)"
   ]
  },
  {
   "cell_type": "markdown",
   "id": "96d1890e",
   "metadata": {},
   "source": [
    "# Fitting model (Linear Regression, X1, y1)\n",
    "\n"
   ]
  },
  {
   "cell_type": "code",
   "execution_count": 61,
   "id": "a7e4a7b3",
   "metadata": {},
   "outputs": [
    {
     "data": {
      "text/html": [
       "<style>#sk-container-id-1 {color: black;background-color: white;}#sk-container-id-1 pre{padding: 0;}#sk-container-id-1 div.sk-toggleable {background-color: white;}#sk-container-id-1 label.sk-toggleable__label {cursor: pointer;display: block;width: 100%;margin-bottom: 0;padding: 0.3em;box-sizing: border-box;text-align: center;}#sk-container-id-1 label.sk-toggleable__label-arrow:before {content: \"▸\";float: left;margin-right: 0.25em;color: #696969;}#sk-container-id-1 label.sk-toggleable__label-arrow:hover:before {color: black;}#sk-container-id-1 div.sk-estimator:hover label.sk-toggleable__label-arrow:before {color: black;}#sk-container-id-1 div.sk-toggleable__content {max-height: 0;max-width: 0;overflow: hidden;text-align: left;background-color: #f0f8ff;}#sk-container-id-1 div.sk-toggleable__content pre {margin: 0.2em;color: black;border-radius: 0.25em;background-color: #f0f8ff;}#sk-container-id-1 input.sk-toggleable__control:checked~div.sk-toggleable__content {max-height: 200px;max-width: 100%;overflow: auto;}#sk-container-id-1 input.sk-toggleable__control:checked~label.sk-toggleable__label-arrow:before {content: \"▾\";}#sk-container-id-1 div.sk-estimator input.sk-toggleable__control:checked~label.sk-toggleable__label {background-color: #d4ebff;}#sk-container-id-1 div.sk-label input.sk-toggleable__control:checked~label.sk-toggleable__label {background-color: #d4ebff;}#sk-container-id-1 input.sk-hidden--visually {border: 0;clip: rect(1px 1px 1px 1px);clip: rect(1px, 1px, 1px, 1px);height: 1px;margin: -1px;overflow: hidden;padding: 0;position: absolute;width: 1px;}#sk-container-id-1 div.sk-estimator {font-family: monospace;background-color: #f0f8ff;border: 1px dotted black;border-radius: 0.25em;box-sizing: border-box;margin-bottom: 0.5em;}#sk-container-id-1 div.sk-estimator:hover {background-color: #d4ebff;}#sk-container-id-1 div.sk-parallel-item::after {content: \"\";width: 100%;border-bottom: 1px solid gray;flex-grow: 1;}#sk-container-id-1 div.sk-label:hover label.sk-toggleable__label {background-color: #d4ebff;}#sk-container-id-1 div.sk-serial::before {content: \"\";position: absolute;border-left: 1px solid gray;box-sizing: border-box;top: 0;bottom: 0;left: 50%;z-index: 0;}#sk-container-id-1 div.sk-serial {display: flex;flex-direction: column;align-items: center;background-color: white;padding-right: 0.2em;padding-left: 0.2em;position: relative;}#sk-container-id-1 div.sk-item {position: relative;z-index: 1;}#sk-container-id-1 div.sk-parallel {display: flex;align-items: stretch;justify-content: center;background-color: white;position: relative;}#sk-container-id-1 div.sk-item::before, #sk-container-id-1 div.sk-parallel-item::before {content: \"\";position: absolute;border-left: 1px solid gray;box-sizing: border-box;top: 0;bottom: 0;left: 50%;z-index: -1;}#sk-container-id-1 div.sk-parallel-item {display: flex;flex-direction: column;z-index: 1;position: relative;background-color: white;}#sk-container-id-1 div.sk-parallel-item:first-child::after {align-self: flex-end;width: 50%;}#sk-container-id-1 div.sk-parallel-item:last-child::after {align-self: flex-start;width: 50%;}#sk-container-id-1 div.sk-parallel-item:only-child::after {width: 0;}#sk-container-id-1 div.sk-dashed-wrapped {border: 1px dashed gray;margin: 0 0.4em 0.5em 0.4em;box-sizing: border-box;padding-bottom: 0.4em;background-color: white;}#sk-container-id-1 div.sk-label label {font-family: monospace;font-weight: bold;display: inline-block;line-height: 1.2em;}#sk-container-id-1 div.sk-label-container {text-align: center;}#sk-container-id-1 div.sk-container {/* jupyter's `normalize.less` sets `[hidden] { display: none; }` but bootstrap.min.css set `[hidden] { display: none !important; }` so we also need the `!important` here to be able to override the default hidden behavior on the sphinx rendered scikit-learn.org. See: https://github.com/scikit-learn/scikit-learn/issues/21755 */display: inline-block !important;position: relative;}#sk-container-id-1 div.sk-text-repr-fallback {display: none;}</style><div id=\"sk-container-id-1\" class=\"sk-top-container\"><div class=\"sk-text-repr-fallback\"><pre>LinearRegression()</pre><b>In a Jupyter environment, please rerun this cell to show the HTML representation or trust the notebook. <br />On GitHub, the HTML representation is unable to render, please try loading this page with nbviewer.org.</b></div><div class=\"sk-container\" hidden><div class=\"sk-item\"><div class=\"sk-estimator sk-toggleable\"><input class=\"sk-toggleable__control sk-hidden--visually\" id=\"sk-estimator-id-1\" type=\"checkbox\" checked><label for=\"sk-estimator-id-1\" class=\"sk-toggleable__label sk-toggleable__label-arrow\">LinearRegression</label><div class=\"sk-toggleable__content\"><pre>LinearRegression()</pre></div></div></div></div></div>"
      ],
      "text/plain": [
       "LinearRegression()"
      ]
     },
     "execution_count": 61,
     "metadata": {},
     "output_type": "execute_result"
    }
   ],
   "source": [
    "model1=LinearRegression()    \n",
    "model1.fit(X1_train_scaled, y1_train)"
   ]
  },
  {
   "cell_type": "code",
   "execution_count": 62,
   "id": "84fa3754",
   "metadata": {},
   "outputs": [
    {
     "data": {
      "text/plain": [
       "array([-0.0425521 , -2.71066366, -0.09631463,  0.2824431 ,  0.63299032,\n",
       "       -0.46168278, -0.44263805,  0.83338256,  0.73525898,  0.13044664,\n",
       "        1.11442222, -2.47720222,  0.1004004 , -0.3447334 ,  1.49451976,\n",
       "        2.19397433])"
      ]
     },
     "execution_count": 62,
     "metadata": {},
     "output_type": "execute_result"
    }
   ],
   "source": [
    "model1.coef_\n",
    "\n"
   ]
  },
  {
   "cell_type": "code",
   "execution_count": 63,
   "id": "a937f35c",
   "metadata": {},
   "outputs": [
    {
     "data": {
      "text/plain": [
       "69.2867659574468"
      ]
     },
     "execution_count": 63,
     "metadata": {},
     "output_type": "execute_result"
    }
   ],
   "source": [
    "model1.intercept_"
   ]
  },
  {
   "cell_type": "markdown",
   "id": "69309a57",
   "metadata": {},
   "source": [
    "# Making prediction (X1, y1)"
   ]
  },
  {
   "cell_type": "code",
   "execution_count": 64,
   "id": "16aac1df",
   "metadata": {},
   "outputs": [],
   "source": [
    "y1_pred=model1.predict(X1_test_scaled)   \n",
    "\n",
    "y1_pred_train=model1.predict(X1_train_scaled)"
   ]
  },
  {
   "cell_type": "markdown",
   "id": "5605438a",
   "metadata": {},
   "source": [
    "# Evaluating model performance (X1, y1)"
   ]
  },
  {
   "cell_type": "code",
   "execution_count": 65,
   "id": "ea616e3d",
   "metadata": {},
   "outputs": [
    {
     "data": {
      "text/plain": [
       "[<matplotlib.lines.Line2D at 0x7fb26ae3c6a0>]"
      ]
     },
     "execution_count": 65,
     "metadata": {},
     "output_type": "execute_result"
    },
    {
     "data": {
      "image/png": "[encoded data removed]",
      "text/plain": [
       "<Figure size 1008x288 with 3 Axes>"
      ]
     },
     "metadata": {},
     "output_type": "display_data"
    }
   ],
   "source": [
    "fig, ax = plt.subplots(1,3,figsize=(14,4))\n",
    "\n",
    "ax[0].plot(y1_pred, y1_test, 'o')\n",
    "ax[0].set_xlabel(\"y_test\")\n",
    "ax[0].set_ylabel(\"y_pred\")\n",
    "ax[0].set_title(\"Test Set - Predicted vs real\")\n",
    " \n",
    "\n",
    "ax[1].hist(y1_test - y1_pred)\n",
    "ax[1].set_xlabel(\"Test y-y_pred\")\n",
    "ax[1].set_title(\"Test Set Residual histogram\")\n",
    "\n",
    "ax[2].plot(y1_pred,y1_test - y1_pred,\"o\")\n",
    "ax[2].set_xlabel(\"predicted\")\n",
    "ax[2].set_ylabel(\"residuals\")\n",
    "ax[2].set_title(\"Residuals by Predicted\")\n",
    "ax[2].plot(y1_pred,np.zeros(len(y1_pred)),linestyle='dashed')"
   ]
  },
  {
   "cell_type": "markdown",
   "id": "578775ec",
   "metadata": {},
   "source": [
    "# Error metrics (X1, y1)"
   ]
  },
  {
   "cell_type": "code",
   "execution_count": 66,
   "id": "fe0b50d6",
   "metadata": {},
   "outputs": [
    {
     "name": "stdout",
     "output_type": "stream",
     "text": [
      "16.521604785204133\n",
      "2.9599688273422817\n"
     ]
    }
   ],
   "source": [
    "print(mse(y1_test,y1_pred))\n",
    "print(mae(y1_test,y1_pred))"
   ]
  },
  {
   "cell_type": "code",
   "execution_count": 67,
   "id": "e0959f63",
   "metadata": {},
   "outputs": [
    {
     "data": {
      "text/plain": [
       "0.8093676353600016"
      ]
     },
     "execution_count": 67,
     "metadata": {},
     "output_type": "execute_result"
    }
   ],
   "source": [
    "R2_1=r2_score(y1_test,y1_pred)\n",
    "R2_1"
   ]
  },
  {
   "cell_type": "markdown",
   "id": "41b28e5e",
   "metadata": {},
   "source": [
    "# Cross validation (X1, y1)"
   ]
  },
  {
   "cell_type": "code",
   "execution_count": 68,
   "id": "e5bffe0b",
   "metadata": {},
   "outputs": [
    {
     "data": {
      "text/plain": [
       "array([0.80963666, 0.8243756 , 0.7787869 , 0.78071359, 0.80624046])"
      ]
     },
     "execution_count": 68,
     "metadata": {},
     "output_type": "execute_result"
    }
   ],
   "source": [
    "scores1=cross_val_score(model1, X1_train, y1_train, cv = 5)\n",
    "scores1"
   ]
  },
  {
   "cell_type": "code",
   "execution_count": 69,
   "id": "9ae24973",
   "metadata": {},
   "outputs": [
    {
     "name": "stdout",
     "output_type": "stream",
     "text": [
      "0.80 accuracy with a standard deviation of 0.02\n"
     ]
    }
   ],
   "source": [
    "print(\"%0.2f accuracy with a standard deviation of %0.2f\" % (scores1.mean(), scores1.std()))"
   ]
  },
  {
   "cell_type": "markdown",
   "id": "52003cda",
   "metadata": {},
   "source": [
    "# Hot Coding coding categoricals"
   ]
  },
  {
   "cell_type": "code",
   "execution_count": 70,
   "id": "ec58661b",
   "metadata": {},
   "outputs": [
    {
     "data": {
      "text/plain": [
       "array(['Developing', 'Developed'], dtype=object)"
      ]
     },
     "execution_count": 70,
     "metadata": {},
     "output_type": "execute_result"
    }
   ],
   "source": [
    "who_categoricals['status'].unique()"
   ]
  },
  {
   "cell_type": "code",
   "execution_count": 71,
   "id": "c29f0d21",
   "metadata": {},
   "outputs": [
    {
     "data": {
      "text/plain": [
       "2"
      ]
     },
     "execution_count": 71,
     "metadata": {},
     "output_type": "execute_result"
    }
   ],
   "source": [
    "len(who_categoricals['status'].unique())"
   ]
  },
  {
   "cell_type": "code",
   "execution_count": 72,
   "id": "209e61f9",
   "metadata": {},
   "outputs": [
    {
     "name": "stdout",
     "output_type": "stream",
     "text": [
      "<class 'pandas.core.frame.DataFrame'>\n",
      "RangeIndex: 2938 entries, 0 to 2937\n",
      "Data columns (total 1 columns):\n",
      " #   Column             Non-Null Count  Dtype\n",
      "---  ------             --------------  -----\n",
      " 0   status_Developing  2938 non-null   uint8\n",
      "dtypes: uint8(1)\n",
      "memory usage: 3.0 KB\n"
     ]
    }
   ],
   "source": [
    "hc_who_categoricals = pd.get_dummies(who_categoricals[['status']], drop_first=True)\n",
    "hc_who_categoricals.info()"
   ]
  },
  {
   "cell_type": "code",
   "execution_count": 73,
   "id": "a956265a",
   "metadata": {},
   "outputs": [
    {
     "data": {
      "text/plain": [
       "array([1, 0], dtype=uint8)"
      ]
     },
     "execution_count": 73,
     "metadata": {},
     "output_type": "execute_result"
    }
   ],
   "source": [
    "hc_who_categoricals['status_Developing'].unique()"
   ]
  },
  {
   "cell_type": "code",
   "execution_count": null,
   "id": "5c41fc26",
   "metadata": {},
   "outputs": [],
   "source": []
  },
  {
   "cell_type": "markdown",
   "id": "143c175c",
   "metadata": {},
   "source": [
    "# Defining X2, y2 (Linear regression, w/ Hot Coding)"
   ]
  },
  {
   "cell_type": "code",
   "execution_count": 74,
   "id": "4cf45550",
   "metadata": {},
   "outputs": [],
   "source": [
    "X2 = who_numericals"
   ]
  },
  {
   "cell_type": "code",
   "execution_count": 75,
   "id": "e312cda0",
   "metadata": {},
   "outputs": [
    {
     "data": {
      "text/html": [
       "<div>\n",
       "<style scoped>\n",
       "    .dataframe tbody tr th:only-of-type {\n",
       "        vertical-align: middle;\n",
       "    }\n",
       "\n",
       "    .dataframe tbody tr th {\n",
       "        vertical-align: top;\n",
       "    }\n",
       "\n",
       "    .dataframe thead th {\n",
       "        text-align: right;\n",
       "    }\n",
       "</style>\n",
       "<table border=\"1\" class=\"dataframe\">\n",
       "  <thead>\n",
       "    <tr style=\"text-align: right;\">\n",
       "      <th></th>\n",
       "      <th>year</th>\n",
       "      <th>life expectancy</th>\n",
       "      <th>adult mortality</th>\n",
       "      <th>infant deaths</th>\n",
       "      <th>alcohol</th>\n",
       "      <th>percentage expenditure</th>\n",
       "      <th>hepatitis b</th>\n",
       "      <th>measles</th>\n",
       "      <th>bmi</th>\n",
       "      <th>polio</th>\n",
       "      <th>total expenditure</th>\n",
       "      <th>diphtheria</th>\n",
       "      <th>hiv/aids</th>\n",
       "      <th>population</th>\n",
       "      <th>thinness 1-19 years</th>\n",
       "      <th>income composition of resources</th>\n",
       "      <th>schooling</th>\n",
       "    </tr>\n",
       "  </thead>\n",
       "  <tbody>\n",
       "    <tr>\n",
       "      <th>0</th>\n",
       "      <td>2015</td>\n",
       "      <td>65.0</td>\n",
       "      <td>263.0</td>\n",
       "      <td>62</td>\n",
       "      <td>0.01</td>\n",
       "      <td>71.279624</td>\n",
       "      <td>65.0</td>\n",
       "      <td>1154</td>\n",
       "      <td>19.1</td>\n",
       "      <td>6.0</td>\n",
       "      <td>8.16</td>\n",
       "      <td>65.0</td>\n",
       "      <td>0.1</td>\n",
       "      <td>33736494.0</td>\n",
       "      <td>17.2</td>\n",
       "      <td>0.479</td>\n",
       "      <td>10.1</td>\n",
       "    </tr>\n",
       "    <tr>\n",
       "      <th>1</th>\n",
       "      <td>2014</td>\n",
       "      <td>59.9</td>\n",
       "      <td>271.0</td>\n",
       "      <td>64</td>\n",
       "      <td>0.01</td>\n",
       "      <td>73.523582</td>\n",
       "      <td>62.0</td>\n",
       "      <td>492</td>\n",
       "      <td>18.6</td>\n",
       "      <td>58.0</td>\n",
       "      <td>8.18</td>\n",
       "      <td>62.0</td>\n",
       "      <td>0.1</td>\n",
       "      <td>327582.0</td>\n",
       "      <td>17.5</td>\n",
       "      <td>0.476</td>\n",
       "      <td>10.0</td>\n",
       "    </tr>\n",
       "    <tr>\n",
       "      <th>2</th>\n",
       "      <td>2013</td>\n",
       "      <td>59.9</td>\n",
       "      <td>268.0</td>\n",
       "      <td>66</td>\n",
       "      <td>0.01</td>\n",
       "      <td>73.219243</td>\n",
       "      <td>64.0</td>\n",
       "      <td>430</td>\n",
       "      <td>18.1</td>\n",
       "      <td>62.0</td>\n",
       "      <td>8.13</td>\n",
       "      <td>64.0</td>\n",
       "      <td>0.1</td>\n",
       "      <td>31731688.0</td>\n",
       "      <td>17.7</td>\n",
       "      <td>0.470</td>\n",
       "      <td>9.9</td>\n",
       "    </tr>\n",
       "    <tr>\n",
       "      <th>3</th>\n",
       "      <td>2012</td>\n",
       "      <td>59.5</td>\n",
       "      <td>272.0</td>\n",
       "      <td>69</td>\n",
       "      <td>0.01</td>\n",
       "      <td>78.184215</td>\n",
       "      <td>67.0</td>\n",
       "      <td>2787</td>\n",
       "      <td>17.6</td>\n",
       "      <td>67.0</td>\n",
       "      <td>8.52</td>\n",
       "      <td>67.0</td>\n",
       "      <td>0.1</td>\n",
       "      <td>3696958.0</td>\n",
       "      <td>17.9</td>\n",
       "      <td>0.463</td>\n",
       "      <td>9.8</td>\n",
       "    </tr>\n",
       "    <tr>\n",
       "      <th>4</th>\n",
       "      <td>2011</td>\n",
       "      <td>59.2</td>\n",
       "      <td>275.0</td>\n",
       "      <td>71</td>\n",
       "      <td>0.01</td>\n",
       "      <td>7.097109</td>\n",
       "      <td>68.0</td>\n",
       "      <td>3013</td>\n",
       "      <td>17.2</td>\n",
       "      <td>68.0</td>\n",
       "      <td>7.87</td>\n",
       "      <td>68.0</td>\n",
       "      <td>0.1</td>\n",
       "      <td>2978599.0</td>\n",
       "      <td>18.2</td>\n",
       "      <td>0.454</td>\n",
       "      <td>9.5</td>\n",
       "    </tr>\n",
       "    <tr>\n",
       "      <th>...</th>\n",
       "      <td>...</td>\n",
       "      <td>...</td>\n",
       "      <td>...</td>\n",
       "      <td>...</td>\n",
       "      <td>...</td>\n",
       "      <td>...</td>\n",
       "      <td>...</td>\n",
       "      <td>...</td>\n",
       "      <td>...</td>\n",
       "      <td>...</td>\n",
       "      <td>...</td>\n",
       "      <td>...</td>\n",
       "      <td>...</td>\n",
       "      <td>...</td>\n",
       "      <td>...</td>\n",
       "      <td>...</td>\n",
       "      <td>...</td>\n",
       "    </tr>\n",
       "    <tr>\n",
       "      <th>2933</th>\n",
       "      <td>2004</td>\n",
       "      <td>44.3</td>\n",
       "      <td>723.0</td>\n",
       "      <td>27</td>\n",
       "      <td>4.36</td>\n",
       "      <td>0.000000</td>\n",
       "      <td>68.0</td>\n",
       "      <td>31</td>\n",
       "      <td>27.1</td>\n",
       "      <td>67.0</td>\n",
       "      <td>7.13</td>\n",
       "      <td>65.0</td>\n",
       "      <td>33.6</td>\n",
       "      <td>12777511.0</td>\n",
       "      <td>9.4</td>\n",
       "      <td>0.407</td>\n",
       "      <td>9.2</td>\n",
       "    </tr>\n",
       "    <tr>\n",
       "      <th>2934</th>\n",
       "      <td>2003</td>\n",
       "      <td>44.5</td>\n",
       "      <td>715.0</td>\n",
       "      <td>26</td>\n",
       "      <td>4.06</td>\n",
       "      <td>0.000000</td>\n",
       "      <td>7.0</td>\n",
       "      <td>998</td>\n",
       "      <td>26.7</td>\n",
       "      <td>7.0</td>\n",
       "      <td>6.52</td>\n",
       "      <td>68.0</td>\n",
       "      <td>36.7</td>\n",
       "      <td>12633897.0</td>\n",
       "      <td>9.8</td>\n",
       "      <td>0.418</td>\n",
       "      <td>9.5</td>\n",
       "    </tr>\n",
       "    <tr>\n",
       "      <th>2935</th>\n",
       "      <td>2002</td>\n",
       "      <td>44.8</td>\n",
       "      <td>73.0</td>\n",
       "      <td>25</td>\n",
       "      <td>4.43</td>\n",
       "      <td>0.000000</td>\n",
       "      <td>73.0</td>\n",
       "      <td>304</td>\n",
       "      <td>26.3</td>\n",
       "      <td>73.0</td>\n",
       "      <td>6.53</td>\n",
       "      <td>71.0</td>\n",
       "      <td>39.8</td>\n",
       "      <td>125525.0</td>\n",
       "      <td>1.2</td>\n",
       "      <td>0.427</td>\n",
       "      <td>10.0</td>\n",
       "    </tr>\n",
       "    <tr>\n",
       "      <th>2936</th>\n",
       "      <td>2001</td>\n",
       "      <td>45.3</td>\n",
       "      <td>686.0</td>\n",
       "      <td>25</td>\n",
       "      <td>1.72</td>\n",
       "      <td>0.000000</td>\n",
       "      <td>76.0</td>\n",
       "      <td>529</td>\n",
       "      <td>25.9</td>\n",
       "      <td>76.0</td>\n",
       "      <td>6.16</td>\n",
       "      <td>75.0</td>\n",
       "      <td>42.1</td>\n",
       "      <td>12366165.0</td>\n",
       "      <td>1.6</td>\n",
       "      <td>0.427</td>\n",
       "      <td>9.8</td>\n",
       "    </tr>\n",
       "    <tr>\n",
       "      <th>2937</th>\n",
       "      <td>2000</td>\n",
       "      <td>46.0</td>\n",
       "      <td>665.0</td>\n",
       "      <td>24</td>\n",
       "      <td>1.68</td>\n",
       "      <td>0.000000</td>\n",
       "      <td>79.0</td>\n",
       "      <td>1483</td>\n",
       "      <td>25.5</td>\n",
       "      <td>78.0</td>\n",
       "      <td>7.10</td>\n",
       "      <td>78.0</td>\n",
       "      <td>43.5</td>\n",
       "      <td>12222251.0</td>\n",
       "      <td>11.0</td>\n",
       "      <td>0.434</td>\n",
       "      <td>9.8</td>\n",
       "    </tr>\n",
       "  </tbody>\n",
       "</table>\n",
       "<p>2938 rows × 17 columns</p>\n",
       "</div>"
      ],
      "text/plain": [
       "      year  life expectancy  adult mortality  infant deaths  alcohol  \\\n",
       "0     2015             65.0            263.0             62     0.01   \n",
       "1     2014             59.9            271.0             64     0.01   \n",
       "2     2013             59.9            268.0             66     0.01   \n",
       "3     2012             59.5            272.0             69     0.01   \n",
       "4     2011             59.2            275.0             71     0.01   \n",
       "...    ...              ...              ...            ...      ...   \n",
       "2933  2004             44.3            723.0             27     4.36   \n",
       "2934  2003             44.5            715.0             26     4.06   \n",
       "2935  2002             44.8             73.0             25     4.43   \n",
       "2936  2001             45.3            686.0             25     1.72   \n",
       "2937  2000             46.0            665.0             24     1.68   \n",
       "\n",
       "      percentage expenditure  hepatitis b  measles   bmi  polio  \\\n",
       "0                  71.279624         65.0     1154  19.1    6.0   \n",
       "1                  73.523582         62.0      492  18.6   58.0   \n",
       "2                  73.219243         64.0      430  18.1   62.0   \n",
       "3                  78.184215         67.0     2787  17.6   67.0   \n",
       "4                   7.097109         68.0     3013  17.2   68.0   \n",
       "...                      ...          ...      ...   ...    ...   \n",
       "2933                0.000000         68.0       31  27.1   67.0   \n",
       "2934                0.000000          7.0      998  26.7    7.0   \n",
       "2935                0.000000         73.0      304  26.3   73.0   \n",
       "2936                0.000000         76.0      529  25.9   76.0   \n",
       "2937                0.000000         79.0     1483  25.5   78.0   \n",
       "\n",
       "      total expenditure  diphtheria  hiv/aids  population  \\\n",
       "0                  8.16        65.0       0.1  33736494.0   \n",
       "1                  8.18        62.0       0.1    327582.0   \n",
       "2                  8.13        64.0       0.1  31731688.0   \n",
       "3                  8.52        67.0       0.1   3696958.0   \n",
       "4                  7.87        68.0       0.1   2978599.0   \n",
       "...                 ...         ...       ...         ...   \n",
       "2933               7.13        65.0      33.6  12777511.0   \n",
       "2934               6.52        68.0      36.7  12633897.0   \n",
       "2935               6.53        71.0      39.8    125525.0   \n",
       "2936               6.16        75.0      42.1  12366165.0   \n",
       "2937               7.10        78.0      43.5  12222251.0   \n",
       "\n",
       "      thinness 1-19 years  income composition of resources  schooling  \n",
       "0                    17.2                            0.479       10.1  \n",
       "1                    17.5                            0.476       10.0  \n",
       "2                    17.7                            0.470        9.9  \n",
       "3                    17.9                            0.463        9.8  \n",
       "4                    18.2                            0.454        9.5  \n",
       "...                   ...                              ...        ...  \n",
       "2933                  9.4                            0.407        9.2  \n",
       "2934                  9.8                            0.418        9.5  \n",
       "2935                  1.2                            0.427       10.0  \n",
       "2936                  1.6                            0.427        9.8  \n",
       "2937                 11.0                            0.434        9.8  \n",
       "\n",
       "[2938 rows x 17 columns]"
      ]
     },
     "execution_count": 75,
     "metadata": {},
     "output_type": "execute_result"
    }
   ],
   "source": [
    "X2"
   ]
  },
  {
   "cell_type": "code",
   "execution_count": 76,
   "id": "2b20e2eb",
   "metadata": {},
   "outputs": [],
   "source": [
    "X2 = pd.concat([X2, hc_who_categoricals], axis=1)"
   ]
  },
  {
   "cell_type": "code",
   "execution_count": 77,
   "id": "eef02ca0",
   "metadata": {},
   "outputs": [
    {
     "data": {
      "text/plain": [
       "Index(['year', 'life expectancy', 'adult mortality', 'infant deaths',\n",
       "       'alcohol', 'percentage expenditure', 'hepatitis b', 'measles', 'bmi',\n",
       "       'polio', 'total expenditure', 'diphtheria', 'hiv/aids', 'population',\n",
       "       'thinness 1-19 years', 'income composition of resources', 'schooling',\n",
       "       'status_Developing'],\n",
       "      dtype='object')"
      ]
     },
     "execution_count": 77,
     "metadata": {},
     "output_type": "execute_result"
    }
   ],
   "source": [
    "X2.columns"
   ]
  },
  {
   "cell_type": "code",
   "execution_count": 78,
   "id": "b2097a9a",
   "metadata": {},
   "outputs": [],
   "source": [
    "X2.drop(['life expectancy'], axis=1, inplace=True) "
   ]
  },
  {
   "cell_type": "code",
   "execution_count": 79,
   "id": "4c0b8f66",
   "metadata": {},
   "outputs": [
    {
     "data": {
      "text/html": [
       "<div>\n",
       "<style scoped>\n",
       "    .dataframe tbody tr th:only-of-type {\n",
       "        vertical-align: middle;\n",
       "    }\n",
       "\n",
       "    .dataframe tbody tr th {\n",
       "        vertical-align: top;\n",
       "    }\n",
       "\n",
       "    .dataframe thead th {\n",
       "        text-align: right;\n",
       "    }\n",
       "</style>\n",
       "<table border=\"1\" class=\"dataframe\">\n",
       "  <thead>\n",
       "    <tr style=\"text-align: right;\">\n",
       "      <th></th>\n",
       "      <th>year</th>\n",
       "      <th>adult mortality</th>\n",
       "      <th>infant deaths</th>\n",
       "      <th>alcohol</th>\n",
       "      <th>percentage expenditure</th>\n",
       "      <th>hepatitis b</th>\n",
       "      <th>measles</th>\n",
       "      <th>bmi</th>\n",
       "      <th>polio</th>\n",
       "      <th>total expenditure</th>\n",
       "      <th>diphtheria</th>\n",
       "      <th>hiv/aids</th>\n",
       "      <th>population</th>\n",
       "      <th>thinness 1-19 years</th>\n",
       "      <th>income composition of resources</th>\n",
       "      <th>schooling</th>\n",
       "      <th>status_Developing</th>\n",
       "    </tr>\n",
       "  </thead>\n",
       "  <tbody>\n",
       "    <tr>\n",
       "      <th>0</th>\n",
       "      <td>2015</td>\n",
       "      <td>263.0</td>\n",
       "      <td>62</td>\n",
       "      <td>0.01</td>\n",
       "      <td>71.279624</td>\n",
       "      <td>65.0</td>\n",
       "      <td>1154</td>\n",
       "      <td>19.1</td>\n",
       "      <td>6.0</td>\n",
       "      <td>8.16</td>\n",
       "      <td>65.0</td>\n",
       "      <td>0.1</td>\n",
       "      <td>33736494.0</td>\n",
       "      <td>17.2</td>\n",
       "      <td>0.479</td>\n",
       "      <td>10.1</td>\n",
       "      <td>1</td>\n",
       "    </tr>\n",
       "    <tr>\n",
       "      <th>1</th>\n",
       "      <td>2014</td>\n",
       "      <td>271.0</td>\n",
       "      <td>64</td>\n",
       "      <td>0.01</td>\n",
       "      <td>73.523582</td>\n",
       "      <td>62.0</td>\n",
       "      <td>492</td>\n",
       "      <td>18.6</td>\n",
       "      <td>58.0</td>\n",
       "      <td>8.18</td>\n",
       "      <td>62.0</td>\n",
       "      <td>0.1</td>\n",
       "      <td>327582.0</td>\n",
       "      <td>17.5</td>\n",
       "      <td>0.476</td>\n",
       "      <td>10.0</td>\n",
       "      <td>1</td>\n",
       "    </tr>\n",
       "    <tr>\n",
       "      <th>2</th>\n",
       "      <td>2013</td>\n",
       "      <td>268.0</td>\n",
       "      <td>66</td>\n",
       "      <td>0.01</td>\n",
       "      <td>73.219243</td>\n",
       "      <td>64.0</td>\n",
       "      <td>430</td>\n",
       "      <td>18.1</td>\n",
       "      <td>62.0</td>\n",
       "      <td>8.13</td>\n",
       "      <td>64.0</td>\n",
       "      <td>0.1</td>\n",
       "      <td>31731688.0</td>\n",
       "      <td>17.7</td>\n",
       "      <td>0.470</td>\n",
       "      <td>9.9</td>\n",
       "      <td>1</td>\n",
       "    </tr>\n",
       "    <tr>\n",
       "      <th>3</th>\n",
       "      <td>2012</td>\n",
       "      <td>272.0</td>\n",
       "      <td>69</td>\n",
       "      <td>0.01</td>\n",
       "      <td>78.184215</td>\n",
       "      <td>67.0</td>\n",
       "      <td>2787</td>\n",
       "      <td>17.6</td>\n",
       "      <td>67.0</td>\n",
       "      <td>8.52</td>\n",
       "      <td>67.0</td>\n",
       "      <td>0.1</td>\n",
       "      <td>3696958.0</td>\n",
       "      <td>17.9</td>\n",
       "      <td>0.463</td>\n",
       "      <td>9.8</td>\n",
       "      <td>1</td>\n",
       "    </tr>\n",
       "    <tr>\n",
       "      <th>4</th>\n",
       "      <td>2011</td>\n",
       "      <td>275.0</td>\n",
       "      <td>71</td>\n",
       "      <td>0.01</td>\n",
       "      <td>7.097109</td>\n",
       "      <td>68.0</td>\n",
       "      <td>3013</td>\n",
       "      <td>17.2</td>\n",
       "      <td>68.0</td>\n",
       "      <td>7.87</td>\n",
       "      <td>68.0</td>\n",
       "      <td>0.1</td>\n",
       "      <td>2978599.0</td>\n",
       "      <td>18.2</td>\n",
       "      <td>0.454</td>\n",
       "      <td>9.5</td>\n",
       "      <td>1</td>\n",
       "    </tr>\n",
       "    <tr>\n",
       "      <th>...</th>\n",
       "      <td>...</td>\n",
       "      <td>...</td>\n",
       "      <td>...</td>\n",
       "      <td>...</td>\n",
       "      <td>...</td>\n",
       "      <td>...</td>\n",
       "      <td>...</td>\n",
       "      <td>...</td>\n",
       "      <td>...</td>\n",
       "      <td>...</td>\n",
       "      <td>...</td>\n",
       "      <td>...</td>\n",
       "      <td>...</td>\n",
       "      <td>...</td>\n",
       "      <td>...</td>\n",
       "      <td>...</td>\n",
       "      <td>...</td>\n",
       "    </tr>\n",
       "    <tr>\n",
       "      <th>2933</th>\n",
       "      <td>2004</td>\n",
       "      <td>723.0</td>\n",
       "      <td>27</td>\n",
       "      <td>4.36</td>\n",
       "      <td>0.000000</td>\n",
       "      <td>68.0</td>\n",
       "      <td>31</td>\n",
       "      <td>27.1</td>\n",
       "      <td>67.0</td>\n",
       "      <td>7.13</td>\n",
       "      <td>65.0</td>\n",
       "      <td>33.6</td>\n",
       "      <td>12777511.0</td>\n",
       "      <td>9.4</td>\n",
       "      <td>0.407</td>\n",
       "      <td>9.2</td>\n",
       "      <td>1</td>\n",
       "    </tr>\n",
       "    <tr>\n",
       "      <th>2934</th>\n",
       "      <td>2003</td>\n",
       "      <td>715.0</td>\n",
       "      <td>26</td>\n",
       "      <td>4.06</td>\n",
       "      <td>0.000000</td>\n",
       "      <td>7.0</td>\n",
       "      <td>998</td>\n",
       "      <td>26.7</td>\n",
       "      <td>7.0</td>\n",
       "      <td>6.52</td>\n",
       "      <td>68.0</td>\n",
       "      <td>36.7</td>\n",
       "      <td>12633897.0</td>\n",
       "      <td>9.8</td>\n",
       "      <td>0.418</td>\n",
       "      <td>9.5</td>\n",
       "      <td>1</td>\n",
       "    </tr>\n",
       "    <tr>\n",
       "      <th>2935</th>\n",
       "      <td>2002</td>\n",
       "      <td>73.0</td>\n",
       "      <td>25</td>\n",
       "      <td>4.43</td>\n",
       "      <td>0.000000</td>\n",
       "      <td>73.0</td>\n",
       "      <td>304</td>\n",
       "      <td>26.3</td>\n",
       "      <td>73.0</td>\n",
       "      <td>6.53</td>\n",
       "      <td>71.0</td>\n",
       "      <td>39.8</td>\n",
       "      <td>125525.0</td>\n",
       "      <td>1.2</td>\n",
       "      <td>0.427</td>\n",
       "      <td>10.0</td>\n",
       "      <td>1</td>\n",
       "    </tr>\n",
       "    <tr>\n",
       "      <th>2936</th>\n",
       "      <td>2001</td>\n",
       "      <td>686.0</td>\n",
       "      <td>25</td>\n",
       "      <td>1.72</td>\n",
       "      <td>0.000000</td>\n",
       "      <td>76.0</td>\n",
       "      <td>529</td>\n",
       "      <td>25.9</td>\n",
       "      <td>76.0</td>\n",
       "      <td>6.16</td>\n",
       "      <td>75.0</td>\n",
       "      <td>42.1</td>\n",
       "      <td>12366165.0</td>\n",
       "      <td>1.6</td>\n",
       "      <td>0.427</td>\n",
       "      <td>9.8</td>\n",
       "      <td>1</td>\n",
       "    </tr>\n",
       "    <tr>\n",
       "      <th>2937</th>\n",
       "      <td>2000</td>\n",
       "      <td>665.0</td>\n",
       "      <td>24</td>\n",
       "      <td>1.68</td>\n",
       "      <td>0.000000</td>\n",
       "      <td>79.0</td>\n",
       "      <td>1483</td>\n",
       "      <td>25.5</td>\n",
       "      <td>78.0</td>\n",
       "      <td>7.10</td>\n",
       "      <td>78.0</td>\n",
       "      <td>43.5</td>\n",
       "      <td>12222251.0</td>\n",
       "      <td>11.0</td>\n",
       "      <td>0.434</td>\n",
       "      <td>9.8</td>\n",
       "      <td>1</td>\n",
       "    </tr>\n",
       "  </tbody>\n",
       "</table>\n",
       "<p>2938 rows × 17 columns</p>\n",
       "</div>"
      ],
      "text/plain": [
       "      year  adult mortality  infant deaths  alcohol  percentage expenditure  \\\n",
       "0     2015            263.0             62     0.01               71.279624   \n",
       "1     2014            271.0             64     0.01               73.523582   \n",
       "2     2013            268.0             66     0.01               73.219243   \n",
       "3     2012            272.0             69     0.01               78.184215   \n",
       "4     2011            275.0             71     0.01                7.097109   \n",
       "...    ...              ...            ...      ...                     ...   \n",
       "2933  2004            723.0             27     4.36                0.000000   \n",
       "2934  2003            715.0             26     4.06                0.000000   \n",
       "2935  2002             73.0             25     4.43                0.000000   \n",
       "2936  2001            686.0             25     1.72                0.000000   \n",
       "2937  2000            665.0             24     1.68                0.000000   \n",
       "\n",
       "      hepatitis b  measles   bmi  polio  total expenditure  diphtheria  \\\n",
       "0            65.0     1154  19.1    6.0               8.16        65.0   \n",
       "1            62.0      492  18.6   58.0               8.18        62.0   \n",
       "2            64.0      430  18.1   62.0               8.13        64.0   \n",
       "3            67.0     2787  17.6   67.0               8.52        67.0   \n",
       "4            68.0     3013  17.2   68.0               7.87        68.0   \n",
       "...           ...      ...   ...    ...                ...         ...   \n",
       "2933         68.0       31  27.1   67.0               7.13        65.0   \n",
       "2934          7.0      998  26.7    7.0               6.52        68.0   \n",
       "2935         73.0      304  26.3   73.0               6.53        71.0   \n",
       "2936         76.0      529  25.9   76.0               6.16        75.0   \n",
       "2937         79.0     1483  25.5   78.0               7.10        78.0   \n",
       "\n",
       "      hiv/aids  population  thinness 1-19 years  \\\n",
       "0          0.1  33736494.0                 17.2   \n",
       "1          0.1    327582.0                 17.5   \n",
       "2          0.1  31731688.0                 17.7   \n",
       "3          0.1   3696958.0                 17.9   \n",
       "4          0.1   2978599.0                 18.2   \n",
       "...        ...         ...                  ...   \n",
       "2933      33.6  12777511.0                  9.4   \n",
       "2934      36.7  12633897.0                  9.8   \n",
       "2935      39.8    125525.0                  1.2   \n",
       "2936      42.1  12366165.0                  1.6   \n",
       "2937      43.5  12222251.0                 11.0   \n",
       "\n",
       "      income composition of resources  schooling  status_Developing  \n",
       "0                               0.479       10.1                  1  \n",
       "1                               0.476       10.0                  1  \n",
       "2                               0.470        9.9                  1  \n",
       "3                               0.463        9.8                  1  \n",
       "4                               0.454        9.5                  1  \n",
       "...                               ...        ...                ...  \n",
       "2933                            0.407        9.2                  1  \n",
       "2934                            0.418        9.5                  1  \n",
       "2935                            0.427       10.0                  1  \n",
       "2936                            0.427        9.8                  1  \n",
       "2937                            0.434        9.8                  1  \n",
       "\n",
       "[2938 rows x 17 columns]"
      ]
     },
     "execution_count": 79,
     "metadata": {},
     "output_type": "execute_result"
    }
   ],
   "source": [
    "X2"
   ]
  },
  {
   "cell_type": "code",
   "execution_count": 80,
   "id": "aabd0c8e",
   "metadata": {},
   "outputs": [],
   "source": [
    "y2 = who['life expectancy']"
   ]
  },
  {
   "cell_type": "code",
   "execution_count": null,
   "id": "5d5c66e2",
   "metadata": {},
   "outputs": [],
   "source": []
  },
  {
   "cell_type": "markdown",
   "id": "034a65e9",
   "metadata": {},
   "source": [
    "# Data splitting (X2, y2)"
   ]
  },
  {
   "cell_type": "code",
   "execution_count": 81,
   "id": "670622ec",
   "metadata": {},
   "outputs": [],
   "source": [
    "X2_train, X2_test, y2_train, y2_test = train_test_split(X2, y2, test_size=0.20, random_state=42)\n",
    "\n",
    "X2_train = pd.DataFrame(X2_train, columns=X2.columns)\n",
    "X2_test  = pd.DataFrame(X2_test, columns=X2.columns)"
   ]
  },
  {
   "cell_type": "markdown",
   "id": "c0349b8e",
   "metadata": {},
   "source": [
    "# Standardizing Data (X2, y2)"
   ]
  },
  {
   "cell_type": "code",
   "execution_count": 82,
   "id": "90110939",
   "metadata": {},
   "outputs": [],
   "source": [
    "std_scaler=StandardScaler().fit(X2_train)   \n",
    "\n",
    "X2_train_scaled=std_scaler.transform(X2_train)\n",
    "\n"
   ]
  },
  {
   "cell_type": "code",
   "execution_count": 83,
   "id": "07608a61",
   "metadata": {},
   "outputs": [],
   "source": [
    "X2_test_scaled=std_scaler.transform(X2_test)"
   ]
  },
  {
   "cell_type": "markdown",
   "id": "b647394a",
   "metadata": {},
   "source": [
    "# Fitting model (Linear Regression, X2, y2)\n",
    "\n"
   ]
  },
  {
   "cell_type": "code",
   "execution_count": 84,
   "id": "5c03cb06",
   "metadata": {},
   "outputs": [
    {
     "data": {
      "text/html": [
       "<style>#sk-container-id-2 {color: black;background-color: white;}#sk-container-id-2 pre{padding: 0;}#sk-container-id-2 div.sk-toggleable {background-color: white;}#sk-container-id-2 label.sk-toggleable__label {cursor: pointer;display: block;width: 100%;margin-bottom: 0;padding: 0.3em;box-sizing: border-box;text-align: center;}#sk-container-id-2 label.sk-toggleable__label-arrow:before {content: \"▸\";float: left;margin-right: 0.25em;color: #696969;}#sk-container-id-2 label.sk-toggleable__label-arrow:hover:before {color: black;}#sk-container-id-2 div.sk-estimator:hover label.sk-toggleable__label-arrow:before {color: black;}#sk-container-id-2 div.sk-toggleable__content {max-height: 0;max-width: 0;overflow: hidden;text-align: left;background-color: #f0f8ff;}#sk-container-id-2 div.sk-toggleable__content pre {margin: 0.2em;color: black;border-radius: 0.25em;background-color: #f0f8ff;}#sk-container-id-2 input.sk-toggleable__control:checked~div.sk-toggleable__content {max-height: 200px;max-width: 100%;overflow: auto;}#sk-container-id-2 input.sk-toggleable__control:checked~label.sk-toggleable__label-arrow:before {content: \"▾\";}#sk-container-id-2 div.sk-estimator input.sk-toggleable__control:checked~label.sk-toggleable__label {background-color: #d4ebff;}#sk-container-id-2 div.sk-label input.sk-toggleable__control:checked~label.sk-toggleable__label {background-color: #d4ebff;}#sk-container-id-2 input.sk-hidden--visually {border: 0;clip: rect(1px 1px 1px 1px);clip: rect(1px, 1px, 1px, 1px);height: 1px;margin: -1px;overflow: hidden;padding: 0;position: absolute;width: 1px;}#sk-container-id-2 div.sk-estimator {font-family: monospace;background-color: #f0f8ff;border: 1px dotted black;border-radius: 0.25em;box-sizing: border-box;margin-bottom: 0.5em;}#sk-container-id-2 div.sk-estimator:hover {background-color: #d4ebff;}#sk-container-id-2 div.sk-parallel-item::after {content: \"\";width: 100%;border-bottom: 1px solid gray;flex-grow: 1;}#sk-container-id-2 div.sk-label:hover label.sk-toggleable__label {background-color: #d4ebff;}#sk-container-id-2 div.sk-serial::before {content: \"\";position: absolute;border-left: 1px solid gray;box-sizing: border-box;top: 0;bottom: 0;left: 50%;z-index: 0;}#sk-container-id-2 div.sk-serial {display: flex;flex-direction: column;align-items: center;background-color: white;padding-right: 0.2em;padding-left: 0.2em;position: relative;}#sk-container-id-2 div.sk-item {position: relative;z-index: 1;}#sk-container-id-2 div.sk-parallel {display: flex;align-items: stretch;justify-content: center;background-color: white;position: relative;}#sk-container-id-2 div.sk-item::before, #sk-container-id-2 div.sk-parallel-item::before {content: \"\";position: absolute;border-left: 1px solid gray;box-sizing: border-box;top: 0;bottom: 0;left: 50%;z-index: -1;}#sk-container-id-2 div.sk-parallel-item {display: flex;flex-direction: column;z-index: 1;position: relative;background-color: white;}#sk-container-id-2 div.sk-parallel-item:first-child::after {align-self: flex-end;width: 50%;}#sk-container-id-2 div.sk-parallel-item:last-child::after {align-self: flex-start;width: 50%;}#sk-container-id-2 div.sk-parallel-item:only-child::after {width: 0;}#sk-container-id-2 div.sk-dashed-wrapped {border: 1px dashed gray;margin: 0 0.4em 0.5em 0.4em;box-sizing: border-box;padding-bottom: 0.4em;background-color: white;}#sk-container-id-2 div.sk-label label {font-family: monospace;font-weight: bold;display: inline-block;line-height: 1.2em;}#sk-container-id-2 div.sk-label-container {text-align: center;}#sk-container-id-2 div.sk-container {/* jupyter's `normalize.less` sets `[hidden] { display: none; }` but bootstrap.min.css set `[hidden] { display: none !important; }` so we also need the `!important` here to be able to override the default hidden behavior on the sphinx rendered scikit-learn.org. See: https://github.com/scikit-learn/scikit-learn/issues/21755 */display: inline-block !important;position: relative;}#sk-container-id-2 div.sk-text-repr-fallback {display: none;}</style><div id=\"sk-container-id-2\" class=\"sk-top-container\"><div class=\"sk-text-repr-fallback\"><pre>LinearRegression()</pre><b>In a Jupyter environment, please rerun this cell to show the HTML representation or trust the notebook. <br />On GitHub, the HTML representation is unable to render, please try loading this page with nbviewer.org.</b></div><div class=\"sk-container\" hidden><div class=\"sk-item\"><div class=\"sk-estimator sk-toggleable\"><input class=\"sk-toggleable__control sk-hidden--visually\" id=\"sk-estimator-id-2\" type=\"checkbox\" checked><label for=\"sk-estimator-id-2\" class=\"sk-toggleable__label sk-toggleable__label-arrow\">LinearRegression</label><div class=\"sk-toggleable__content\"><pre>LinearRegression()</pre></div></div></div></div></div>"
      ],
      "text/plain": [
       "LinearRegression()"
      ]
     },
     "execution_count": 84,
     "metadata": {},
     "output_type": "execute_result"
    }
   ],
   "source": [
    "model2=LinearRegression()    \n",
    "model2.fit(X2_train_scaled, y2_train)"
   ]
  },
  {
   "cell_type": "markdown",
   "id": "f98e7d12",
   "metadata": {},
   "source": [
    "# Making prediction (X2, y2)"
   ]
  },
  {
   "cell_type": "code",
   "execution_count": 85,
   "id": "6feec44c",
   "metadata": {},
   "outputs": [],
   "source": [
    "y2_pred=model2.predict(X2_test_scaled)   \n",
    "\n",
    "y2_pred_train=model2.predict(X2_train_scaled)"
   ]
  },
  {
   "cell_type": "markdown",
   "id": "06697026",
   "metadata": {},
   "source": [
    "# Evaluating model performance (X2, y2)"
   ]
  },
  {
   "cell_type": "code",
   "execution_count": 86,
   "id": "cd3c03d4",
   "metadata": {},
   "outputs": [
    {
     "data": {
      "text/plain": [
       "[<matplotlib.lines.Line2D at 0x7fb269fe3ee0>]"
      ]
     },
     "execution_count": 86,
     "metadata": {},
     "output_type": "execute_result"
    },
    {
     "data": {
      "image/png": "[encoded data removed]",
      "text/plain": [
       "<Figure size 1008x288 with 3 Axes>"
      ]
     },
     "metadata": {},
     "output_type": "display_data"
    }
   ],
   "source": [
    "fig, ax = plt.subplots(1,3,figsize=(14,4))\n",
    "\n",
    "ax[0].plot(y2_pred, y2_test, 'o')\n",
    "ax[0].set_xlabel(\"y_test\")\n",
    "ax[0].set_ylabel(\"y_pred\")\n",
    "ax[0].set_title(\"Test Set - Predicted vs real\")\n",
    " \n",
    "\n",
    "ax[1].hist(y2_test - y2_pred)\n",
    "ax[1].set_xlabel(\"Test y-y_pred\")\n",
    "ax[1].set_title(\"Test Set Residual histogram\")\n",
    "\n",
    "ax[2].plot(y2_pred,y2_test - y2_pred,\"o\")\n",
    "ax[2].set_xlabel(\"predicted\")\n",
    "ax[2].set_ylabel(\"residuals\")\n",
    "ax[2].set_title(\"Residuals by Predicted\")\n",
    "ax[2].plot(y1_pred,np.zeros(len(y2_pred)),linestyle='dashed')"
   ]
  },
  {
   "cell_type": "markdown",
   "id": "36af9ece",
   "metadata": {},
   "source": [
    "# Error metrics (X2, y2)"
   ]
  },
  {
   "cell_type": "code",
   "execution_count": 87,
   "id": "26ae3983",
   "metadata": {},
   "outputs": [
    {
     "name": "stdout",
     "output_type": "stream",
     "text": [
      "16.422575702188926\n",
      "2.958726287564941\n"
     ]
    }
   ],
   "source": [
    "print(mse(y2_test,y2_pred))\n",
    "print(mae(y2_test,y2_pred))"
   ]
  },
  {
   "cell_type": "code",
   "execution_count": 88,
   "id": "4012266f",
   "metadata": {},
   "outputs": [
    {
     "data": {
      "text/plain": [
       "0.8105102694145473"
      ]
     },
     "execution_count": 88,
     "metadata": {},
     "output_type": "execute_result"
    }
   ],
   "source": [
    "R2_2=r2_score(y2_test,y2_pred)\n",
    "R2_2"
   ]
  },
  {
   "cell_type": "markdown",
   "id": "20dfaa80",
   "metadata": {},
   "source": [
    "# Cross validation (X2, y2)"
   ]
  },
  {
   "cell_type": "code",
   "execution_count": 89,
   "id": "5390a1a5",
   "metadata": {},
   "outputs": [
    {
     "data": {
      "text/plain": [
       "array([0.81225427, 0.82636868, 0.78193953, 0.78345571, 0.80762642])"
      ]
     },
     "execution_count": 89,
     "metadata": {},
     "output_type": "execute_result"
    }
   ],
   "source": [
    "scores2=cross_val_score(model2, X2_train, y2_train, cv = 5)\n",
    "scores2"
   ]
  },
  {
   "cell_type": "code",
   "execution_count": 90,
   "id": "62e75ffb",
   "metadata": {},
   "outputs": [
    {
     "name": "stdout",
     "output_type": "stream",
     "text": [
      "0.80 accuracy with a standard deviation of 0.02\n"
     ]
    }
   ],
   "source": [
    "print(\"%0.2f accuracy with a standard deviation of %0.2f\" % (scores2.mean(), scores2.std()))"
   ]
  },
  {
   "cell_type": "markdown",
   "id": "747486fa",
   "metadata": {},
   "source": [
    "# Defining X3, y3 (Feature Selection)"
   ]
  },
  {
   "cell_type": "code",
   "execution_count": 91,
   "id": "3ef7ca7b",
   "metadata": {},
   "outputs": [],
   "source": [
    "X3 = X2"
   ]
  },
  {
   "cell_type": "code",
   "execution_count": 92,
   "id": "60bc3bfd",
   "metadata": {},
   "outputs": [],
   "source": [
    "y3 = y2"
   ]
  },
  {
   "cell_type": "markdown",
   "id": "4a918fcf",
   "metadata": {},
   "source": [
    "# Data splitting (X3, y3)"
   ]
  },
  {
   "cell_type": "code",
   "execution_count": 93,
   "id": "403e1c2f",
   "metadata": {},
   "outputs": [],
   "source": [
    "X3_train, X3_test, y3_train, y3_test = train_test_split(X3, y3, test_size=0.20, random_state=42)\n",
    "\n",
    "X3_train = pd.DataFrame(X3_train, columns=X3.columns)\n",
    "X3_test  = pd.DataFrame(X3_test, columns=X3.columns)"
   ]
  },
  {
   "cell_type": "markdown",
   "id": "3bfa1914",
   "metadata": {},
   "source": [
    "# Recursive Feature Elimination (X3, y3)"
   ]
  },
  {
   "cell_type": "code",
   "execution_count": 94,
   "id": "8fa058eb",
   "metadata": {},
   "outputs": [
    {
     "name": "stdout",
     "output_type": "stream",
     "text": [
      "Final selected features: \n"
     ]
    },
    {
     "data": {
      "text/html": [
       "<div>\n",
       "<style scoped>\n",
       "    .dataframe tbody tr th:only-of-type {\n",
       "        vertical-align: middle;\n",
       "    }\n",
       "\n",
       "    .dataframe tbody tr th {\n",
       "        vertical-align: top;\n",
       "    }\n",
       "\n",
       "    .dataframe thead th {\n",
       "        text-align: right;\n",
       "    }\n",
       "</style>\n",
       "<table border=\"1\" class=\"dataframe\">\n",
       "  <thead>\n",
       "    <tr style=\"text-align: right;\">\n",
       "      <th></th>\n",
       "      <th>year</th>\n",
       "      <th>adult mortality</th>\n",
       "      <th>infant deaths</th>\n",
       "      <th>alcohol</th>\n",
       "      <th>percentage expenditure</th>\n",
       "      <th>hepatitis b</th>\n",
       "      <th>measles</th>\n",
       "      <th>bmi</th>\n",
       "      <th>polio</th>\n",
       "      <th>total expenditure</th>\n",
       "      <th>diphtheria</th>\n",
       "      <th>hiv/aids</th>\n",
       "      <th>population</th>\n",
       "      <th>thinness 1-19 years</th>\n",
       "      <th>income composition of resources</th>\n",
       "      <th>schooling</th>\n",
       "      <th>status_Developing</th>\n",
       "    </tr>\n",
       "  </thead>\n",
       "  <tbody>\n",
       "    <tr>\n",
       "      <th>0</th>\n",
       "      <td>2007.0</td>\n",
       "      <td>126.0</td>\n",
       "      <td>0.0</td>\n",
       "      <td>5.28</td>\n",
       "      <td>345.463714</td>\n",
       "      <td>96.0</td>\n",
       "      <td>0.0</td>\n",
       "      <td>25.5</td>\n",
       "      <td>98.0</td>\n",
       "      <td>4.30</td>\n",
       "      <td>98.0</td>\n",
       "      <td>0.6</td>\n",
       "      <td>486438.0</td>\n",
       "      <td>8.1</td>\n",
       "      <td>0.602</td>\n",
       "      <td>11.9</td>\n",
       "      <td>1.0</td>\n",
       "    </tr>\n",
       "    <tr>\n",
       "      <th>1</th>\n",
       "      <td>2001.0</td>\n",
       "      <td>152.0</td>\n",
       "      <td>0.0</td>\n",
       "      <td>3.81</td>\n",
       "      <td>150.743486</td>\n",
       "      <td>92.0</td>\n",
       "      <td>0.0</td>\n",
       "      <td>22.1</td>\n",
       "      <td>91.0</td>\n",
       "      <td>5.19</td>\n",
       "      <td>9.0</td>\n",
       "      <td>0.8</td>\n",
       "      <td>443716.0</td>\n",
       "      <td>9.4</td>\n",
       "      <td>0.562</td>\n",
       "      <td>11.0</td>\n",
       "      <td>1.0</td>\n",
       "    </tr>\n",
       "    <tr>\n",
       "      <th>2</th>\n",
       "      <td>2011.0</td>\n",
       "      <td>143.0</td>\n",
       "      <td>0.0</td>\n",
       "      <td>10.43</td>\n",
       "      <td>0.000000</td>\n",
       "      <td>99.0</td>\n",
       "      <td>0.0</td>\n",
       "      <td>44.5</td>\n",
       "      <td>99.0</td>\n",
       "      <td>7.58</td>\n",
       "      <td>99.0</td>\n",
       "      <td>0.1</td>\n",
       "      <td>1386542.0</td>\n",
       "      <td>4.3</td>\n",
       "      <td>0.733</td>\n",
       "      <td>12.9</td>\n",
       "      <td>1.0</td>\n",
       "    </tr>\n",
       "    <tr>\n",
       "      <th>3</th>\n",
       "      <td>2013.0</td>\n",
       "      <td>13.0</td>\n",
       "      <td>3.0</td>\n",
       "      <td>1.29</td>\n",
       "      <td>594.645310</td>\n",
       "      <td>98.0</td>\n",
       "      <td>16.0</td>\n",
       "      <td>59.3</td>\n",
       "      <td>98.0</td>\n",
       "      <td>7.26</td>\n",
       "      <td>98.0</td>\n",
       "      <td>0.1</td>\n",
       "      <td>1114558.0</td>\n",
       "      <td>6.4</td>\n",
       "      <td>0.720</td>\n",
       "      <td>14.7</td>\n",
       "      <td>1.0</td>\n",
       "    </tr>\n",
       "    <tr>\n",
       "      <th>4</th>\n",
       "      <td>2002.0</td>\n",
       "      <td>95.0</td>\n",
       "      <td>0.0</td>\n",
       "      <td>0.13</td>\n",
       "      <td>941.703687</td>\n",
       "      <td>99.0</td>\n",
       "      <td>0.0</td>\n",
       "      <td>28.0</td>\n",
       "      <td>99.0</td>\n",
       "      <td>3.40</td>\n",
       "      <td>94.0</td>\n",
       "      <td>0.1</td>\n",
       "      <td>1386542.0</td>\n",
       "      <td>6.7</td>\n",
       "      <td>0.820</td>\n",
       "      <td>13.3</td>\n",
       "      <td>1.0</td>\n",
       "    </tr>\n",
       "    <tr>\n",
       "      <th>...</th>\n",
       "      <td>...</td>\n",
       "      <td>...</td>\n",
       "      <td>...</td>\n",
       "      <td>...</td>\n",
       "      <td>...</td>\n",
       "      <td>...</td>\n",
       "      <td>...</td>\n",
       "      <td>...</td>\n",
       "      <td>...</td>\n",
       "      <td>...</td>\n",
       "      <td>...</td>\n",
       "      <td>...</td>\n",
       "      <td>...</td>\n",
       "      <td>...</td>\n",
       "      <td>...</td>\n",
       "      <td>...</td>\n",
       "      <td>...</td>\n",
       "    </tr>\n",
       "    <tr>\n",
       "      <th>2345</th>\n",
       "      <td>2011.0</td>\n",
       "      <td>59.0</td>\n",
       "      <td>0.0</td>\n",
       "      <td>6.91</td>\n",
       "      <td>3601.287457</td>\n",
       "      <td>82.0</td>\n",
       "      <td>3.0</td>\n",
       "      <td>68.0</td>\n",
       "      <td>96.0</td>\n",
       "      <td>9.60</td>\n",
       "      <td>96.0</td>\n",
       "      <td>0.1</td>\n",
       "      <td>416268.0</td>\n",
       "      <td>0.8</td>\n",
       "      <td>0.826</td>\n",
       "      <td>14.8</td>\n",
       "      <td>0.0</td>\n",
       "    </tr>\n",
       "    <tr>\n",
       "      <th>2346</th>\n",
       "      <td>2010.0</td>\n",
       "      <td>287.0</td>\n",
       "      <td>4.0</td>\n",
       "      <td>3.21</td>\n",
       "      <td>53.307827</td>\n",
       "      <td>83.0</td>\n",
       "      <td>26.0</td>\n",
       "      <td>23.1</td>\n",
       "      <td>82.0</td>\n",
       "      <td>6.70</td>\n",
       "      <td>83.0</td>\n",
       "      <td>5.9</td>\n",
       "      <td>155588.0</td>\n",
       "      <td>8.0</td>\n",
       "      <td>0.405</td>\n",
       "      <td>8.9</td>\n",
       "      <td>1.0</td>\n",
       "    </tr>\n",
       "    <tr>\n",
       "      <th>2347</th>\n",
       "      <td>2007.0</td>\n",
       "      <td>266.0</td>\n",
       "      <td>17.0</td>\n",
       "      <td>6.08</td>\n",
       "      <td>56.778587</td>\n",
       "      <td>92.0</td>\n",
       "      <td>0.0</td>\n",
       "      <td>4.7</td>\n",
       "      <td>62.0</td>\n",
       "      <td>5.56</td>\n",
       "      <td>63.0</td>\n",
       "      <td>2.7</td>\n",
       "      <td>9556889.0</td>\n",
       "      <td>4.2</td>\n",
       "      <td>0.458</td>\n",
       "      <td>8.4</td>\n",
       "      <td>1.0</td>\n",
       "    </tr>\n",
       "    <tr>\n",
       "      <th>2348</th>\n",
       "      <td>2003.0</td>\n",
       "      <td>72.0</td>\n",
       "      <td>2.0</td>\n",
       "      <td>9.30</td>\n",
       "      <td>3519.258515</td>\n",
       "      <td>95.0</td>\n",
       "      <td>10982.0</td>\n",
       "      <td>57.0</td>\n",
       "      <td>97.0</td>\n",
       "      <td>8.17</td>\n",
       "      <td>96.0</td>\n",
       "      <td>0.1</td>\n",
       "      <td>5731323.0</td>\n",
       "      <td>0.5</td>\n",
       "      <td>0.841</td>\n",
       "      <td>15.4</td>\n",
       "      <td>0.0</td>\n",
       "    </tr>\n",
       "    <tr>\n",
       "      <th>2349</th>\n",
       "      <td>2005.0</td>\n",
       "      <td>34.0</td>\n",
       "      <td>7.0</td>\n",
       "      <td>1.07</td>\n",
       "      <td>5.064689</td>\n",
       "      <td>96.0</td>\n",
       "      <td>19.0</td>\n",
       "      <td>13.9</td>\n",
       "      <td>96.0</td>\n",
       "      <td>2.97</td>\n",
       "      <td>96.0</td>\n",
       "      <td>1.6</td>\n",
       "      <td>39697.0</td>\n",
       "      <td>9.4</td>\n",
       "      <td>0.000</td>\n",
       "      <td>5.4</td>\n",
       "      <td>1.0</td>\n",
       "    </tr>\n",
       "  </tbody>\n",
       "</table>\n",
       "<p>2350 rows × 17 columns</p>\n",
       "</div>"
      ],
      "text/plain": [
       "        year  adult mortality  infant deaths  alcohol  percentage expenditure  \\\n",
       "0     2007.0            126.0            0.0     5.28              345.463714   \n",
       "1     2001.0            152.0            0.0     3.81              150.743486   \n",
       "2     2011.0            143.0            0.0    10.43                0.000000   \n",
       "3     2013.0             13.0            3.0     1.29              594.645310   \n",
       "4     2002.0             95.0            0.0     0.13              941.703687   \n",
       "...      ...              ...            ...      ...                     ...   \n",
       "2345  2011.0             59.0            0.0     6.91             3601.287457   \n",
       "2346  2010.0            287.0            4.0     3.21               53.307827   \n",
       "2347  2007.0            266.0           17.0     6.08               56.778587   \n",
       "2348  2003.0             72.0            2.0     9.30             3519.258515   \n",
       "2349  2005.0             34.0            7.0     1.07                5.064689   \n",
       "\n",
       "      hepatitis b  measles   bmi  polio  total expenditure  diphtheria  \\\n",
       "0            96.0      0.0  25.5   98.0               4.30        98.0   \n",
       "1            92.0      0.0  22.1   91.0               5.19         9.0   \n",
       "2            99.0      0.0  44.5   99.0               7.58        99.0   \n",
       "3            98.0     16.0  59.3   98.0               7.26        98.0   \n",
       "4            99.0      0.0  28.0   99.0               3.40        94.0   \n",
       "...           ...      ...   ...    ...                ...         ...   \n",
       "2345         82.0      3.0  68.0   96.0               9.60        96.0   \n",
       "2346         83.0     26.0  23.1   82.0               6.70        83.0   \n",
       "2347         92.0      0.0   4.7   62.0               5.56        63.0   \n",
       "2348         95.0  10982.0  57.0   97.0               8.17        96.0   \n",
       "2349         96.0     19.0  13.9   96.0               2.97        96.0   \n",
       "\n",
       "      hiv/aids  population  thinness 1-19 years  \\\n",
       "0          0.6    486438.0                  8.1   \n",
       "1          0.8    443716.0                  9.4   \n",
       "2          0.1   1386542.0                  4.3   \n",
       "3          0.1   1114558.0                  6.4   \n",
       "4          0.1   1386542.0                  6.7   \n",
       "...        ...         ...                  ...   \n",
       "2345       0.1    416268.0                  0.8   \n",
       "2346       5.9    155588.0                  8.0   \n",
       "2347       2.7   9556889.0                  4.2   \n",
       "2348       0.1   5731323.0                  0.5   \n",
       "2349       1.6     39697.0                  9.4   \n",
       "\n",
       "      income composition of resources  schooling  status_Developing  \n",
       "0                               0.602       11.9                1.0  \n",
       "1                               0.562       11.0                1.0  \n",
       "2                               0.733       12.9                1.0  \n",
       "3                               0.720       14.7                1.0  \n",
       "4                               0.820       13.3                1.0  \n",
       "...                               ...        ...                ...  \n",
       "2345                            0.826       14.8                0.0  \n",
       "2346                            0.405        8.9                1.0  \n",
       "2347                            0.458        8.4                1.0  \n",
       "2348                            0.841       15.4                0.0  \n",
       "2349                            0.000        5.4                1.0  \n",
       "\n",
       "[2350 rows x 17 columns]"
      ]
     },
     "metadata": {},
     "output_type": "display_data"
    }
   ],
   "source": [
    "lm = LinearRegression()\n",
    "\n",
    "selector = RFE(lm, n_features_to_select= 17, step = 1, verbose = 1)\n",
    "selector.fit(X3_train, y3_train)\n",
    "\n",
    "kept_features = selector.get_support(indices = True) \n",
    "kept_features = list(X3_train.iloc[:,kept_features].columns)\n",
    "\n",
    "X3_train_RFE = selector.transform(X3_train)\n",
    "X3_test_RFE  = selector.transform(X3_test)\n",
    "\n",
    "X3_train_RFE = pd.DataFrame(X3_train_RFE, columns=kept_features)\n",
    "X3_test_RFE  = pd.DataFrame(X3_test_RFE, columns=kept_features)\n",
    "\n",
    "print(\"Final selected features: \")\n",
    "display(X3_train_RFE)"
   ]
  },
  {
   "cell_type": "markdown",
   "id": "ca25b0e9",
   "metadata": {},
   "source": [
    "# Standardizing Data (X3, y3)"
   ]
  },
  {
   "cell_type": "code",
   "execution_count": 95,
   "id": "624d9385",
   "metadata": {},
   "outputs": [],
   "source": [
    "std_scaler=StandardScaler().fit(X3_train_RFE)   \n",
    "\n",
    "X3_train_scaled=std_scaler.transform(X3_train_RFE)\n"
   ]
  },
  {
   "cell_type": "code",
   "execution_count": 96,
   "id": "fde7a1ab",
   "metadata": {},
   "outputs": [],
   "source": [
    "X3_test_scaled=std_scaler.transform(X3_test_RFE)"
   ]
  },
  {
   "cell_type": "markdown",
   "id": "b0a6fb51",
   "metadata": {},
   "source": [
    "# Fitting model (Linear Regression, X3, y3)"
   ]
  },
  {
   "cell_type": "code",
   "execution_count": 97,
   "id": "6327cfb7",
   "metadata": {},
   "outputs": [
    {
     "data": {
      "text/html": [
       "<style>#sk-container-id-3 {color: black;background-color: white;}#sk-container-id-3 pre{padding: 0;}#sk-container-id-3 div.sk-toggleable {background-color: white;}#sk-container-id-3 label.sk-toggleable__label {cursor: pointer;display: block;width: 100%;margin-bottom: 0;padding: 0.3em;box-sizing: border-box;text-align: center;}#sk-container-id-3 label.sk-toggleable__label-arrow:before {content: \"▸\";float: left;margin-right: 0.25em;color: #696969;}#sk-container-id-3 label.sk-toggleable__label-arrow:hover:before {color: black;}#sk-container-id-3 div.sk-estimator:hover label.sk-toggleable__label-arrow:before {color: black;}#sk-container-id-3 div.sk-toggleable__content {max-height: 0;max-width: 0;overflow: hidden;text-align: left;background-color: #f0f8ff;}#sk-container-id-3 div.sk-toggleable__content pre {margin: 0.2em;color: black;border-radius: 0.25em;background-color: #f0f8ff;}#sk-container-id-3 input.sk-toggleable__control:checked~div.sk-toggleable__content {max-height: 200px;max-width: 100%;overflow: auto;}#sk-container-id-3 input.sk-toggleable__control:checked~label.sk-toggleable__label-arrow:before {content: \"▾\";}#sk-container-id-3 div.sk-estimator input.sk-toggleable__control:checked~label.sk-toggleable__label {background-color: #d4ebff;}#sk-container-id-3 div.sk-label input.sk-toggleable__control:checked~label.sk-toggleable__label {background-color: #d4ebff;}#sk-container-id-3 input.sk-hidden--visually {border: 0;clip: rect(1px 1px 1px 1px);clip: rect(1px, 1px, 1px, 1px);height: 1px;margin: -1px;overflow: hidden;padding: 0;position: absolute;width: 1px;}#sk-container-id-3 div.sk-estimator {font-family: monospace;background-color: #f0f8ff;border: 1px dotted black;border-radius: 0.25em;box-sizing: border-box;margin-bottom: 0.5em;}#sk-container-id-3 div.sk-estimator:hover {background-color: #d4ebff;}#sk-container-id-3 div.sk-parallel-item::after {content: \"\";width: 100%;border-bottom: 1px solid gray;flex-grow: 1;}#sk-container-id-3 div.sk-label:hover label.sk-toggleable__label {background-color: #d4ebff;}#sk-container-id-3 div.sk-serial::before {content: \"\";position: absolute;border-left: 1px solid gray;box-sizing: border-box;top: 0;bottom: 0;left: 50%;z-index: 0;}#sk-container-id-3 div.sk-serial {display: flex;flex-direction: column;align-items: center;background-color: white;padding-right: 0.2em;padding-left: 0.2em;position: relative;}#sk-container-id-3 div.sk-item {position: relative;z-index: 1;}#sk-container-id-3 div.sk-parallel {display: flex;align-items: stretch;justify-content: center;background-color: white;position: relative;}#sk-container-id-3 div.sk-item::before, #sk-container-id-3 div.sk-parallel-item::before {content: \"\";position: absolute;border-left: 1px solid gray;box-sizing: border-box;top: 0;bottom: 0;left: 50%;z-index: -1;}#sk-container-id-3 div.sk-parallel-item {display: flex;flex-direction: column;z-index: 1;position: relative;background-color: white;}#sk-container-id-3 div.sk-parallel-item:first-child::after {align-self: flex-end;width: 50%;}#sk-container-id-3 div.sk-parallel-item:last-child::after {align-self: flex-start;width: 50%;}#sk-container-id-3 div.sk-parallel-item:only-child::after {width: 0;}#sk-container-id-3 div.sk-dashed-wrapped {border: 1px dashed gray;margin: 0 0.4em 0.5em 0.4em;box-sizing: border-box;padding-bottom: 0.4em;background-color: white;}#sk-container-id-3 div.sk-label label {font-family: monospace;font-weight: bold;display: inline-block;line-height: 1.2em;}#sk-container-id-3 div.sk-label-container {text-align: center;}#sk-container-id-3 div.sk-container {/* jupyter's `normalize.less` sets `[hidden] { display: none; }` but bootstrap.min.css set `[hidden] { display: none !important; }` so we also need the `!important` here to be able to override the default hidden behavior on the sphinx rendered scikit-learn.org. See: https://github.com/scikit-learn/scikit-learn/issues/21755 */display: inline-block !important;position: relative;}#sk-container-id-3 div.sk-text-repr-fallback {display: none;}</style><div id=\"sk-container-id-3\" class=\"sk-top-container\"><div class=\"sk-text-repr-fallback\"><pre>LinearRegression()</pre><b>In a Jupyter environment, please rerun this cell to show the HTML representation or trust the notebook. <br />On GitHub, the HTML representation is unable to render, please try loading this page with nbviewer.org.</b></div><div class=\"sk-container\" hidden><div class=\"sk-item\"><div class=\"sk-estimator sk-toggleable\"><input class=\"sk-toggleable__control sk-hidden--visually\" id=\"sk-estimator-id-3\" type=\"checkbox\" checked><label for=\"sk-estimator-id-3\" class=\"sk-toggleable__label sk-toggleable__label-arrow\">LinearRegression</label><div class=\"sk-toggleable__content\"><pre>LinearRegression()</pre></div></div></div></div></div>"
      ],
      "text/plain": [
       "LinearRegression()"
      ]
     },
     "execution_count": 97,
     "metadata": {},
     "output_type": "execute_result"
    }
   ],
   "source": [
    "model3=LinearRegression()    \n",
    "model3.fit(X3_train_scaled, y3_train)"
   ]
  },
  {
   "cell_type": "markdown",
   "id": "53c6352b",
   "metadata": {},
   "source": [
    "# Making prediction (X3, y3)"
   ]
  },
  {
   "cell_type": "code",
   "execution_count": 98,
   "id": "cd206b0c",
   "metadata": {},
   "outputs": [],
   "source": [
    "y3_pred=model3.predict(X3_test_scaled)   \n",
    "\n",
    "y3_pred_train=model2.predict(X3_train_scaled)"
   ]
  },
  {
   "cell_type": "markdown",
   "id": "eb8f7108",
   "metadata": {},
   "source": [
    "# Evaluating model performance (X3, y3)"
   ]
  },
  {
   "cell_type": "code",
   "execution_count": 99,
   "id": "0bda3b02",
   "metadata": {},
   "outputs": [
    {
     "data": {
      "text/plain": [
       "[<matplotlib.lines.Line2D at 0x7fb26a6da820>]"
      ]
     },
     "execution_count": 99,
     "metadata": {},
     "output_type": "execute_result"
    },
    {
     "data": {
      "image/png": "[encoded data removed]",
      "text/plain": [
       "<Figure size 1008x288 with 3 Axes>"
      ]
     },
     "metadata": {},
     "output_type": "display_data"
    }
   ],
   "source": [
    "fig, ax = plt.subplots(1,3,figsize=(14,4))\n",
    "\n",
    "ax[0].plot(y3_pred, y3_test, 'o')\n",
    "ax[0].set_xlabel(\"y_test\")\n",
    "ax[0].set_ylabel(\"y_pred\")\n",
    "ax[0].set_title(\"Test Set - Predicted vs real\")\n",
    " \n",
    "\n",
    "ax[1].hist(y3_test - y3_pred)\n",
    "ax[1].set_xlabel(\"Test y-y_pred\")\n",
    "ax[1].set_title(\"Test Set Residual histogram\")\n",
    "\n",
    "ax[2].plot(y3_pred,y3_test - y3_pred,\"o\")\n",
    "ax[2].set_xlabel(\"predicted\")\n",
    "ax[2].set_ylabel(\"residuals\")\n",
    "ax[2].set_title(\"Residuals by Predicted\")\n",
    "ax[2].plot(y1_pred,np.zeros(len(y2_pred)),linestyle='dashed')"
   ]
  },
  {
   "cell_type": "markdown",
   "id": "18643b9b",
   "metadata": {},
   "source": [
    "# Error metrics (X3, y3)"
   ]
  },
  {
   "cell_type": "code",
   "execution_count": 100,
   "id": "0ed79201",
   "metadata": {},
   "outputs": [
    {
     "name": "stdout",
     "output_type": "stream",
     "text": [
      "16.422575702188926\n",
      "2.958726287564941\n"
     ]
    }
   ],
   "source": [
    "print(mse(y3_test,y3_pred))\n",
    "print(mae(y3_test,y3_pred))"
   ]
  },
  {
   "cell_type": "code",
   "execution_count": 101,
   "id": "6366e162",
   "metadata": {},
   "outputs": [
    {
     "data": {
      "text/plain": [
       "0.8105102694145473"
      ]
     },
     "execution_count": 101,
     "metadata": {},
     "output_type": "execute_result"
    }
   ],
   "source": [
    "R2_3=r2_score(y3_test,y3_pred)\n",
    "R2_3"
   ]
  },
  {
   "cell_type": "markdown",
   "id": "187a744a",
   "metadata": {},
   "source": [
    "# Cross validation (X3, y3)"
   ]
  },
  {
   "cell_type": "code",
   "execution_count": 102,
   "id": "3517bc94",
   "metadata": {},
   "outputs": [
    {
     "data": {
      "text/plain": [
       "array([0.81225427, 0.82636868, 0.78193953, 0.78345571, 0.80762642])"
      ]
     },
     "execution_count": 102,
     "metadata": {},
     "output_type": "execute_result"
    }
   ],
   "source": [
    "scores3=cross_val_score(model3, X3_train, y3_train, cv = 5)\n",
    "scores3"
   ]
  },
  {
   "cell_type": "code",
   "execution_count": 103,
   "id": "9aef9121",
   "metadata": {},
   "outputs": [
    {
     "name": "stdout",
     "output_type": "stream",
     "text": [
      "0.80 accuracy with a standard deviation of 0.02\n"
     ]
    }
   ],
   "source": [
    "print(\"%0.2f accuracy with a standard deviation of %0.2f\" % (scores3.mean(), scores3.std()))"
   ]
  },
  {
   "cell_type": "markdown",
   "id": "8e399264",
   "metadata": {},
   "source": [
    "# Defining X4, y4 (KNN Regression)"
   ]
  },
  {
   "cell_type": "code",
   "execution_count": 104,
   "id": "74bc9eae",
   "metadata": {},
   "outputs": [],
   "source": [
    "X4 = X3"
   ]
  },
  {
   "cell_type": "code",
   "execution_count": 105,
   "id": "96816f0f",
   "metadata": {},
   "outputs": [],
   "source": [
    "y4 = y3"
   ]
  },
  {
   "cell_type": "markdown",
   "id": "0d2150b4",
   "metadata": {},
   "source": [
    "# Data splitting (X4, y4)"
   ]
  },
  {
   "cell_type": "code",
   "execution_count": 106,
   "id": "394d7a8c",
   "metadata": {},
   "outputs": [],
   "source": [
    "X4_train, X4_test, y4_train, y4_test = train_test_split(X4, y4, test_size=0.20, random_state=42)\n",
    "\n",
    "X4_train = pd.DataFrame(X4_train, columns=X4.columns)\n",
    "X4_test  = pd.DataFrame(X4_test, columns=X4.columns)"
   ]
  },
  {
   "cell_type": "markdown",
   "id": "94c699e1",
   "metadata": {},
   "source": [
    "# Recursive Feature Elimination (X3, y3)"
   ]
  },
  {
   "cell_type": "code",
   "execution_count": 107,
   "id": "78a7951e",
   "metadata": {},
   "outputs": [
    {
     "name": "stdout",
     "output_type": "stream",
     "text": [
      "Final selected features: \n"
     ]
    },
    {
     "data": {
      "text/html": [
       "<div>\n",
       "<style scoped>\n",
       "    .dataframe tbody tr th:only-of-type {\n",
       "        vertical-align: middle;\n",
       "    }\n",
       "\n",
       "    .dataframe tbody tr th {\n",
       "        vertical-align: top;\n",
       "    }\n",
       "\n",
       "    .dataframe thead th {\n",
       "        text-align: right;\n",
       "    }\n",
       "</style>\n",
       "<table border=\"1\" class=\"dataframe\">\n",
       "  <thead>\n",
       "    <tr style=\"text-align: right;\">\n",
       "      <th></th>\n",
       "      <th>year</th>\n",
       "      <th>adult mortality</th>\n",
       "      <th>infant deaths</th>\n",
       "      <th>alcohol</th>\n",
       "      <th>percentage expenditure</th>\n",
       "      <th>hepatitis b</th>\n",
       "      <th>measles</th>\n",
       "      <th>bmi</th>\n",
       "      <th>polio</th>\n",
       "      <th>total expenditure</th>\n",
       "      <th>diphtheria</th>\n",
       "      <th>hiv/aids</th>\n",
       "      <th>population</th>\n",
       "      <th>thinness 1-19 years</th>\n",
       "      <th>income composition of resources</th>\n",
       "      <th>schooling</th>\n",
       "      <th>status_Developing</th>\n",
       "    </tr>\n",
       "  </thead>\n",
       "  <tbody>\n",
       "    <tr>\n",
       "      <th>0</th>\n",
       "      <td>2007.0</td>\n",
       "      <td>126.0</td>\n",
       "      <td>0.0</td>\n",
       "      <td>5.28</td>\n",
       "      <td>345.463714</td>\n",
       "      <td>96.0</td>\n",
       "      <td>0.0</td>\n",
       "      <td>25.5</td>\n",
       "      <td>98.0</td>\n",
       "      <td>4.30</td>\n",
       "      <td>98.0</td>\n",
       "      <td>0.6</td>\n",
       "      <td>486438.0</td>\n",
       "      <td>8.1</td>\n",
       "      <td>0.602</td>\n",
       "      <td>11.9</td>\n",
       "      <td>1.0</td>\n",
       "    </tr>\n",
       "    <tr>\n",
       "      <th>1</th>\n",
       "      <td>2001.0</td>\n",
       "      <td>152.0</td>\n",
       "      <td>0.0</td>\n",
       "      <td>3.81</td>\n",
       "      <td>150.743486</td>\n",
       "      <td>92.0</td>\n",
       "      <td>0.0</td>\n",
       "      <td>22.1</td>\n",
       "      <td>91.0</td>\n",
       "      <td>5.19</td>\n",
       "      <td>9.0</td>\n",
       "      <td>0.8</td>\n",
       "      <td>443716.0</td>\n",
       "      <td>9.4</td>\n",
       "      <td>0.562</td>\n",
       "      <td>11.0</td>\n",
       "      <td>1.0</td>\n",
       "    </tr>\n",
       "    <tr>\n",
       "      <th>2</th>\n",
       "      <td>2011.0</td>\n",
       "      <td>143.0</td>\n",
       "      <td>0.0</td>\n",
       "      <td>10.43</td>\n",
       "      <td>0.000000</td>\n",
       "      <td>99.0</td>\n",
       "      <td>0.0</td>\n",
       "      <td>44.5</td>\n",
       "      <td>99.0</td>\n",
       "      <td>7.58</td>\n",
       "      <td>99.0</td>\n",
       "      <td>0.1</td>\n",
       "      <td>1386542.0</td>\n",
       "      <td>4.3</td>\n",
       "      <td>0.733</td>\n",
       "      <td>12.9</td>\n",
       "      <td>1.0</td>\n",
       "    </tr>\n",
       "    <tr>\n",
       "      <th>3</th>\n",
       "      <td>2013.0</td>\n",
       "      <td>13.0</td>\n",
       "      <td>3.0</td>\n",
       "      <td>1.29</td>\n",
       "      <td>594.645310</td>\n",
       "      <td>98.0</td>\n",
       "      <td>16.0</td>\n",
       "      <td>59.3</td>\n",
       "      <td>98.0</td>\n",
       "      <td>7.26</td>\n",
       "      <td>98.0</td>\n",
       "      <td>0.1</td>\n",
       "      <td>1114558.0</td>\n",
       "      <td>6.4</td>\n",
       "      <td>0.720</td>\n",
       "      <td>14.7</td>\n",
       "      <td>1.0</td>\n",
       "    </tr>\n",
       "    <tr>\n",
       "      <th>4</th>\n",
       "      <td>2002.0</td>\n",
       "      <td>95.0</td>\n",
       "      <td>0.0</td>\n",
       "      <td>0.13</td>\n",
       "      <td>941.703687</td>\n",
       "      <td>99.0</td>\n",
       "      <td>0.0</td>\n",
       "      <td>28.0</td>\n",
       "      <td>99.0</td>\n",
       "      <td>3.40</td>\n",
       "      <td>94.0</td>\n",
       "      <td>0.1</td>\n",
       "      <td>1386542.0</td>\n",
       "      <td>6.7</td>\n",
       "      <td>0.820</td>\n",
       "      <td>13.3</td>\n",
       "      <td>1.0</td>\n",
       "    </tr>\n",
       "    <tr>\n",
       "      <th>...</th>\n",
       "      <td>...</td>\n",
       "      <td>...</td>\n",
       "      <td>...</td>\n",
       "      <td>...</td>\n",
       "      <td>...</td>\n",
       "      <td>...</td>\n",
       "      <td>...</td>\n",
       "      <td>...</td>\n",
       "      <td>...</td>\n",
       "      <td>...</td>\n",
       "      <td>...</td>\n",
       "      <td>...</td>\n",
       "      <td>...</td>\n",
       "      <td>...</td>\n",
       "      <td>...</td>\n",
       "      <td>...</td>\n",
       "      <td>...</td>\n",
       "    </tr>\n",
       "    <tr>\n",
       "      <th>2345</th>\n",
       "      <td>2011.0</td>\n",
       "      <td>59.0</td>\n",
       "      <td>0.0</td>\n",
       "      <td>6.91</td>\n",
       "      <td>3601.287457</td>\n",
       "      <td>82.0</td>\n",
       "      <td>3.0</td>\n",
       "      <td>68.0</td>\n",
       "      <td>96.0</td>\n",
       "      <td>9.60</td>\n",
       "      <td>96.0</td>\n",
       "      <td>0.1</td>\n",
       "      <td>416268.0</td>\n",
       "      <td>0.8</td>\n",
       "      <td>0.826</td>\n",
       "      <td>14.8</td>\n",
       "      <td>0.0</td>\n",
       "    </tr>\n",
       "    <tr>\n",
       "      <th>2346</th>\n",
       "      <td>2010.0</td>\n",
       "      <td>287.0</td>\n",
       "      <td>4.0</td>\n",
       "      <td>3.21</td>\n",
       "      <td>53.307827</td>\n",
       "      <td>83.0</td>\n",
       "      <td>26.0</td>\n",
       "      <td>23.1</td>\n",
       "      <td>82.0</td>\n",
       "      <td>6.70</td>\n",
       "      <td>83.0</td>\n",
       "      <td>5.9</td>\n",
       "      <td>155588.0</td>\n",
       "      <td>8.0</td>\n",
       "      <td>0.405</td>\n",
       "      <td>8.9</td>\n",
       "      <td>1.0</td>\n",
       "    </tr>\n",
       "    <tr>\n",
       "      <th>2347</th>\n",
       "      <td>2007.0</td>\n",
       "      <td>266.0</td>\n",
       "      <td>17.0</td>\n",
       "      <td>6.08</td>\n",
       "      <td>56.778587</td>\n",
       "      <td>92.0</td>\n",
       "      <td>0.0</td>\n",
       "      <td>4.7</td>\n",
       "      <td>62.0</td>\n",
       "      <td>5.56</td>\n",
       "      <td>63.0</td>\n",
       "      <td>2.7</td>\n",
       "      <td>9556889.0</td>\n",
       "      <td>4.2</td>\n",
       "      <td>0.458</td>\n",
       "      <td>8.4</td>\n",
       "      <td>1.0</td>\n",
       "    </tr>\n",
       "    <tr>\n",
       "      <th>2348</th>\n",
       "      <td>2003.0</td>\n",
       "      <td>72.0</td>\n",
       "      <td>2.0</td>\n",
       "      <td>9.30</td>\n",
       "      <td>3519.258515</td>\n",
       "      <td>95.0</td>\n",
       "      <td>10982.0</td>\n",
       "      <td>57.0</td>\n",
       "      <td>97.0</td>\n",
       "      <td>8.17</td>\n",
       "      <td>96.0</td>\n",
       "      <td>0.1</td>\n",
       "      <td>5731323.0</td>\n",
       "      <td>0.5</td>\n",
       "      <td>0.841</td>\n",
       "      <td>15.4</td>\n",
       "      <td>0.0</td>\n",
       "    </tr>\n",
       "    <tr>\n",
       "      <th>2349</th>\n",
       "      <td>2005.0</td>\n",
       "      <td>34.0</td>\n",
       "      <td>7.0</td>\n",
       "      <td>1.07</td>\n",
       "      <td>5.064689</td>\n",
       "      <td>96.0</td>\n",
       "      <td>19.0</td>\n",
       "      <td>13.9</td>\n",
       "      <td>96.0</td>\n",
       "      <td>2.97</td>\n",
       "      <td>96.0</td>\n",
       "      <td>1.6</td>\n",
       "      <td>39697.0</td>\n",
       "      <td>9.4</td>\n",
       "      <td>0.000</td>\n",
       "      <td>5.4</td>\n",
       "      <td>1.0</td>\n",
       "    </tr>\n",
       "  </tbody>\n",
       "</table>\n",
       "<p>2350 rows × 17 columns</p>\n",
       "</div>"
      ],
      "text/plain": [
       "        year  adult mortality  infant deaths  alcohol  percentage expenditure  \\\n",
       "0     2007.0            126.0            0.0     5.28              345.463714   \n",
       "1     2001.0            152.0            0.0     3.81              150.743486   \n",
       "2     2011.0            143.0            0.0    10.43                0.000000   \n",
       "3     2013.0             13.0            3.0     1.29              594.645310   \n",
       "4     2002.0             95.0            0.0     0.13              941.703687   \n",
       "...      ...              ...            ...      ...                     ...   \n",
       "2345  2011.0             59.0            0.0     6.91             3601.287457   \n",
       "2346  2010.0            287.0            4.0     3.21               53.307827   \n",
       "2347  2007.0            266.0           17.0     6.08               56.778587   \n",
       "2348  2003.0             72.0            2.0     9.30             3519.258515   \n",
       "2349  2005.0             34.0            7.0     1.07                5.064689   \n",
       "\n",
       "      hepatitis b  measles   bmi  polio  total expenditure  diphtheria  \\\n",
       "0            96.0      0.0  25.5   98.0               4.30        98.0   \n",
       "1            92.0      0.0  22.1   91.0               5.19         9.0   \n",
       "2            99.0      0.0  44.5   99.0               7.58        99.0   \n",
       "3            98.0     16.0  59.3   98.0               7.26        98.0   \n",
       "4            99.0      0.0  28.0   99.0               3.40        94.0   \n",
       "...           ...      ...   ...    ...                ...         ...   \n",
       "2345         82.0      3.0  68.0   96.0               9.60        96.0   \n",
       "2346         83.0     26.0  23.1   82.0               6.70        83.0   \n",
       "2347         92.0      0.0   4.7   62.0               5.56        63.0   \n",
       "2348         95.0  10982.0  57.0   97.0               8.17        96.0   \n",
       "2349         96.0     19.0  13.9   96.0               2.97        96.0   \n",
       "\n",
       "      hiv/aids  population  thinness 1-19 years  \\\n",
       "0          0.6    486438.0                  8.1   \n",
       "1          0.8    443716.0                  9.4   \n",
       "2          0.1   1386542.0                  4.3   \n",
       "3          0.1   1114558.0                  6.4   \n",
       "4          0.1   1386542.0                  6.7   \n",
       "...        ...         ...                  ...   \n",
       "2345       0.1    416268.0                  0.8   \n",
       "2346       5.9    155588.0                  8.0   \n",
       "2347       2.7   9556889.0                  4.2   \n",
       "2348       0.1   5731323.0                  0.5   \n",
       "2349       1.6     39697.0                  9.4   \n",
       "\n",
       "      income composition of resources  schooling  status_Developing  \n",
       "0                               0.602       11.9                1.0  \n",
       "1                               0.562       11.0                1.0  \n",
       "2                               0.733       12.9                1.0  \n",
       "3                               0.720       14.7                1.0  \n",
       "4                               0.820       13.3                1.0  \n",
       "...                               ...        ...                ...  \n",
       "2345                            0.826       14.8                0.0  \n",
       "2346                            0.405        8.9                1.0  \n",
       "2347                            0.458        8.4                1.0  \n",
       "2348                            0.841       15.4                0.0  \n",
       "2349                            0.000        5.4                1.0  \n",
       "\n",
       "[2350 rows x 17 columns]"
      ]
     },
     "metadata": {},
     "output_type": "display_data"
    }
   ],
   "source": [
    "lm = LinearRegression()\n",
    "\n",
    "selector = RFE(lm, n_features_to_select= 17, step = 1, verbose = 1)\n",
    "selector.fit(X4_train, y4_train)\n",
    "\n",
    "kept_features = selector.get_support(indices = True) \n",
    "kept_features = list(X4_train.iloc[:,kept_features].columns)\n",
    "\n",
    "X4_train_RFE = selector.transform(X4_train)\n",
    "X4_test_RFE  = selector.transform(X4_test)\n",
    "\n",
    "X4_train_RFE = pd.DataFrame(X4_train_RFE, columns=kept_features)\n",
    "X4_test_RFE  = pd.DataFrame(X4_test_RFE, columns=kept_features)\n",
    "\n",
    "print(\"Final selected features: \")\n",
    "display(X4_train_RFE)"
   ]
  },
  {
   "cell_type": "markdown",
   "id": "3e9c67ce",
   "metadata": {},
   "source": [
    "# Standardizing Data (X4, y4)"
   ]
  },
  {
   "cell_type": "code",
   "execution_count": 108,
   "id": "04486c2e",
   "metadata": {},
   "outputs": [],
   "source": [
    "std_scaler=StandardScaler().fit(X4_train_RFE)   \n",
    "\n",
    "X4_train_scaled=std_scaler.transform(X4_train_RFE)\n"
   ]
  },
  {
   "cell_type": "code",
   "execution_count": 109,
   "id": "1fa1c7db",
   "metadata": {},
   "outputs": [],
   "source": [
    "X4_test_scaled=std_scaler.transform(X4_test_RFE)"
   ]
  },
  {
   "cell_type": "markdown",
   "id": "984a52c9",
   "metadata": {},
   "source": [
    "# Fitting model (KNN Regression, X4, y4)"
   ]
  },
  {
   "cell_type": "code",
   "execution_count": 110,
   "id": "095d1782",
   "metadata": {},
   "outputs": [],
   "source": [
    "neigh = KNeighborsRegressor(n_neighbors=2)"
   ]
  },
  {
   "cell_type": "code",
   "execution_count": 111,
   "id": "83cf984f",
   "metadata": {},
   "outputs": [
    {
     "data": {
      "text/html": [
       "<style>#sk-container-id-4 {color: black;background-color: white;}#sk-container-id-4 pre{padding: 0;}#sk-container-id-4 div.sk-toggleable {background-color: white;}#sk-container-id-4 label.sk-toggleable__label {cursor: pointer;display: block;width: 100%;margin-bottom: 0;padding: 0.3em;box-sizing: border-box;text-align: center;}#sk-container-id-4 label.sk-toggleable__label-arrow:before {content: \"▸\";float: left;margin-right: 0.25em;color: #696969;}#sk-container-id-4 label.sk-toggleable__label-arrow:hover:before {color: black;}#sk-container-id-4 div.sk-estimator:hover label.sk-toggleable__label-arrow:before {color: black;}#sk-container-id-4 div.sk-toggleable__content {max-height: 0;max-width: 0;overflow: hidden;text-align: left;background-color: #f0f8ff;}#sk-container-id-4 div.sk-toggleable__content pre {margin: 0.2em;color: black;border-radius: 0.25em;background-color: #f0f8ff;}#sk-container-id-4 input.sk-toggleable__control:checked~div.sk-toggleable__content {max-height: 200px;max-width: 100%;overflow: auto;}#sk-container-id-4 input.sk-toggleable__control:checked~label.sk-toggleable__label-arrow:before {content: \"▾\";}#sk-container-id-4 div.sk-estimator input.sk-toggleable__control:checked~label.sk-toggleable__label {background-color: #d4ebff;}#sk-container-id-4 div.sk-label input.sk-toggleable__control:checked~label.sk-toggleable__label {background-color: #d4ebff;}#sk-container-id-4 input.sk-hidden--visually {border: 0;clip: rect(1px 1px 1px 1px);clip: rect(1px, 1px, 1px, 1px);height: 1px;margin: -1px;overflow: hidden;padding: 0;position: absolute;width: 1px;}#sk-container-id-4 div.sk-estimator {font-family: monospace;background-color: #f0f8ff;border: 1px dotted black;border-radius: 0.25em;box-sizing: border-box;margin-bottom: 0.5em;}#sk-container-id-4 div.sk-estimator:hover {background-color: #d4ebff;}#sk-container-id-4 div.sk-parallel-item::after {content: \"\";width: 100%;border-bottom: 1px solid gray;flex-grow: 1;}#sk-container-id-4 div.sk-label:hover label.sk-toggleable__label {background-color: #d4ebff;}#sk-container-id-4 div.sk-serial::before {content: \"\";position: absolute;border-left: 1px solid gray;box-sizing: border-box;top: 0;bottom: 0;left: 50%;z-index: 0;}#sk-container-id-4 div.sk-serial {display: flex;flex-direction: column;align-items: center;background-color: white;padding-right: 0.2em;padding-left: 0.2em;position: relative;}#sk-container-id-4 div.sk-item {position: relative;z-index: 1;}#sk-container-id-4 div.sk-parallel {display: flex;align-items: stretch;justify-content: center;background-color: white;position: relative;}#sk-container-id-4 div.sk-item::before, #sk-container-id-4 div.sk-parallel-item::before {content: \"\";position: absolute;border-left: 1px solid gray;box-sizing: border-box;top: 0;bottom: 0;left: 50%;z-index: -1;}#sk-container-id-4 div.sk-parallel-item {display: flex;flex-direction: column;z-index: 1;position: relative;background-color: white;}#sk-container-id-4 div.sk-parallel-item:first-child::after {align-self: flex-end;width: 50%;}#sk-container-id-4 div.sk-parallel-item:last-child::after {align-self: flex-start;width: 50%;}#sk-container-id-4 div.sk-parallel-item:only-child::after {width: 0;}#sk-container-id-4 div.sk-dashed-wrapped {border: 1px dashed gray;margin: 0 0.4em 0.5em 0.4em;box-sizing: border-box;padding-bottom: 0.4em;background-color: white;}#sk-container-id-4 div.sk-label label {font-family: monospace;font-weight: bold;display: inline-block;line-height: 1.2em;}#sk-container-id-4 div.sk-label-container {text-align: center;}#sk-container-id-4 div.sk-container {/* jupyter's `normalize.less` sets `[hidden] { display: none; }` but bootstrap.min.css set `[hidden] { display: none !important; }` so we also need the `!important` here to be able to override the default hidden behavior on the sphinx rendered scikit-learn.org. See: https://github.com/scikit-learn/scikit-learn/issues/21755 */display: inline-block !important;position: relative;}#sk-container-id-4 div.sk-text-repr-fallback {display: none;}</style><div id=\"sk-container-id-4\" class=\"sk-top-container\"><div class=\"sk-text-repr-fallback\"><pre>KNeighborsRegressor(n_neighbors=2)</pre><b>In a Jupyter environment, please rerun this cell to show the HTML representation or trust the notebook. <br />On GitHub, the HTML representation is unable to render, please try loading this page with nbviewer.org.</b></div><div class=\"sk-container\" hidden><div class=\"sk-item\"><div class=\"sk-estimator sk-toggleable\"><input class=\"sk-toggleable__control sk-hidden--visually\" id=\"sk-estimator-id-4\" type=\"checkbox\" checked><label for=\"sk-estimator-id-4\" class=\"sk-toggleable__label sk-toggleable__label-arrow\">KNeighborsRegressor</label><div class=\"sk-toggleable__content\"><pre>KNeighborsRegressor(n_neighbors=2)</pre></div></div></div></div></div>"
      ],
      "text/plain": [
       "KNeighborsRegressor(n_neighbors=2)"
      ]
     },
     "execution_count": 111,
     "metadata": {},
     "output_type": "execute_result"
    }
   ],
   "source": [
    "neigh.fit(X4_train_scaled, y4_train)"
   ]
  },
  {
   "cell_type": "markdown",
   "id": "e8aea25c",
   "metadata": {},
   "source": [
    "# Making prediction (X4, y4)"
   ]
  },
  {
   "cell_type": "code",
   "execution_count": 1,
   "id": "e6860576",
   "metadata": {},
   "outputs": [
    {
     "ename": "NameError",
     "evalue": "name 'neigh' is not defined",
     "output_type": "error",
     "traceback": [
      "\u001b[0;31m---------------------------------------------------------------------------\u001b[0m",
      "\u001b[0;31mNameError\u001b[0m                                 Traceback (most recent call last)",
      "Input \u001b[0;32mIn [1]\u001b[0m, in \u001b[0;36m<cell line: 2>\u001b[0;34m()\u001b[0m\n\u001b[1;32m      1\u001b[0m \u001b[38;5;66;03m#y4_pred_train = neigh.predict(X4_train_scaled)\u001b[39;00m\n\u001b[0;32m----> 2\u001b[0m y4_pred_test  \u001b[38;5;241m=\u001b[39m \u001b[43mneigh\u001b[49m\u001b[38;5;241m.\u001b[39mpredict(X4_test_scaled)\n",
      "\u001b[0;31mNameError\u001b[0m: name 'neigh' is not defined"
     ]
    }
   ],
   "source": [
    "y4_pred_train = neigh.predict(X4_train_scaled)\n",
    "y4_pred_test  = neigh.predict(X4_test_scaled)"
   ]
  },
  {
   "cell_type": "code",
   "execution_count": null,
   "id": "75707855",
   "metadata": {},
   "outputs": [],
   "source": []
  }
 ],
 "metadata": {
  "kernelspec": {
   "display_name": "Python 3 (ipykernel)",
   "language": "python",
   "name": "python3"
  },
  "language_info": {
   "codemirror_mode": {
    "name": "ipython",
    "version": 3
   },
   "file_extension": ".py",
   "mimetype": "text/x-python",
   "name": "python",
   "nbconvert_exporter": "python",
   "pygments_lexer": "ipython3",
   "version": "3.9.12"
  },
  "toc": {
   "base_numbering": 1,
   "nav_menu": {},
   "number_sections": true,
   "sideBar": true,
   "skip_h1_title": false,
   "title_cell": "Table of Contents",
   "title_sidebar": "Contents",
   "toc_cell": false,
   "toc_position": {
    "height": "calc(100% - 180px)",
    "left": "10px",
    "top": "150px",
    "width": "240px"
   },
   "toc_section_display": true,
   "toc_window_display": true
  },
  "varInspector": {
   "cols": {
    "lenName": 16,
    "lenType": 16,
    "lenVar": 40
   },
   "kernels_config": {
    "python": {
     "delete_cmd_postfix": "",
     "delete_cmd_prefix": "del ",
     "library": "var_list.py",
     "varRefreshCmd": "print(var_dic_list())"
    },
    "r": {
     "delete_cmd_postfix": ") ",
     "delete_cmd_prefix": "rm(",
     "library": "var_list.r",
     "varRefreshCmd": "cat(var_dic_list()) "
    }
   },
   "types_to_exclude": [
    "module",
    "function",
    "builtin_function_or_method",
    "instance",
    "_Feature"
   ],
   "window_display": false
  }
 },
 "nbformat": 4,
 "nbformat_minor": 5
}
