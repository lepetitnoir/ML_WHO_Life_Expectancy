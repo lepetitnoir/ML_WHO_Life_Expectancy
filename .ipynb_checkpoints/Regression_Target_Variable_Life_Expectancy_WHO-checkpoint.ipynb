{
 "cells": [
  {
   "cell_type": "markdown",
   "id": "262ceaa6",
   "metadata": {},
   "source": [
    "# Importing libraries"
   ]
  },
  {
   "cell_type": "code",
   "execution_count": 157,
   "id": "dd1fdefc",
   "metadata": {},
   "outputs": [],
   "source": [
    "import pandas as pd\n",
    "import numpy as np\n",
    "import seaborn as sns\n",
    "from sklearn.model_selection import train_test_split\n",
    "import seaborn as sns\n",
    "import matplotlib.pyplot as plt\n",
    "from sklearn.linear_model import LinearRegression\n",
    "from sklearn.preprocessing import StandardScaler\n",
    "from sklearn.metrics import r2_score\n",
    "from sklearn.metrics import mean_squared_error as mse\n",
    "from sklearn.metrics import mean_absolute_error as mae\n",
    "from sklearn.feature_selection import RFE\n",
    "from sklearn.model_selection import cross_val_score\n",
    "from sklearn.model_selection import cross_val_predict\n",
    "from sklearn.neighbors import KNeighborsRegressor\n",
    "from sklearn.tree import DecisionTreeRegressor\n",
    "from sklearn.ensemble import RandomForestRegressor\n",
    "from sklearn.preprocessing import PowerTransformer\n",
    "%matplotlib inline"
   ]
  },
  {
   "cell_type": "markdown",
   "id": "11bd47df",
   "metadata": {},
   "source": [
    "# Loading .xls"
   ]
  },
  {
   "cell_type": "code",
   "execution_count": 158,
   "id": "4dfdd842",
   "metadata": {},
   "outputs": [],
   "source": [
    "who = pd.read_csv('who')"
   ]
  },
  {
   "cell_type": "code",
   "execution_count": 159,
   "id": "d2d3c6a5",
   "metadata": {},
   "outputs": [
    {
     "data": {
      "text/plain": [
       "Index(['Unnamed: 0', 'country', 'status', 'life expectancy', 'infant deaths',\n",
       "       'alcohol', 'percentage expenditure', 'hepatitis b', 'measles', 'bmi',\n",
       "       'polio', 'total expenditure', 'hiv/aids', 'thinness 1-19 years',\n",
       "       'income composition of resources', 'schooling'],\n",
       "      dtype='object')"
      ]
     },
     "execution_count": 159,
     "metadata": {},
     "output_type": "execute_result"
    }
   ],
   "source": [
    "who.columns"
   ]
  },
  {
   "cell_type": "code",
   "execution_count": 160,
   "id": "aa5162df",
   "metadata": {},
   "outputs": [],
   "source": [
    "who.drop(['Unnamed: 0'], axis=1, inplace=True)"
   ]
  },
  {
   "cell_type": "markdown",
   "id": "604886b1",
   "metadata": {},
   "source": [
    "# Dividing categoricals/numericals"
   ]
  },
  {
   "cell_type": "code",
   "execution_count": 161,
   "id": "7c9d1255",
   "metadata": {},
   "outputs": [],
   "source": [
    "who_categoricals = who['country']"
   ]
  },
  {
   "cell_type": "code",
   "execution_count": 162,
   "id": "3d91c67f",
   "metadata": {},
   "outputs": [
    {
     "data": {
      "text/plain": [
       "pandas.core.series.Series"
      ]
     },
     "execution_count": 162,
     "metadata": {},
     "output_type": "execute_result"
    }
   ],
   "source": [
    "type(who_categoricals)"
   ]
  },
  {
   "cell_type": "code",
   "execution_count": 163,
   "id": "3cc49e56",
   "metadata": {},
   "outputs": [],
   "source": [
    "who_numericals = who._get_numeric_data()"
   ]
  },
  {
   "cell_type": "code",
   "execution_count": 164,
   "id": "b758b405",
   "metadata": {},
   "outputs": [
    {
     "name": "stdout",
     "output_type": "stream",
     "text": [
      "<class 'pandas.core.frame.DataFrame'>\n",
      "RangeIndex: 192 entries, 0 to 191\n",
      "Data columns (total 14 columns):\n",
      " #   Column                           Non-Null Count  Dtype  \n",
      "---  ------                           --------------  -----  \n",
      " 0   status                           192 non-null    float64\n",
      " 1   life expectancy                  192 non-null    float64\n",
      " 2   infant deaths                    192 non-null    float64\n",
      " 3   alcohol                          192 non-null    float64\n",
      " 4   percentage expenditure           192 non-null    float64\n",
      " 5   hepatitis b                      192 non-null    float64\n",
      " 6   measles                          192 non-null    float64\n",
      " 7   bmi                              192 non-null    float64\n",
      " 8   polio                            192 non-null    float64\n",
      " 9   total expenditure                192 non-null    float64\n",
      " 10  hiv/aids                         192 non-null    float64\n",
      " 11  thinness 1-19 years              192 non-null    float64\n",
      " 12  income composition of resources  192 non-null    float64\n",
      " 13  schooling                        192 non-null    float64\n",
      "dtypes: float64(14)\n",
      "memory usage: 21.1 KB\n"
     ]
    }
   ],
   "source": [
    "who_numericals.info()"
   ]
  },
  {
   "cell_type": "markdown",
   "id": "9021fd4b",
   "metadata": {},
   "source": [
    "# Defining X1, y1 (Linear regression, w/o Hot Coding)"
   ]
  },
  {
   "cell_type": "code",
   "execution_count": 165,
   "id": "4c18aea7",
   "metadata": {},
   "outputs": [],
   "source": [
    "X1 = who_numericals"
   ]
  },
  {
   "cell_type": "code",
   "execution_count": 166,
   "id": "507b076e",
   "metadata": {},
   "outputs": [],
   "source": [
    "X1 = X1.drop(['life expectancy'], axis=1)"
   ]
  },
  {
   "cell_type": "code",
   "execution_count": 167,
   "id": "185cb801",
   "metadata": {},
   "outputs": [
    {
     "name": "stdout",
     "output_type": "stream",
     "text": [
      "<class 'pandas.core.frame.DataFrame'>\n",
      "RangeIndex: 192 entries, 0 to 191\n",
      "Data columns (total 13 columns):\n",
      " #   Column                           Non-Null Count  Dtype  \n",
      "---  ------                           --------------  -----  \n",
      " 0   status                           192 non-null    float64\n",
      " 1   infant deaths                    192 non-null    float64\n",
      " 2   alcohol                          192 non-null    float64\n",
      " 3   percentage expenditure           192 non-null    float64\n",
      " 4   hepatitis b                      192 non-null    float64\n",
      " 5   measles                          192 non-null    float64\n",
      " 6   bmi                              192 non-null    float64\n",
      " 7   polio                            192 non-null    float64\n",
      " 8   total expenditure                192 non-null    float64\n",
      " 9   hiv/aids                         192 non-null    float64\n",
      " 10  thinness 1-19 years              192 non-null    float64\n",
      " 11  income composition of resources  192 non-null    float64\n",
      " 12  schooling                        192 non-null    float64\n",
      "dtypes: float64(13)\n",
      "memory usage: 19.6 KB\n"
     ]
    }
   ],
   "source": [
    "X1.info()"
   ]
  },
  {
   "cell_type": "code",
   "execution_count": 168,
   "id": "12da7ff8",
   "metadata": {},
   "outputs": [],
   "source": [
    "y1 = who_numericals['life expectancy']"
   ]
  },
  {
   "cell_type": "code",
   "execution_count": 169,
   "id": "4638a581",
   "metadata": {},
   "outputs": [
    {
     "data": {
      "text/plain": [
       "0      58.19375\n",
       "1      75.15625\n",
       "2      73.61875\n",
       "3      49.01875\n",
       "4      75.05625\n",
       "         ...   \n",
       "187    73.38750\n",
       "188    74.77500\n",
       "189    63.86250\n",
       "190    53.90625\n",
       "191    50.48750\n",
       "Name: life expectancy, Length: 192, dtype: float64"
      ]
     },
     "execution_count": 169,
     "metadata": {},
     "output_type": "execute_result"
    }
   ],
   "source": [
    "y1"
   ]
  },
  {
   "cell_type": "markdown",
   "id": "6b7cce50",
   "metadata": {},
   "source": [
    "# Data splitting X1, y1"
   ]
  },
  {
   "cell_type": "code",
   "execution_count": 170,
   "id": "b18af782",
   "metadata": {},
   "outputs": [],
   "source": [
    "X1_train, X1_test, y1_train, y1_test = train_test_split(X1, y1, test_size=0.20, random_state=42)\n",
    "\n",
    "X1_train = pd.DataFrame(X1_train, columns=X1.columns)\n",
    "X1_test  = pd.DataFrame(X1_test, columns=X1.columns)"
   ]
  },
  {
   "cell_type": "markdown",
   "id": "64d05aa6",
   "metadata": {},
   "source": [
    "# Standardizing Data X1, y1"
   ]
  },
  {
   "cell_type": "code",
   "execution_count": 171,
   "id": "a60bdce8",
   "metadata": {},
   "outputs": [
    {
     "data": {
      "text/plain": [
       "array([[<AxesSubplot:title={'center':'status'}>,\n",
       "        <AxesSubplot:title={'center':'infant deaths'}>,\n",
       "        <AxesSubplot:title={'center':'alcohol'}>,\n",
       "        <AxesSubplot:title={'center':'percentage expenditure'}>],\n",
       "       [<AxesSubplot:title={'center':'hepatitis b'}>,\n",
       "        <AxesSubplot:title={'center':'measles'}>,\n",
       "        <AxesSubplot:title={'center':'bmi'}>,\n",
       "        <AxesSubplot:title={'center':'polio'}>],\n",
       "       [<AxesSubplot:title={'center':'total expenditure'}>,\n",
       "        <AxesSubplot:title={'center':'hiv/aids'}>,\n",
       "        <AxesSubplot:title={'center':'thinness 1-19 years'}>,\n",
       "        <AxesSubplot:title={'center':'income composition of resources'}>],\n",
       "       [<AxesSubplot:title={'center':'schooling'}>, <AxesSubplot:>,\n",
       "        <AxesSubplot:>, <AxesSubplot:>]], dtype=object)"
      ]
     },
     "execution_count": 171,
     "metadata": {},
     "output_type": "execute_result"
    },
    {
     "data": {
      "image/png": "[encoded data removed]",
      "text/plain": [
       "<Figure size 1400x1400 with 16 Axes>"
      ]
     },
     "metadata": {},
     "output_type": "display_data"
    }
   ],
   "source": [
    " X1.hist(figsize=(14,14))"
   ]
  },
  {
   "cell_type": "code",
   "execution_count": 172,
   "id": "d777b3d0",
   "metadata": {},
   "outputs": [],
   "source": [
    "std_scaler=StandardScaler().fit(X1_train)   \n",
    "\n",
    "X1_train_scaled=std_scaler.transform(X1_train)\n",
    "\n"
   ]
  },
  {
   "cell_type": "code",
   "execution_count": 173,
   "id": "bdabb893",
   "metadata": {},
   "outputs": [],
   "source": [
    "X1_test_scaled=std_scaler.transform(X1_test)"
   ]
  },
  {
   "cell_type": "markdown",
   "id": "96d1890e",
   "metadata": {},
   "source": [
    "# Fitting model (Linear Regression, X1, y1)\n",
    "\n"
   ]
  },
  {
   "cell_type": "code",
   "execution_count": 174,
   "id": "a7e4a7b3",
   "metadata": {},
   "outputs": [
    {
     "data": {
      "text/html": [
       "<style>#sk-container-id-1 {color: black;background-color: white;}#sk-container-id-1 pre{padding: 0;}#sk-container-id-1 div.sk-toggleable {background-color: white;}#sk-container-id-1 label.sk-toggleable__label {cursor: pointer;display: block;width: 100%;margin-bottom: 0;padding: 0.3em;box-sizing: border-box;text-align: center;}#sk-container-id-1 label.sk-toggleable__label-arrow:before {content: \"▸\";float: left;margin-right: 0.25em;color: #696969;}#sk-container-id-1 label.sk-toggleable__label-arrow:hover:before {color: black;}#sk-container-id-1 div.sk-estimator:hover label.sk-toggleable__label-arrow:before {color: black;}#sk-container-id-1 div.sk-toggleable__content {max-height: 0;max-width: 0;overflow: hidden;text-align: left;background-color: #f0f8ff;}#sk-container-id-1 div.sk-toggleable__content pre {margin: 0.2em;color: black;border-radius: 0.25em;background-color: #f0f8ff;}#sk-container-id-1 input.sk-toggleable__control:checked~div.sk-toggleable__content {max-height: 200px;max-width: 100%;overflow: auto;}#sk-container-id-1 input.sk-toggleable__control:checked~label.sk-toggleable__label-arrow:before {content: \"▾\";}#sk-container-id-1 div.sk-estimator input.sk-toggleable__control:checked~label.sk-toggleable__label {background-color: #d4ebff;}#sk-container-id-1 div.sk-label input.sk-toggleable__control:checked~label.sk-toggleable__label {background-color: #d4ebff;}#sk-container-id-1 input.sk-hidden--visually {border: 0;clip: rect(1px 1px 1px 1px);clip: rect(1px, 1px, 1px, 1px);height: 1px;margin: -1px;overflow: hidden;padding: 0;position: absolute;width: 1px;}#sk-container-id-1 div.sk-estimator {font-family: monospace;background-color: #f0f8ff;border: 1px dotted black;border-radius: 0.25em;box-sizing: border-box;margin-bottom: 0.5em;}#sk-container-id-1 div.sk-estimator:hover {background-color: #d4ebff;}#sk-container-id-1 div.sk-parallel-item::after {content: \"\";width: 100%;border-bottom: 1px solid gray;flex-grow: 1;}#sk-container-id-1 div.sk-label:hover label.sk-toggleable__label {background-color: #d4ebff;}#sk-container-id-1 div.sk-serial::before {content: \"\";position: absolute;border-left: 1px solid gray;box-sizing: border-box;top: 0;bottom: 0;left: 50%;z-index: 0;}#sk-container-id-1 div.sk-serial {display: flex;flex-direction: column;align-items: center;background-color: white;padding-right: 0.2em;padding-left: 0.2em;position: relative;}#sk-container-id-1 div.sk-item {position: relative;z-index: 1;}#sk-container-id-1 div.sk-parallel {display: flex;align-items: stretch;justify-content: center;background-color: white;position: relative;}#sk-container-id-1 div.sk-item::before, #sk-container-id-1 div.sk-parallel-item::before {content: \"\";position: absolute;border-left: 1px solid gray;box-sizing: border-box;top: 0;bottom: 0;left: 50%;z-index: -1;}#sk-container-id-1 div.sk-parallel-item {display: flex;flex-direction: column;z-index: 1;position: relative;background-color: white;}#sk-container-id-1 div.sk-parallel-item:first-child::after {align-self: flex-end;width: 50%;}#sk-container-id-1 div.sk-parallel-item:last-child::after {align-self: flex-start;width: 50%;}#sk-container-id-1 div.sk-parallel-item:only-child::after {width: 0;}#sk-container-id-1 div.sk-dashed-wrapped {border: 1px dashed gray;margin: 0 0.4em 0.5em 0.4em;box-sizing: border-box;padding-bottom: 0.4em;background-color: white;}#sk-container-id-1 div.sk-label label {font-family: monospace;font-weight: bold;display: inline-block;line-height: 1.2em;}#sk-container-id-1 div.sk-label-container {text-align: center;}#sk-container-id-1 div.sk-container {/* jupyter's `normalize.less` sets `[hidden] { display: none; }` but bootstrap.min.css set `[hidden] { display: none !important; }` so we also need the `!important` here to be able to override the default hidden behavior on the sphinx rendered scikit-learn.org. See: https://github.com/scikit-learn/scikit-learn/issues/21755 */display: inline-block !important;position: relative;}#sk-container-id-1 div.sk-text-repr-fallback {display: none;}</style><div id=\"sk-container-id-1\" class=\"sk-top-container\"><div class=\"sk-text-repr-fallback\"><pre>LinearRegression()</pre><b>In a Jupyter environment, please rerun this cell to show the HTML representation or trust the notebook. <br />On GitHub, the HTML representation is unable to render, please try loading this page with nbviewer.org.</b></div><div class=\"sk-container\" hidden><div class=\"sk-item\"><div class=\"sk-estimator sk-toggleable\"><input class=\"sk-toggleable__control sk-hidden--visually\" id=\"sk-estimator-id-1\" type=\"checkbox\" checked><label for=\"sk-estimator-id-1\" class=\"sk-toggleable__label sk-toggleable__label-arrow\">LinearRegression</label><div class=\"sk-toggleable__content\"><pre>LinearRegression()</pre></div></div></div></div></div>"
      ],
      "text/plain": [
       "LinearRegression()"
      ]
     },
     "execution_count": 174,
     "metadata": {},
     "output_type": "execute_result"
    }
   ],
   "source": [
    "model1=LinearRegression()    \n",
    "model1.fit(X1_train_scaled, y1_train)"
   ]
  },
  {
   "cell_type": "markdown",
   "id": "bdd7fe0c",
   "metadata": {},
   "source": [
    "# Feature importance (Linear Regression, X1, y1, w/o Hot Coding)\n"
   ]
  },
  {
   "cell_type": "code",
   "execution_count": 175,
   "id": "3af4ba48",
   "metadata": {},
   "outputs": [],
   "source": [
    "feature_names1 = X1_train.columns\n",
    "feature_names1 = list(feature_names1)"
   ]
  },
  {
   "cell_type": "code",
   "execution_count": 188,
   "id": "24be0e37",
   "metadata": {},
   "outputs": [
    {
     "data": {
      "text/html": [
       "<div>\n",
       "<style scoped>\n",
       "    .dataframe tbody tr th:only-of-type {\n",
       "        vertical-align: middle;\n",
       "    }\n",
       "\n",
       "    .dataframe tbody tr th {\n",
       "        vertical-align: top;\n",
       "    }\n",
       "\n",
       "    .dataframe thead th {\n",
       "        text-align: right;\n",
       "    }\n",
       "</style>\n",
       "<table border=\"1\" class=\"dataframe\">\n",
       "  <thead>\n",
       "    <tr style=\"text-align: right;\">\n",
       "      <th></th>\n",
       "      <th>columns_name</th>\n",
       "      <th>score_feature_importance</th>\n",
       "    </tr>\n",
       "  </thead>\n",
       "  <tbody>\n",
       "    <tr>\n",
       "      <th>9</th>\n",
       "      <td>hiv/aids</td>\n",
       "      <td>3.302840</td>\n",
       "    </tr>\n",
       "    <tr>\n",
       "      <th>7</th>\n",
       "      <td>polio</td>\n",
       "      <td>2.769611</td>\n",
       "    </tr>\n",
       "    <tr>\n",
       "      <th>11</th>\n",
       "      <td>income composition of resources</td>\n",
       "      <td>2.615962</td>\n",
       "    </tr>\n",
       "    <tr>\n",
       "      <th>6</th>\n",
       "      <td>bmi</td>\n",
       "      <td>1.664782</td>\n",
       "    </tr>\n",
       "    <tr>\n",
       "      <th>4</th>\n",
       "      <td>hepatitis b</td>\n",
       "      <td>1.117014</td>\n",
       "    </tr>\n",
       "    <tr>\n",
       "      <th>12</th>\n",
       "      <td>schooling</td>\n",
       "      <td>1.009324</td>\n",
       "    </tr>\n",
       "    <tr>\n",
       "      <th>3</th>\n",
       "      <td>percentage expenditure</td>\n",
       "      <td>0.936234</td>\n",
       "    </tr>\n",
       "    <tr>\n",
       "      <th>0</th>\n",
       "      <td>status</td>\n",
       "      <td>0.711110</td>\n",
       "    </tr>\n",
       "    <tr>\n",
       "      <th>8</th>\n",
       "      <td>total expenditure</td>\n",
       "      <td>0.481385</td>\n",
       "    </tr>\n",
       "    <tr>\n",
       "      <th>2</th>\n",
       "      <td>alcohol</td>\n",
       "      <td>0.369812</td>\n",
       "    </tr>\n",
       "    <tr>\n",
       "      <th>1</th>\n",
       "      <td>infant deaths</td>\n",
       "      <td>0.307065</td>\n",
       "    </tr>\n",
       "    <tr>\n",
       "      <th>10</th>\n",
       "      <td>thinness 1-19 years</td>\n",
       "      <td>0.231517</td>\n",
       "    </tr>\n",
       "    <tr>\n",
       "      <th>5</th>\n",
       "      <td>measles</td>\n",
       "      <td>0.180842</td>\n",
       "    </tr>\n",
       "  </tbody>\n",
       "</table>\n",
       "</div>"
      ],
      "text/plain": [
       "                       columns_name  score_feature_importance\n",
       "9                          hiv/aids                  3.302840\n",
       "7                             polio                  2.769611\n",
       "11  income composition of resources                  2.615962\n",
       "6                               bmi                  1.664782\n",
       "4                       hepatitis b                  1.117014\n",
       "12                        schooling                  1.009324\n",
       "3            percentage expenditure                  0.936234\n",
       "0                            status                  0.711110\n",
       "8                 total expenditure                  0.481385\n",
       "2                           alcohol                  0.369812\n",
       "1                     infant deaths                  0.307065\n",
       "10              thinness 1-19 years                  0.231517\n",
       "5                           measles                  0.180842"
      ]
     },
     "execution_count": 188,
     "metadata": {},
     "output_type": "execute_result"
    }
   ],
   "source": [
    "df6 = pd.DataFrame(list(zip(feature_names1, abs(model1.coef_))))\n",
    "df6.columns = ['columns_name', 'score_feature_importance']\n",
    "df6.sort_values(by=['score_feature_importance'], ascending = False)"
   ]
  },
  {
   "cell_type": "code",
   "execution_count": 189,
   "id": "0c90fe38",
   "metadata": {},
   "outputs": [
    {
     "data": {
      "image/png": "[encoded data removed]",
      "text/plain": [
       "<Figure size 640x480 with 1 Axes>"
      ]
     },
     "metadata": {},
     "output_type": "display_data"
    }
   ],
   "source": [
    "plt.bar(x=df6['columns_name'], height=df6['score_feature_importance'], color='#087E8B')\n",
    "plt.title('Feature importances obtained from coefficients', size=20)\n",
    "plt.xticks(rotation='vertical')\n",
    "plt.show()"
   ]
  },
  {
   "cell_type": "markdown",
   "id": "69309a57",
   "metadata": {},
   "source": [
    "# Making prediction (X1, y1)"
   ]
  },
  {
   "cell_type": "code",
   "execution_count": 178,
   "id": "16aac1df",
   "metadata": {},
   "outputs": [],
   "source": [
    "y1_pred=model1.predict(X1_test_scaled)   \n",
    "\n",
    "y1_pred_train=model1.predict(X1_train_scaled)"
   ]
  },
  {
   "cell_type": "markdown",
   "id": "5605438a",
   "metadata": {},
   "source": [
    "# Evaluating model performance (X1, y1)"
   ]
  },
  {
   "cell_type": "code",
   "execution_count": 179,
   "id": "ea616e3d",
   "metadata": {},
   "outputs": [
    {
     "data": {
      "text/plain": [
       "[<matplotlib.lines.Line2D at 0x7fdbfb8a9310>]"
      ]
     },
     "execution_count": 179,
     "metadata": {},
     "output_type": "execute_result"
    },
    {
     "data": {
      "image/png": "[encoded data removed]",
      "text/plain": [
       "<Figure size 1400x400 with 3 Axes>"
      ]
     },
     "metadata": {},
     "output_type": "display_data"
    }
   ],
   "source": [
    "fig, ax = plt.subplots(1,3,figsize=(14,4))\n",
    "\n",
    "ax[0].plot(y1_pred, y1_test, 'o')\n",
    "ax[0].set_xlabel(\"y_test\")\n",
    "ax[0].set_ylabel(\"y_pred\")\n",
    "ax[0].set_title(\"Test Set - Predicted vs real\")\n",
    " \n",
    "\n",
    "ax[1].hist(y1_test - y1_pred)\n",
    "ax[1].set_xlabel(\"Test y-y_pred\")\n",
    "ax[1].set_title(\"Test Set Residual histogram\")\n",
    "\n",
    "ax[2].plot(y1_pred,y1_test - y1_pred,\"o\")\n",
    "ax[2].set_xlabel(\"predicted\")\n",
    "ax[2].set_ylabel(\"residuals\")\n",
    "ax[2].set_title(\"Residuals by Predicted\")\n",
    "ax[2].plot(y1_pred,np.zeros(len(y1_pred)),linestyle='dashed')"
   ]
  },
  {
   "cell_type": "markdown",
   "id": "578775ec",
   "metadata": {},
   "source": [
    "# Error metrics (X1, y1)"
   ]
  },
  {
   "cell_type": "code",
   "execution_count": 180,
   "id": "fe0b50d6",
   "metadata": {},
   "outputs": [
    {
     "name": "stdout",
     "output_type": "stream",
     "text": [
      "12.369063205026105\n",
      "2.7112650370694182\n"
     ]
    }
   ],
   "source": [
    "print(mse(y1_test,y1_pred))\n",
    "print(mae(y1_test,y1_pred))"
   ]
  },
  {
   "cell_type": "code",
   "execution_count": 181,
   "id": "e0959f63",
   "metadata": {},
   "outputs": [
    {
     "data": {
      "text/plain": [
       "0.7671156394917041"
      ]
     },
     "execution_count": 181,
     "metadata": {},
     "output_type": "execute_result"
    }
   ],
   "source": [
    "R2_1=r2_score(y1_test,y1_pred)\n",
    "R2_1"
   ]
  },
  {
   "cell_type": "markdown",
   "id": "41b28e5e",
   "metadata": {},
   "source": [
    "# Cross validation (X1, y1)"
   ]
  },
  {
   "cell_type": "code",
   "execution_count": 182,
   "id": "e5bffe0b",
   "metadata": {},
   "outputs": [
    {
     "data": {
      "text/plain": [
       "array([0.87961097, 0.78521754, 0.783813  , 0.70549627, 0.85421262])"
      ]
     },
     "execution_count": 182,
     "metadata": {},
     "output_type": "execute_result"
    }
   ],
   "source": [
    "scores1=cross_val_score(model1, X1_train_scaled, y1_train, cv = 5)\n",
    "scores1"
   ]
  },
  {
   "cell_type": "code",
   "execution_count": 183,
   "id": "9ae24973",
   "metadata": {},
   "outputs": [
    {
     "name": "stdout",
     "output_type": "stream",
     "text": [
      "0.80 accuracy with a standard deviation of 0.06\n"
     ]
    }
   ],
   "source": [
    "print(\"%0.2f accuracy with a standard deviation of %0.2f\" % (scores1.mean(), scores1.std()))"
   ]
  },
  {
   "cell_type": "markdown",
   "id": "52003cda",
   "metadata": {},
   "source": [
    "# Hot Coding coding categoricals"
   ]
  },
  {
   "cell_type": "code",
   "execution_count": 184,
   "id": "ec58661b",
   "metadata": {},
   "outputs": [
    {
     "ename": "KeyError",
     "evalue": "'status'",
     "output_type": "error",
     "traceback": [
      "\u001b[0;31m---------------------------------------------------------------------------\u001b[0m",
      "\u001b[0;31mKeyError\u001b[0m                                  Traceback (most recent call last)",
      "Input \u001b[0;32mIn [184]\u001b[0m, in \u001b[0;36m<cell line: 1>\u001b[0;34m()\u001b[0m\n\u001b[0;32m----> 1\u001b[0m \u001b[43mwho_categoricals\u001b[49m\u001b[43m[\u001b[49m\u001b[38;5;124;43m'\u001b[39;49m\u001b[38;5;124;43mstatus\u001b[39;49m\u001b[38;5;124;43m'\u001b[39;49m\u001b[43m]\u001b[49m\u001b[38;5;241m.\u001b[39munique()\n",
      "File \u001b[0;32m/opt/anaconda3/envs/DA/lib/python3.9/site-packages/pandas/core/series.py:958\u001b[0m, in \u001b[0;36mSeries.__getitem__\u001b[0;34m(self, key)\u001b[0m\n\u001b[1;32m    955\u001b[0m     \u001b[38;5;28;01mreturn\u001b[39;00m \u001b[38;5;28mself\u001b[39m\u001b[38;5;241m.\u001b[39m_values[key]\n\u001b[1;32m    957\u001b[0m \u001b[38;5;28;01melif\u001b[39;00m key_is_scalar:\n\u001b[0;32m--> 958\u001b[0m     \u001b[38;5;28;01mreturn\u001b[39;00m \u001b[38;5;28;43mself\u001b[39;49m\u001b[38;5;241;43m.\u001b[39;49m\u001b[43m_get_value\u001b[49m\u001b[43m(\u001b[49m\u001b[43mkey\u001b[49m\u001b[43m)\u001b[49m\n\u001b[1;32m    960\u001b[0m \u001b[38;5;28;01mif\u001b[39;00m is_hashable(key):\n\u001b[1;32m    961\u001b[0m     \u001b[38;5;66;03m# Otherwise index.get_value will raise InvalidIndexError\u001b[39;00m\n\u001b[1;32m    962\u001b[0m     \u001b[38;5;28;01mtry\u001b[39;00m:\n\u001b[1;32m    963\u001b[0m         \u001b[38;5;66;03m# For labels that don't resolve as scalars like tuples and frozensets\u001b[39;00m\n",
      "File \u001b[0;32m/opt/anaconda3/envs/DA/lib/python3.9/site-packages/pandas/core/series.py:1069\u001b[0m, in \u001b[0;36mSeries._get_value\u001b[0;34m(self, label, takeable)\u001b[0m\n\u001b[1;32m   1066\u001b[0m     \u001b[38;5;28;01mreturn\u001b[39;00m \u001b[38;5;28mself\u001b[39m\u001b[38;5;241m.\u001b[39m_values[label]\n\u001b[1;32m   1068\u001b[0m \u001b[38;5;66;03m# Similar to Index.get_value, but we do not fall back to positional\u001b[39;00m\n\u001b[0;32m-> 1069\u001b[0m loc \u001b[38;5;241m=\u001b[39m \u001b[38;5;28;43mself\u001b[39;49m\u001b[38;5;241;43m.\u001b[39;49m\u001b[43mindex\u001b[49m\u001b[38;5;241;43m.\u001b[39;49m\u001b[43mget_loc\u001b[49m\u001b[43m(\u001b[49m\u001b[43mlabel\u001b[49m\u001b[43m)\u001b[49m\n\u001b[1;32m   1070\u001b[0m \u001b[38;5;28;01mreturn\u001b[39;00m \u001b[38;5;28mself\u001b[39m\u001b[38;5;241m.\u001b[39mindex\u001b[38;5;241m.\u001b[39m_get_values_for_loc(\u001b[38;5;28mself\u001b[39m, loc, label)\n",
      "File \u001b[0;32m/opt/anaconda3/envs/DA/lib/python3.9/site-packages/pandas/core/indexes/range.py:389\u001b[0m, in \u001b[0;36mRangeIndex.get_loc\u001b[0;34m(self, key, method, tolerance)\u001b[0m\n\u001b[1;32m    387\u001b[0m             \u001b[38;5;28;01mraise\u001b[39;00m \u001b[38;5;167;01mKeyError\u001b[39;00m(key) \u001b[38;5;28;01mfrom\u001b[39;00m \u001b[38;5;21;01merr\u001b[39;00m\n\u001b[1;32m    388\u001b[0m     \u001b[38;5;28mself\u001b[39m\u001b[38;5;241m.\u001b[39m_check_indexing_error(key)\n\u001b[0;32m--> 389\u001b[0m     \u001b[38;5;28;01mraise\u001b[39;00m \u001b[38;5;167;01mKeyError\u001b[39;00m(key)\n\u001b[1;32m    390\u001b[0m \u001b[38;5;28;01mreturn\u001b[39;00m \u001b[38;5;28msuper\u001b[39m()\u001b[38;5;241m.\u001b[39mget_loc(key, method\u001b[38;5;241m=\u001b[39mmethod, tolerance\u001b[38;5;241m=\u001b[39mtolerance)\n",
      "\u001b[0;31mKeyError\u001b[0m: 'status'"
     ]
    }
   ],
   "source": [
    "#who_categoricals['status'].unique()"
   ]
  },
  {
   "cell_type": "code",
   "execution_count": null,
   "id": "c29f0d21",
   "metadata": {},
   "outputs": [],
   "source": [
    "#len(who_categoricals['status'].unique())"
   ]
  },
  {
   "cell_type": "code",
   "execution_count": null,
   "id": "209e61f9",
   "metadata": {},
   "outputs": [],
   "source": [
    "#hc_who_categoricals = pd.get_dummies(who_categoricals[['status']], drop_first=True)\n",
    "#hc_who_categoricals.info()"
   ]
  },
  {
   "cell_type": "code",
   "execution_count": null,
   "id": "a956265a",
   "metadata": {},
   "outputs": [],
   "source": [
    "#hc_who_categoricals['status_Developing'].unique()"
   ]
  },
  {
   "cell_type": "code",
   "execution_count": null,
   "id": "5c41fc26",
   "metadata": {},
   "outputs": [],
   "source": []
  },
  {
   "cell_type": "markdown",
   "id": "143c175c",
   "metadata": {},
   "source": [
    "# Defining X2, y2 (Linear regression, w/ Hot Coding)"
   ]
  },
  {
   "cell_type": "code",
   "execution_count": null,
   "id": "4cf45550",
   "metadata": {},
   "outputs": [],
   "source": [
    "X2 = who_numericals"
   ]
  },
  {
   "cell_type": "code",
   "execution_count": null,
   "id": "e312cda0",
   "metadata": {},
   "outputs": [],
   "source": [
    "X2"
   ]
  },
  {
   "cell_type": "code",
   "execution_count": null,
   "id": "2b20e2eb",
   "metadata": {},
   "outputs": [],
   "source": [
    "X2 = pd.concat([X2, hc_who_categoricals], axis=1)"
   ]
  },
  {
   "cell_type": "code",
   "execution_count": null,
   "id": "eef02ca0",
   "metadata": {},
   "outputs": [],
   "source": [
    "X2.columns"
   ]
  },
  {
   "cell_type": "code",
   "execution_count": null,
   "id": "b2097a9a",
   "metadata": {},
   "outputs": [],
   "source": [
    "X2.drop(['life expectancy'], axis=1, inplace=True) "
   ]
  },
  {
   "cell_type": "code",
   "execution_count": null,
   "id": "4c0b8f66",
   "metadata": {},
   "outputs": [],
   "source": [
    "X2"
   ]
  },
  {
   "cell_type": "code",
   "execution_count": null,
   "id": "aabd0c8e",
   "metadata": {},
   "outputs": [],
   "source": [
    "y2 = who['life expectancy']"
   ]
  },
  {
   "cell_type": "code",
   "execution_count": null,
   "id": "5d5c66e2",
   "metadata": {},
   "outputs": [],
   "source": []
  },
  {
   "cell_type": "markdown",
   "id": "034a65e9",
   "metadata": {},
   "source": [
    "# Data splitting (X2, y2)"
   ]
  },
  {
   "cell_type": "code",
   "execution_count": null,
   "id": "670622ec",
   "metadata": {},
   "outputs": [],
   "source": [
    "X2_train, X2_test, y2_train, y2_test = train_test_split(X2, y2, test_size=0.20, random_state=42)\n",
    "\n",
    "X2_train = pd.DataFrame(X2_train, columns=X2.columns)\n",
    "X2_test  = pd.DataFrame(X2_test, columns=X2.columns)"
   ]
  },
  {
   "cell_type": "markdown",
   "id": "c0349b8e",
   "metadata": {},
   "source": [
    "# Standardizing Data (X2, y2)"
   ]
  },
  {
   "cell_type": "code",
   "execution_count": null,
   "id": "90110939",
   "metadata": {},
   "outputs": [],
   "source": [
    "std_scaler=StandardScaler().fit(X2_train)   \n",
    "\n",
    "X2_train_scaled=std_scaler.transform(X2_train)\n",
    "\n"
   ]
  },
  {
   "cell_type": "code",
   "execution_count": null,
   "id": "07608a61",
   "metadata": {},
   "outputs": [],
   "source": [
    "X2_test_scaled=std_scaler.transform(X2_test)"
   ]
  },
  {
   "cell_type": "markdown",
   "id": "b647394a",
   "metadata": {},
   "source": [
    "# Fitting model (Linear Regression X2, y2, w/ Hot Coding)\n",
    "\n"
   ]
  },
  {
   "cell_type": "code",
   "execution_count": null,
   "id": "5c03cb06",
   "metadata": {},
   "outputs": [],
   "source": [
    "model2=LinearRegression()    \n",
    "model2.fit(X2_train_scaled, y2_train)"
   ]
  },
  {
   "cell_type": "markdown",
   "id": "14192ce1",
   "metadata": {},
   "source": [
    "# Feature importance (Linear Regression, X2, y2, w/ Hot Coding)\n"
   ]
  },
  {
   "cell_type": "code",
   "execution_count": null,
   "id": "768bcf5f",
   "metadata": {},
   "outputs": [],
   "source": [
    "feature_names2 = X2_train.columns\n",
    "feature_names2 = list(feature_names2)"
   ]
  },
  {
   "cell_type": "code",
   "execution_count": null,
   "id": "1e894df2",
   "metadata": {},
   "outputs": [],
   "source": [
    "df2 = pd.DataFrame(list(zip(feature_names2, model2.coef_)))\n",
    "df2.columns = ['columns_name', 'score_feature_importance']\n",
    "df2.sort_values(by=['score_feature_importance'], ascending = False)"
   ]
  },
  {
   "cell_type": "markdown",
   "id": "f98e7d12",
   "metadata": {},
   "source": [
    "# Making prediction (X2, y2)"
   ]
  },
  {
   "cell_type": "code",
   "execution_count": null,
   "id": "6feec44c",
   "metadata": {},
   "outputs": [],
   "source": [
    "y2_pred=model2.predict(X2_test_scaled)   \n",
    "\n",
    "y2_pred_train=model2.predict(X2_train_scaled)"
   ]
  },
  {
   "cell_type": "markdown",
   "id": "06697026",
   "metadata": {},
   "source": [
    "# Evaluating model performance (X2, y2)"
   ]
  },
  {
   "cell_type": "code",
   "execution_count": null,
   "id": "cd3c03d4",
   "metadata": {},
   "outputs": [],
   "source": [
    "fig, ax = plt.subplots(1,3,figsize=(14,4))\n",
    "\n",
    "ax[0].plot(y2_pred, y2_test, 'o')\n",
    "ax[0].set_xlabel(\"y_test\")\n",
    "ax[0].set_ylabel(\"y_pred\")\n",
    "ax[0].set_title(\"Test Set - Predicted vs real\")\n",
    " \n",
    "\n",
    "ax[1].hist(y2_test - y2_pred)\n",
    "ax[1].set_xlabel(\"Test y-y_pred\")\n",
    "ax[1].set_title(\"Test Set Residual histogram\")\n",
    "\n",
    "ax[2].plot(y2_pred,y2_test - y2_pred,\"o\")\n",
    "ax[2].set_xlabel(\"predicted\")\n",
    "ax[2].set_ylabel(\"residuals\")\n",
    "ax[2].set_title(\"Residuals by Predicted\")\n",
    "ax[2].plot(y1_pred,np.zeros(len(y2_pred)),linestyle='dashed')"
   ]
  },
  {
   "cell_type": "markdown",
   "id": "36af9ece",
   "metadata": {},
   "source": [
    "# Error metrics (X2, y2)"
   ]
  },
  {
   "cell_type": "code",
   "execution_count": null,
   "id": "26ae3983",
   "metadata": {},
   "outputs": [],
   "source": [
    "print(mse(y2_test,y2_pred))\n",
    "print(mae(y2_test,y2_pred))"
   ]
  },
  {
   "cell_type": "code",
   "execution_count": null,
   "id": "4012266f",
   "metadata": {},
   "outputs": [],
   "source": [
    "R2_2=r2_score(y2_test,y2_pred)\n",
    "R2_2"
   ]
  },
  {
   "cell_type": "markdown",
   "id": "20dfaa80",
   "metadata": {},
   "source": [
    "# Cross validation (X2, y2)"
   ]
  },
  {
   "cell_type": "code",
   "execution_count": null,
   "id": "5390a1a5",
   "metadata": {},
   "outputs": [],
   "source": [
    "scores2=cross_val_score(model2, X2_train_scaled, y2_train, cv = 5)\n",
    "scores2"
   ]
  },
  {
   "cell_type": "code",
   "execution_count": null,
   "id": "62e75ffb",
   "metadata": {},
   "outputs": [],
   "source": [
    "print(\"%0.2f accuracy with a standard deviation of %0.2f\" % (scores2.mean(), scores2.std()))"
   ]
  },
  {
   "cell_type": "markdown",
   "id": "747486fa",
   "metadata": {},
   "source": [
    "# Defining X3, y3 (RFE)"
   ]
  },
  {
   "cell_type": "code",
   "execution_count": null,
   "id": "3ef7ca7b",
   "metadata": {},
   "outputs": [],
   "source": [
    "X3 = X2"
   ]
  },
  {
   "cell_type": "code",
   "execution_count": null,
   "id": "60bc3bfd",
   "metadata": {},
   "outputs": [],
   "source": [
    "y3 = y2"
   ]
  },
  {
   "cell_type": "markdown",
   "id": "4a918fcf",
   "metadata": {},
   "source": [
    "# Data splitting (X3, y3)"
   ]
  },
  {
   "cell_type": "code",
   "execution_count": null,
   "id": "403e1c2f",
   "metadata": {},
   "outputs": [],
   "source": [
    "X3_train, X3_test, y3_train, y3_test = train_test_split(X3, y3, test_size=0.20, random_state=42)\n",
    "\n",
    "X3_train = pd.DataFrame(X3_train, columns=X3.columns)\n",
    "X3_test  = pd.DataFrame(X3_test, columns=X3.columns)"
   ]
  },
  {
   "cell_type": "markdown",
   "id": "3bfa1914",
   "metadata": {},
   "source": [
    "# Recursive Feature Elimination (X3, y3)"
   ]
  },
  {
   "cell_type": "code",
   "execution_count": null,
   "id": "8fa058eb",
   "metadata": {},
   "outputs": [],
   "source": [
    "lm = LinearRegression()\n",
    "\n",
    "selector = RFE(lm, n_features_to_select= 17, step = 1, verbose = 1)\n",
    "selector.fit(X3_train, y3_train)\n",
    "\n",
    "kept_features = selector.get_support(indices = True) \n",
    "kept_features = list(X3_train.iloc[:,kept_features].columns)\n",
    "\n",
    "X3_train_RFE = selector.transform(X3_train)\n",
    "X3_test_RFE  = selector.transform(X3_test)\n",
    "\n",
    "X3_train_RFE = pd.DataFrame(X3_train_RFE, columns=kept_features)\n",
    "X3_test_RFE  = pd.DataFrame(X3_test_RFE, columns=kept_features)\n",
    "\n",
    "print(\"Final selected features: \")\n",
    "display(X3_train_RFE)"
   ]
  },
  {
   "cell_type": "markdown",
   "id": "ca25b0e9",
   "metadata": {},
   "source": [
    "# Standardizing Data (X3, y3)"
   ]
  },
  {
   "cell_type": "code",
   "execution_count": null,
   "id": "624d9385",
   "metadata": {},
   "outputs": [],
   "source": [
    "std_scaler=StandardScaler().fit(X3_train_RFE)   \n",
    "\n",
    "X3_train_scaled=std_scaler.transform(X3_train_RFE)\n"
   ]
  },
  {
   "cell_type": "code",
   "execution_count": null,
   "id": "fde7a1ab",
   "metadata": {},
   "outputs": [],
   "source": [
    "X3_test_scaled=std_scaler.transform(X3_test_RFE)"
   ]
  },
  {
   "cell_type": "markdown",
   "id": "b0a6fb51",
   "metadata": {},
   "source": [
    "# Fitting model (Linear Regression, X3, y3, RFE)"
   ]
  },
  {
   "cell_type": "code",
   "execution_count": null,
   "id": "6327cfb7",
   "metadata": {},
   "outputs": [],
   "source": [
    "model3=LinearRegression()    \n",
    "model3.fit(X3_train_scaled, y3_train)"
   ]
  },
  {
   "cell_type": "markdown",
   "id": "4b3df4b5",
   "metadata": {},
   "source": [
    "# Feature importance (Linear Regression, X3, y3, RFE)\n"
   ]
  },
  {
   "cell_type": "code",
   "execution_count": null,
   "id": "673fb7d9",
   "metadata": {},
   "outputs": [],
   "source": [
    "feature_names3 = X3_train.columns\n",
    "feature_names3 = list(feature_names3)"
   ]
  },
  {
   "cell_type": "code",
   "execution_count": null,
   "id": "e69cb93b",
   "metadata": {},
   "outputs": [],
   "source": [
    "df2 = pd.DataFrame(list(zip(feature_names3, model3.coef_)))\n",
    "df2.columns = ['columns_name', 'score_feature_importance']\n",
    "df2.sort_values(by=['score_feature_importance'], ascending = False)"
   ]
  },
  {
   "cell_type": "markdown",
   "id": "53c6352b",
   "metadata": {},
   "source": [
    "# Making prediction (X3, y3)"
   ]
  },
  {
   "cell_type": "code",
   "execution_count": null,
   "id": "cd206b0c",
   "metadata": {},
   "outputs": [],
   "source": [
    "y3_pred=model3.predict(X3_test_scaled)   \n",
    "\n",
    "y3_pred_train=model2.predict(X3_train_scaled)"
   ]
  },
  {
   "cell_type": "markdown",
   "id": "eb8f7108",
   "metadata": {},
   "source": [
    "# Evaluating model performance (X3, y3)"
   ]
  },
  {
   "cell_type": "code",
   "execution_count": null,
   "id": "0bda3b02",
   "metadata": {},
   "outputs": [],
   "source": [
    "fig, ax = plt.subplots(1,3,figsize=(14,4))\n",
    "\n",
    "ax[0].plot(y3_pred, y3_test, 'o')\n",
    "ax[0].set_xlabel(\"y_test\")\n",
    "ax[0].set_ylabel(\"y_pred\")\n",
    "ax[0].set_title(\"Test Set - Predicted vs real\")\n",
    " \n",
    "\n",
    "ax[1].hist(y3_test - y3_pred)\n",
    "ax[1].set_xlabel(\"Test y-y_pred\")\n",
    "ax[1].set_title(\"Test Set Residual histogram\")\n",
    "\n",
    "ax[2].plot(y3_pred,y3_test - y3_pred,\"o\")\n",
    "ax[2].set_xlabel(\"predicted\")\n",
    "ax[2].set_ylabel(\"residuals\")\n",
    "ax[2].set_title(\"Residuals by Predicted\")\n",
    "ax[2].plot(y3_pred,np.zeros(len(y3_pred)),linestyle='dashed')"
   ]
  },
  {
   "cell_type": "markdown",
   "id": "18643b9b",
   "metadata": {},
   "source": [
    "# Error metrics (X3, y3)"
   ]
  },
  {
   "cell_type": "code",
   "execution_count": null,
   "id": "0ed79201",
   "metadata": {},
   "outputs": [],
   "source": [
    "print(mse(y3_test,y3_pred))\n",
    "print(mae(y3_test,y3_pred))"
   ]
  },
  {
   "cell_type": "code",
   "execution_count": null,
   "id": "6366e162",
   "metadata": {},
   "outputs": [],
   "source": [
    "R2_3=r2_score(y3_test,y3_pred)\n",
    "R2_3"
   ]
  },
  {
   "cell_type": "markdown",
   "id": "187a744a",
   "metadata": {},
   "source": [
    "# Cross validation (X3, y3)"
   ]
  },
  {
   "cell_type": "code",
   "execution_count": null,
   "id": "3517bc94",
   "metadata": {},
   "outputs": [],
   "source": [
    "scores3=cross_val_score(model3, X3_train, y3_train, cv = 5)\n",
    "scores3"
   ]
  },
  {
   "cell_type": "code",
   "execution_count": null,
   "id": "9aef9121",
   "metadata": {},
   "outputs": [],
   "source": [
    "print(\"%0.2f accuracy with a standard deviation of %0.2f\" % (scores3.mean(), scores3.std()))"
   ]
  },
  {
   "cell_type": "markdown",
   "id": "8e399264",
   "metadata": {},
   "source": [
    "# Defining X4, y4 (KNN Regression)"
   ]
  },
  {
   "cell_type": "code",
   "execution_count": null,
   "id": "74bc9eae",
   "metadata": {},
   "outputs": [],
   "source": [
    "X4 = X3"
   ]
  },
  {
   "cell_type": "code",
   "execution_count": null,
   "id": "96816f0f",
   "metadata": {},
   "outputs": [],
   "source": [
    "y4 = y3"
   ]
  },
  {
   "cell_type": "markdown",
   "id": "0d2150b4",
   "metadata": {},
   "source": [
    "# Data splitting (X4, y4)"
   ]
  },
  {
   "cell_type": "code",
   "execution_count": null,
   "id": "394d7a8c",
   "metadata": {},
   "outputs": [],
   "source": [
    "X4_train, X4_test, y4_train, y4_test = train_test_split(X4, y4, test_size=0.20, random_state=42)\n",
    "\n",
    "X4_train = pd.DataFrame(X4_train, columns=X4.columns)\n",
    "X4_test  = pd.DataFrame(X4_test, columns=X4.columns)"
   ]
  },
  {
   "cell_type": "markdown",
   "id": "94c699e1",
   "metadata": {},
   "source": [
    "# Recursive Feature Elimination (X3, y3)"
   ]
  },
  {
   "cell_type": "code",
   "execution_count": null,
   "id": "78a7951e",
   "metadata": {},
   "outputs": [],
   "source": [
    "lm = LinearRegression()\n",
    "\n",
    "selector = RFE(lm, n_features_to_select= 17, step = 1, verbose = 1)\n",
    "selector.fit(X4_train, y4_train)\n",
    "\n",
    "kept_features = selector.get_support(indices = True) \n",
    "kept_features = list(X4_train.iloc[:,kept_features].columns)\n",
    "\n",
    "X4_train_RFE = selector.transform(X4_train)\n",
    "X4_test_RFE  = selector.transform(X4_test)\n",
    "\n",
    "X4_train_RFE = pd.DataFrame(X4_train_RFE, columns=kept_features)\n",
    "X4_test_RFE  = pd.DataFrame(X4_test_RFE, columns=kept_features)\n",
    "\n",
    "print(\"Final selected features: \")\n",
    "display(X4_train_RFE)"
   ]
  },
  {
   "cell_type": "markdown",
   "id": "3e9c67ce",
   "metadata": {},
   "source": [
    "# Power transforming data (X4, y4)"
   ]
  },
  {
   "cell_type": "code",
   "execution_count": null,
   "id": "04486c2e",
   "metadata": {},
   "outputs": [],
   "source": [
    "trans = PowerTransformer()\n",
    "trans.fit(X4_train)"
   ]
  },
  {
   "cell_type": "code",
   "execution_count": null,
   "id": "1fa1c7db",
   "metadata": {},
   "outputs": [],
   "source": [
    "X4_train_scaled = trans.transform(X4_train)\n",
    "X4_test_scaled  = trans.transform(X4_test)"
   ]
  },
  {
   "cell_type": "markdown",
   "id": "984a52c9",
   "metadata": {},
   "source": [
    "# Fitting model (KNN Regression, X4, y4)"
   ]
  },
  {
   "cell_type": "code",
   "execution_count": null,
   "id": "095d1782",
   "metadata": {},
   "outputs": [],
   "source": [
    "model4 = KNeighborsRegressor(n_neighbors=2)"
   ]
  },
  {
   "cell_type": "code",
   "execution_count": null,
   "id": "83cf984f",
   "metadata": {},
   "outputs": [],
   "source": [
    "model4.fit(X4_train_scaled, y4_train)"
   ]
  },
  {
   "cell_type": "markdown",
   "id": "e8aea25c",
   "metadata": {},
   "source": [
    "# Making prediction (X4, y4)"
   ]
  },
  {
   "cell_type": "code",
   "execution_count": null,
   "id": "e6860576",
   "metadata": {},
   "outputs": [],
   "source": [
    "y4_pred_train = model4.predict(X4_train_scaled)\n",
    "y4_pred  = model4.predict(X4_test_scaled)"
   ]
  },
  {
   "cell_type": "markdown",
   "id": "c2a4ac24",
   "metadata": {},
   "source": [
    "# Evaluating model performance (X4, y4)"
   ]
  },
  {
   "cell_type": "code",
   "execution_count": null,
   "id": "eac12a74",
   "metadata": {},
   "outputs": [],
   "source": [
    "fig, ax = plt.subplots(1,3,figsize=(14,4))\n",
    "\n",
    "ax[0].plot(y4_pred, y4_test, 'o')\n",
    "ax[0].set_xlabel(\"y_test\")\n",
    "ax[0].set_ylabel(\"y_pred\")\n",
    "ax[0].set_title(\"Test Set - Predicted vs real\")\n",
    " \n",
    "\n",
    "ax[1].hist(y4_test - y4_pred)\n",
    "ax[1].set_xlabel(\"Test y-y_pred\")\n",
    "ax[1].set_title(\"Test Set Residual histogram\")\n",
    "\n",
    "ax[2].plot(y4_pred,y4_test - y4_pred,\"o\")\n",
    "ax[2].set_xlabel(\"predicted\")\n",
    "ax[2].set_ylabel(\"residuals\")\n",
    "ax[2].set_title(\"Residuals by Predicted\")\n",
    "ax[2].plot(y4_pred,np.zeros(len(y4_pred)),linestyle='dashed')"
   ]
  },
  {
   "cell_type": "markdown",
   "id": "5f551685",
   "metadata": {},
   "source": [
    "# Error metrics (X4, y4)"
   ]
  },
  {
   "cell_type": "code",
   "execution_count": null,
   "id": "24056938",
   "metadata": {},
   "outputs": [],
   "source": [
    "print(mse(y4_test,y4_pred))\n",
    "print(mae(y4_test,y4_pred))"
   ]
  },
  {
   "cell_type": "code",
   "execution_count": null,
   "id": "5a49cd14",
   "metadata": {},
   "outputs": [],
   "source": [
    "R2_4=r2_score(y4_test,y4_pred)\n",
    "R2_4"
   ]
  },
  {
   "cell_type": "markdown",
   "id": "41771994",
   "metadata": {},
   "source": [
    "# Cross validation (X4, y4)"
   ]
  },
  {
   "cell_type": "code",
   "execution_count": null,
   "id": "82af6ee0",
   "metadata": {},
   "outputs": [],
   "source": [
    "scores4=cross_val_score(model4, X4_train_scaled, y4_train, cv = 5)\n",
    "scores4"
   ]
  },
  {
   "cell_type": "code",
   "execution_count": null,
   "id": "aeee7882",
   "metadata": {},
   "outputs": [],
   "source": [
    "print(\"%0.2f accuracy with a standard deviation of %0.2f\" % (scores4.mean(), scores4.std()))"
   ]
  },
  {
   "cell_type": "markdown",
   "id": "6a37000b",
   "metadata": {},
   "source": [
    "# Defining X5, y5 (Decision Tress Regression)"
   ]
  },
  {
   "cell_type": "code",
   "execution_count": null,
   "id": "48b6d442",
   "metadata": {},
   "outputs": [],
   "source": [
    "X5 = X4"
   ]
  },
  {
   "cell_type": "code",
   "execution_count": null,
   "id": "75064b14",
   "metadata": {},
   "outputs": [],
   "source": [
    "y5 = y4"
   ]
  },
  {
   "cell_type": "markdown",
   "id": "f3b811e4",
   "metadata": {},
   "source": [
    "# Data splitting (X5, y5)"
   ]
  },
  {
   "cell_type": "code",
   "execution_count": null,
   "id": "9846e3b9",
   "metadata": {},
   "outputs": [],
   "source": [
    "X5_train, X5_test, y5_train, y5_test = train_test_split(X5, y5, test_size=0.20, random_state=42)\n",
    "\n",
    "X5_train = pd.DataFrame(X5_train, columns=X5.columns)\n",
    "X5_test  = pd.DataFrame(X5_test, columns=X5.columns)"
   ]
  },
  {
   "cell_type": "markdown",
   "id": "f3262aed",
   "metadata": {},
   "source": [
    "# Standardizing Data (X5, y5)"
   ]
  },
  {
   "cell_type": "markdown",
   "id": "4831a900",
   "metadata": {},
   "source": [
    "- Not needed because using decision tree"
   ]
  },
  {
   "cell_type": "markdown",
   "id": "b385a70b",
   "metadata": {},
   "source": [
    "# Fitting model (Decision Tree Regression, X5, y5)"
   ]
  },
  {
   "cell_type": "code",
   "execution_count": null,
   "id": "b29ccbab",
   "metadata": {},
   "outputs": [],
   "source": [
    "model5 = DecisionTreeRegressor(max_depth=3)\n",
    "\n",
    "model5.fit(X5_train, y5_train)\n",
    "\n"
   ]
  },
  {
   "cell_type": "markdown",
   "id": "3a493a3a",
   "metadata": {},
   "source": [
    "# Making prediction (X5, y5)"
   ]
  },
  {
   "cell_type": "code",
   "execution_count": null,
   "id": "bccaecb1",
   "metadata": {},
   "outputs": [],
   "source": [
    "y5_pred_train = model5.predict(X5_train)\n",
    "y5_pred  = model5.predict(X5_test)"
   ]
  },
  {
   "cell_type": "markdown",
   "id": "3d4dd4b6",
   "metadata": {},
   "source": [
    "# Evaluating model performance (X5, y5)"
   ]
  },
  {
   "cell_type": "code",
   "execution_count": null,
   "id": "55f22718",
   "metadata": {},
   "outputs": [],
   "source": [
    "fig, ax = plt.subplots(1,3,figsize=(14,4))\n",
    "\n",
    "ax[0].plot(y5_pred, y5_test, 'o')\n",
    "ax[0].set_xlabel(\"y_test\")\n",
    "ax[0].set_ylabel(\"y_pred\")\n",
    "ax[0].set_title(\"Test Set - Predicted vs real\")\n",
    " \n",
    "\n",
    "ax[1].hist(y5_test - y5_pred)\n",
    "ax[1].set_xlabel(\"Test y-y_pred\")\n",
    "ax[1].set_title(\"Test Set Residual histogram\")\n",
    "\n",
    "ax[2].plot(y5_pred,y5_test - y5_pred,\"o\")\n",
    "ax[2].set_xlabel(\"predicted\")\n",
    "ax[2].set_ylabel(\"residuals\")\n",
    "ax[2].set_title(\"Residuals by Predicted\")\n",
    "ax[2].plot(y5_pred,np.zeros(len(y5_pred)),linestyle='dashed')"
   ]
  },
  {
   "cell_type": "markdown",
   "id": "bb6d412f",
   "metadata": {},
   "source": [
    "# Error metrics (X5, y5)"
   ]
  },
  {
   "cell_type": "code",
   "execution_count": null,
   "id": "39adb4b2",
   "metadata": {},
   "outputs": [],
   "source": [
    "print(mse(y5_test,y5_pred))\n",
    "print(mae(y5_test,y5_pred))"
   ]
  },
  {
   "cell_type": "code",
   "execution_count": null,
   "id": "0e6739a7",
   "metadata": {},
   "outputs": [],
   "source": [
    "R2_5=r2_score(y4_test,y4_pred)\n",
    "R2_5"
   ]
  },
  {
   "cell_type": "markdown",
   "id": "7643b97c",
   "metadata": {},
   "source": [
    "# Cross validation (X5, y5)"
   ]
  },
  {
   "cell_type": "code",
   "execution_count": null,
   "id": "4992eecc",
   "metadata": {},
   "outputs": [],
   "source": [
    "scores5=cross_val_score(model5, X5_train, y5_train, cv = 5)\n",
    "scores5"
   ]
  },
  {
   "cell_type": "code",
   "execution_count": null,
   "id": "4dd3f075",
   "metadata": {},
   "outputs": [],
   "source": [
    "print(\"%0.2f accuracy with a standard deviation of %0.2f\" % (scores5.mean(), scores5.std()))"
   ]
  },
  {
   "cell_type": "markdown",
   "id": "ca4b3760",
   "metadata": {},
   "source": [
    "# Defining X6, y6 (Random Forest Regression)"
   ]
  },
  {
   "cell_type": "code",
   "execution_count": null,
   "id": "ff1b18fc",
   "metadata": {},
   "outputs": [],
   "source": [
    "X6 = X5"
   ]
  },
  {
   "cell_type": "code",
   "execution_count": null,
   "id": "31f9fafe",
   "metadata": {},
   "outputs": [],
   "source": [
    "y6 = y5"
   ]
  },
  {
   "cell_type": "markdown",
   "id": "36de83f1",
   "metadata": {},
   "source": [
    "# Data splitting (X6, y6)"
   ]
  },
  {
   "cell_type": "code",
   "execution_count": null,
   "id": "6c193a81",
   "metadata": {},
   "outputs": [],
   "source": [
    "X6_train, X6_test, y6_train, y6_test = train_test_split(X6, y6, test_size=0.20, random_state=42)\n",
    "\n",
    "X6_train = pd.DataFrame(X6_train, columns=X5.columns)\n",
    "X6_test  = pd.DataFrame(X6_test, columns=X5.columns)"
   ]
  },
  {
   "cell_type": "markdown",
   "id": "3a54f147",
   "metadata": {},
   "source": [
    "# Standardizing Data (X6, y6)"
   ]
  },
  {
   "cell_type": "markdown",
   "id": "4ab8bb92",
   "metadata": {},
   "source": [
    "- Not needed because using decision tree"
   ]
  },
  {
   "cell_type": "markdown",
   "id": "3bde7176",
   "metadata": {},
   "source": [
    "# Fitting model (Random Forest Regression, X6, y6)"
   ]
  },
  {
   "cell_type": "code",
   "execution_count": null,
   "id": "a50cd722",
   "metadata": {},
   "outputs": [],
   "source": [
    "model6 = RandomForestRegressor(n_estimators=100)\n",
    "\n",
    "model6.fit(X6_train, y6_train)\n",
    "\n"
   ]
  },
  {
   "cell_type": "markdown",
   "id": "75e02c32",
   "metadata": {},
   "source": [
    "# Feature importance (Random Forest Regression, X6, y6)\n"
   ]
  },
  {
   "cell_type": "code",
   "execution_count": null,
   "id": "ac20ecb2",
   "metadata": {},
   "outputs": [],
   "source": [
    "feature_names6 = X6_train.columns\n",
    "feature_names6 = list(feature_names6)"
   ]
  },
  {
   "cell_type": "code",
   "execution_count": null,
   "id": "7c1a4a9b",
   "metadata": {},
   "outputs": [],
   "source": [
    "df6 = pd.DataFrame(list(zip(feature_names6, model6.feature_importances_)))\n",
    "df6.columns = ['columns_name', 'score_feature_importance']\n",
    "df6.sort_values(by=['score_feature_importance'], ascending = False)"
   ]
  },
  {
   "cell_type": "markdown",
   "id": "748860e4",
   "metadata": {},
   "source": [
    "# Making prediction (X6, y6)"
   ]
  },
  {
   "cell_type": "code",
   "execution_count": null,
   "id": "b5acda0f",
   "metadata": {},
   "outputs": [],
   "source": [
    "y6_pred_train = model6.predict(X6_train)\n",
    "y6_pred  = model6.predict(X6_test)"
   ]
  },
  {
   "cell_type": "markdown",
   "id": "30b04e66",
   "metadata": {},
   "source": [
    "# Evaluating model performance (X6, y6)"
   ]
  },
  {
   "cell_type": "code",
   "execution_count": null,
   "id": "487acf05",
   "metadata": {},
   "outputs": [],
   "source": [
    "fig, ax = plt.subplots(1,3,figsize=(14,4))\n",
    "\n",
    "ax[0].plot(y6_pred, y6_test, 'o')\n",
    "ax[0].set_xlabel(\"y_test\")\n",
    "ax[0].set_ylabel(\"y_pred\")\n",
    "ax[0].set_title(\"Test Set - Predicted vs real\")\n",
    " \n",
    "\n",
    "ax[1].hist(y6_test - y6_pred)\n",
    "ax[1].set_xlabel(\"Test y-y_pred\")\n",
    "ax[1].set_title(\"Test Set Residual histogram\")\n",
    "\n",
    "ax[2].plot(y6_pred,y6_test - y6_pred,\"o\")\n",
    "ax[2].set_xlabel(\"predicted\")\n",
    "ax[2].set_ylabel(\"residuals\")\n",
    "ax[2].set_title(\"Residuals by Predicted\")\n",
    "ax[2].plot(y6_pred,np.zeros(len(y6_pred)),linestyle='dashed')"
   ]
  },
  {
   "cell_type": "markdown",
   "id": "5186e4a4",
   "metadata": {},
   "source": [
    "# Error metrics (X6, y6)"
   ]
  },
  {
   "cell_type": "code",
   "execution_count": null,
   "id": "717f6b35",
   "metadata": {},
   "outputs": [],
   "source": [
    "print(mse(y6_test,y6_pred))\n",
    "print(mae(y6_test,y6_pred))"
   ]
  },
  {
   "cell_type": "code",
   "execution_count": null,
   "id": "60a7d09b",
   "metadata": {},
   "outputs": [],
   "source": [
    "R2_6=r2_score(y6_test,y6_pred)\n",
    "R2_6"
   ]
  },
  {
   "cell_type": "markdown",
   "id": "b880820c",
   "metadata": {},
   "source": [
    "# Cross validation (X6, y6)"
   ]
  },
  {
   "cell_type": "code",
   "execution_count": null,
   "id": "235ca529",
   "metadata": {},
   "outputs": [],
   "source": [
    "scores6=cross_val_score(model6, X6_train, y6_train, cv = 10)\n",
    "scores6"
   ]
  },
  {
   "cell_type": "code",
   "execution_count": null,
   "id": "3e9e2d5d",
   "metadata": {},
   "outputs": [],
   "source": [
    "print(\"%0.2f accuracy with a standard deviation of %0.2f\" % (scores6.mean(), scores6.std()))"
   ]
  },
  {
   "cell_type": "code",
   "execution_count": null,
   "id": "644adda3",
   "metadata": {},
   "outputs": [],
   "source": [
    "feature_names6 = X6_train.columns\n",
    "feature_names6 = list(feature_names6)\n"
   ]
  },
  {
   "cell_type": "code",
   "execution_count": null,
   "id": "96444dc6",
   "metadata": {},
   "outputs": [],
   "source": [
    "df6 = pd.DataFrame(list(zip(feature_names6, model6.feature_importances_)))\n",
    "df6.columns = ['columns_name', 'score_feature_importance']\n",
    "df6.sort_values(by=['score_feature_importance'], ascending = False)"
   ]
  },
  {
   "cell_type": "markdown",
   "id": "c6b35ff2",
   "metadata": {},
   "source": [
    "# Defining X7, y7 (Random Forest Regression w/ Feature Selection X6, y6)"
   ]
  },
  {
   "cell_type": "code",
   "execution_count": null,
   "id": "20bf119a",
   "metadata": {},
   "outputs": [],
   "source": [
    "X7 = X6[['hiv/aids','income composition of resources','adult mortality']].copy()"
   ]
  },
  {
   "cell_type": "code",
   "execution_count": null,
   "id": "fa0b7a28",
   "metadata": {},
   "outputs": [],
   "source": [
    "X7.isna().any()"
   ]
  },
  {
   "cell_type": "code",
   "execution_count": null,
   "id": "30e44138",
   "metadata": {},
   "outputs": [],
   "source": [
    "y7 = y6"
   ]
  },
  {
   "cell_type": "markdown",
   "id": "ba247f5c",
   "metadata": {},
   "source": [
    "# Data splitting (X7, y7)"
   ]
  },
  {
   "cell_type": "code",
   "execution_count": null,
   "id": "1574b9a9",
   "metadata": {},
   "outputs": [],
   "source": [
    "X7_train, X7_test, y7_train, y7_test = train_test_split(X7, y7, test_size=0.20, random_state=42)\n",
    "\n",
    "X7_train = pd.DataFrame(X7_train, columns=X7.columns)\n",
    "X7_test  = pd.DataFrame(X7_test, columns=X7.columns)"
   ]
  },
  {
   "cell_type": "markdown",
   "id": "1a6ae725",
   "metadata": {},
   "source": [
    "# Fitting model (Random Forest Regression, X7, y7 w/ Feature Selection X6, y6)"
   ]
  },
  {
   "cell_type": "code",
   "execution_count": null,
   "id": "491f6bbb",
   "metadata": {},
   "outputs": [],
   "source": [
    "model7 = RandomForestRegressor(n_estimators=100)\n",
    "\n",
    "model7.fit(X7_train, y7_train)\n",
    "\n"
   ]
  },
  {
   "cell_type": "markdown",
   "id": "e1f86eba",
   "metadata": {},
   "source": [
    "# Feature importance (Random Forest Regression, X7, y7 w/ Feature Selection X6, y6)\n"
   ]
  },
  {
   "cell_type": "markdown",
   "id": "f1e614e1",
   "metadata": {},
   "source": [
    "- no need to do feature importance, only using three features from X6, y6"
   ]
  },
  {
   "cell_type": "markdown",
   "id": "a5f8d97f",
   "metadata": {},
   "source": [
    "# Making prediction (X7, y7)"
   ]
  },
  {
   "cell_type": "code",
   "execution_count": null,
   "id": "1a9926d9",
   "metadata": {},
   "outputs": [],
   "source": [
    "y7_pred_train = model7.predict(X7_train)\n",
    "y7_pred  = model7.predict(X7_test)"
   ]
  },
  {
   "cell_type": "markdown",
   "id": "93702ced",
   "metadata": {},
   "source": [
    "# Evaluating model performance (X7, y7)"
   ]
  },
  {
   "cell_type": "code",
   "execution_count": null,
   "id": "bc9d72cc",
   "metadata": {
    "scrolled": true
   },
   "outputs": [],
   "source": [
    "fig, ax = plt.subplots(1,3,figsize=(14,4))\n",
    "\n",
    "ax[0].plot(y7_pred, y7_test, 'o')\n",
    "ax[0].set_xlabel(\"y_test\")\n",
    "ax[0].set_ylabel(\"y_pred\")\n",
    "ax[0].set_title(\"Test Set - Predicted vs real\")\n",
    " \n",
    "\n",
    "ax[1].hist(y7_test - y7_pred)\n",
    "ax[1].set_xlabel(\"Test y-y_pred\")\n",
    "ax[1].set_title(\"Test Set Residual histogram\")\n",
    "\n",
    "ax[2].plot(y7_pred,y7_test - y7_pred,\"o\")\n",
    "ax[2].set_xlabel(\"predicted\")\n",
    "ax[2].set_ylabel(\"residuals\")\n",
    "ax[2].set_title(\"Residuals by Predicted\")\n",
    "ax[2].plot(y7_pred,np.zeros(len(y7_pred)),linestyle='dashed')"
   ]
  },
  {
   "cell_type": "markdown",
   "id": "46d34026",
   "metadata": {},
   "source": [
    "# Error metrics (X7, y7)"
   ]
  },
  {
   "cell_type": "code",
   "execution_count": null,
   "id": "39b6d97e",
   "metadata": {},
   "outputs": [],
   "source": [
    "print(mse(y7_test,y7_pred))\n",
    "print(mae(y7_test,y7_pred))"
   ]
  },
  {
   "cell_type": "code",
   "execution_count": null,
   "id": "9ea15120",
   "metadata": {},
   "outputs": [],
   "source": [
    "R2_7=r2_score(y7_test,y7_pred)\n",
    "R2_7"
   ]
  },
  {
   "cell_type": "markdown",
   "id": "d6e08db1",
   "metadata": {},
   "source": [
    "# Cross validation (X7, y7)"
   ]
  },
  {
   "cell_type": "code",
   "execution_count": null,
   "id": "279b47e8",
   "metadata": {},
   "outputs": [],
   "source": [
    "scores7=cross_val_score(model7, X7_train, y7_train, cv = 10)\n",
    "scores7"
   ]
  },
  {
   "cell_type": "code",
   "execution_count": null,
   "id": "edec5be5",
   "metadata": {},
   "outputs": [],
   "source": [
    "print(\"%0.2f accuracy with a standard deviation of %0.2f\" % (scores7.mean(), scores7.std()))"
   ]
  }
 ],
 "metadata": {
  "kernelspec": {
   "display_name": "Python 3 (ipykernel)",
   "language": "python",
   "name": "python3"
  },
  "language_info": {
   "codemirror_mode": {
    "name": "ipython",
    "version": 3
   },
   "file_extension": ".py",
   "mimetype": "text/x-python",
   "name": "python",
   "nbconvert_exporter": "python",
   "pygments_lexer": "ipython3",
   "version": "3.9.12"
  },
  "toc": {
   "base_numbering": 1,
   "nav_menu": {},
   "number_sections": true,
   "sideBar": true,
   "skip_h1_title": false,
   "title_cell": "Table of Contents",
   "title_sidebar": "Contents",
   "toc_cell": false,
   "toc_position": {
    "height": "calc(100% - 180px)",
    "left": "10px",
    "top": "150px",
    "width": "240px"
   },
   "toc_section_display": true,
   "toc_window_display": true
  },
  "varInspector": {
   "cols": {
    "lenName": 16,
    "lenType": 16,
    "lenVar": 40
   },
   "kernels_config": {
    "python": {
     "delete_cmd_postfix": "",
     "delete_cmd_prefix": "del ",
     "library": "var_list.py",
     "varRefreshCmd": "print(var_dic_list())"
    },
    "r": {
     "delete_cmd_postfix": ") ",
     "delete_cmd_prefix": "rm(",
     "library": "var_list.r",
     "varRefreshCmd": "cat(var_dic_list()) "
    }
   },
   "types_to_exclude": [
    "module",
    "function",
    "builtin_function_or_method",
    "instance",
    "_Feature"
   ],
   "window_display": false
  }
 },
 "nbformat": 4,
 "nbformat_minor": 5
}
