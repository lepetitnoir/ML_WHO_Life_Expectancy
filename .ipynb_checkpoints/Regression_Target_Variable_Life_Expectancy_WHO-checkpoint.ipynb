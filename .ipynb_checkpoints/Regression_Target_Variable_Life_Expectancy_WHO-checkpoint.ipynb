{
 "cells": [
  {
   "cell_type": "markdown",
   "id": "262ceaa6",
   "metadata": {},
   "source": [
    "# Importing libraries"
   ]
  },
  {
   "cell_type": "code",
   "execution_count": 192,
   "id": "dd1fdefc",
   "metadata": {},
   "outputs": [],
   "source": [
    "import pandas as pd\n",
    "import numpy as np\n",
    "import seaborn as sns\n",
    "from sklearn.model_selection import train_test_split\n",
    "import seaborn as sns\n",
    "import matplotlib.pyplot as plt\n",
    "from sklearn.linear_model import LinearRegression\n",
    "from sklearn.preprocessing import StandardScaler\n",
    "from sklearn.metrics import r2_score\n",
    "from sklearn.metrics import mean_squared_error as mse\n",
    "from sklearn.metrics import mean_absolute_error as mae\n",
    "from sklearn.feature_selection import RFE\n",
    "from sklearn.model_selection import cross_val_score\n",
    "from sklearn.model_selection import cross_val_predict\n",
    "from sklearn.neighbors import KNeighborsRegressor\n",
    "from sklearn.tree import DecisionTreeRegressor\n",
    "from sklearn.ensemble import RandomForestRegressor\n",
    "from sklearn.preprocessing import PowerTransformer\n",
    "%matplotlib inline"
   ]
  },
  {
   "cell_type": "markdown",
   "id": "11bd47df",
   "metadata": {},
   "source": [
    "# Loading .xls"
   ]
  },
  {
   "cell_type": "code",
   "execution_count": 193,
   "id": "4dfdd842",
   "metadata": {},
   "outputs": [],
   "source": [
    "who = pd.read_csv('who')"
   ]
  },
  {
   "cell_type": "code",
   "execution_count": 194,
   "id": "5b4a7f09",
   "metadata": {},
   "outputs": [
    {
     "data": {
      "text/plain": [
       "Index(['Unnamed: 0', 'country', 'status', 'life expectancy', 'infant deaths',\n",
       "       'alcohol', 'percentage expenditure', 'hepatitis b', 'measles', 'bmi',\n",
       "       'polio', 'total expenditure', 'hiv/aids', 'thinness 1-19 years',\n",
       "       'income composition of resources', 'schooling'],\n",
       "      dtype='object')"
      ]
     },
     "execution_count": 194,
     "metadata": {},
     "output_type": "execute_result"
    }
   ],
   "source": [
    "who.columns"
   ]
  },
  {
   "cell_type": "code",
   "execution_count": 195,
   "id": "aa5162df",
   "metadata": {},
   "outputs": [],
   "source": [
    "who.drop(['Unnamed: 0'], axis=1, inplace=True)"
   ]
  },
  {
   "cell_type": "markdown",
   "id": "604886b1",
   "metadata": {},
   "source": [
    "# Dividing categoricals/numericals"
   ]
  },
  {
   "cell_type": "code",
   "execution_count": 196,
   "id": "7c9d1255",
   "metadata": {},
   "outputs": [],
   "source": [
    "who_categoricals = who['country']"
   ]
  },
  {
   "cell_type": "code",
   "execution_count": 197,
   "id": "3d91c67f",
   "metadata": {},
   "outputs": [
    {
     "data": {
      "text/plain": [
       "pandas.core.series.Series"
      ]
     },
     "execution_count": 197,
     "metadata": {},
     "output_type": "execute_result"
    }
   ],
   "source": [
    "type(who_categoricals)"
   ]
  },
  {
   "cell_type": "code",
   "execution_count": 198,
   "id": "3cc49e56",
   "metadata": {},
   "outputs": [],
   "source": [
    "who_numericals = who._get_numeric_data()"
   ]
  },
  {
   "cell_type": "code",
   "execution_count": 199,
   "id": "b758b405",
   "metadata": {},
   "outputs": [
    {
     "name": "stdout",
     "output_type": "stream",
     "text": [
      "<class 'pandas.core.frame.DataFrame'>\n",
      "RangeIndex: 192 entries, 0 to 191\n",
      "Data columns (total 14 columns):\n",
      " #   Column                           Non-Null Count  Dtype  \n",
      "---  ------                           --------------  -----  \n",
      " 0   status                           192 non-null    float64\n",
      " 1   life expectancy                  192 non-null    float64\n",
      " 2   infant deaths                    192 non-null    float64\n",
      " 3   alcohol                          192 non-null    float64\n",
      " 4   percentage expenditure           192 non-null    float64\n",
      " 5   hepatitis b                      192 non-null    float64\n",
      " 6   measles                          192 non-null    float64\n",
      " 7   bmi                              192 non-null    float64\n",
      " 8   polio                            192 non-null    float64\n",
      " 9   total expenditure                192 non-null    float64\n",
      " 10  hiv/aids                         192 non-null    float64\n",
      " 11  thinness 1-19 years              192 non-null    float64\n",
      " 12  income composition of resources  192 non-null    float64\n",
      " 13  schooling                        192 non-null    float64\n",
      "dtypes: float64(14)\n",
      "memory usage: 21.1 KB\n"
     ]
    }
   ],
   "source": [
    "who_numericals.info()"
   ]
  },
  {
   "cell_type": "markdown",
   "id": "9021fd4b",
   "metadata": {},
   "source": [
    "# Defining X1, y1 (Linear regression)"
   ]
  },
  {
   "cell_type": "code",
   "execution_count": 275,
   "id": "4c18aea7",
   "metadata": {},
   "outputs": [],
   "source": [
    "X1 = who_numericals"
   ]
  },
  {
   "cell_type": "code",
   "execution_count": 276,
   "id": "507b076e",
   "metadata": {},
   "outputs": [],
   "source": [
    "X1 = X1.drop(['life expectancy'], axis=1)"
   ]
  },
  {
   "cell_type": "code",
   "execution_count": 277,
   "id": "185cb801",
   "metadata": {},
   "outputs": [
    {
     "name": "stdout",
     "output_type": "stream",
     "text": [
      "<class 'pandas.core.frame.DataFrame'>\n",
      "RangeIndex: 192 entries, 0 to 191\n",
      "Data columns (total 13 columns):\n",
      " #   Column                           Non-Null Count  Dtype  \n",
      "---  ------                           --------------  -----  \n",
      " 0   status                           192 non-null    float64\n",
      " 1   infant deaths                    192 non-null    float64\n",
      " 2   alcohol                          192 non-null    float64\n",
      " 3   percentage expenditure           192 non-null    float64\n",
      " 4   hepatitis b                      192 non-null    float64\n",
      " 5   measles                          192 non-null    float64\n",
      " 6   bmi                              192 non-null    float64\n",
      " 7   polio                            192 non-null    float64\n",
      " 8   total expenditure                192 non-null    float64\n",
      " 9   hiv/aids                         192 non-null    float64\n",
      " 10  thinness 1-19 years              192 non-null    float64\n",
      " 11  income composition of resources  192 non-null    float64\n",
      " 12  schooling                        192 non-null    float64\n",
      "dtypes: float64(13)\n",
      "memory usage: 19.6 KB\n"
     ]
    }
   ],
   "source": [
    "X1.info()"
   ]
  },
  {
   "cell_type": "code",
   "execution_count": 278,
   "id": "12da7ff8",
   "metadata": {},
   "outputs": [],
   "source": [
    "y1 = who_numericals['life expectancy']"
   ]
  },
  {
   "cell_type": "code",
   "execution_count": 279,
   "id": "4638a581",
   "metadata": {},
   "outputs": [
    {
     "data": {
      "text/plain": [
       "0      58.19375\n",
       "1      75.15625\n",
       "2      73.61875\n",
       "3      49.01875\n",
       "4      75.05625\n",
       "         ...   \n",
       "187    73.38750\n",
       "188    74.77500\n",
       "189    63.86250\n",
       "190    53.90625\n",
       "191    50.48750\n",
       "Name: life expectancy, Length: 192, dtype: float64"
      ]
     },
     "execution_count": 279,
     "metadata": {},
     "output_type": "execute_result"
    }
   ],
   "source": [
    "y1"
   ]
  },
  {
   "cell_type": "markdown",
   "id": "6b7cce50",
   "metadata": {},
   "source": [
    "# Data splitting X1, y1"
   ]
  },
  {
   "cell_type": "code",
   "execution_count": 280,
   "id": "b18af782",
   "metadata": {},
   "outputs": [],
   "source": [
    "X1_train, X1_test, y1_train, y1_test = train_test_split(X1, y1, test_size=0.20, random_state=42)\n",
    "\n",
    "X1_train = pd.DataFrame(X1_train, columns=X1.columns)\n",
    "X1_test  = pd.DataFrame(X1_test, columns=X1.columns)"
   ]
  },
  {
   "cell_type": "markdown",
   "id": "64d05aa6",
   "metadata": {},
   "source": [
    "# Standardizing Data X1, y1"
   ]
  },
  {
   "cell_type": "code",
   "execution_count": 281,
   "id": "a60bdce8",
   "metadata": {},
   "outputs": [
    {
     "data": {
      "text/plain": [
       "array([[<AxesSubplot:title={'center':'status'}>,\n",
       "        <AxesSubplot:title={'center':'infant deaths'}>,\n",
       "        <AxesSubplot:title={'center':'alcohol'}>,\n",
       "        <AxesSubplot:title={'center':'percentage expenditure'}>],\n",
       "       [<AxesSubplot:title={'center':'hepatitis b'}>,\n",
       "        <AxesSubplot:title={'center':'measles'}>,\n",
       "        <AxesSubplot:title={'center':'bmi'}>,\n",
       "        <AxesSubplot:title={'center':'polio'}>],\n",
       "       [<AxesSubplot:title={'center':'total expenditure'}>,\n",
       "        <AxesSubplot:title={'center':'hiv/aids'}>,\n",
       "        <AxesSubplot:title={'center':'thinness 1-19 years'}>,\n",
       "        <AxesSubplot:title={'center':'income composition of resources'}>],\n",
       "       [<AxesSubplot:title={'center':'schooling'}>, <AxesSubplot:>,\n",
       "        <AxesSubplot:>, <AxesSubplot:>]], dtype=object)"
      ]
     },
     "execution_count": 281,
     "metadata": {},
     "output_type": "execute_result"
    },
    {
     "data": {
      "image/png": "[encoded data removed]",
      "text/plain": [
       "<Figure size 1400x1400 with 16 Axes>"
      ]
     },
     "metadata": {},
     "output_type": "display_data"
    }
   ],
   "source": [
    " X1.hist(figsize=(14,14))"
   ]
  },
  {
   "cell_type": "code",
   "execution_count": 282,
   "id": "d777b3d0",
   "metadata": {},
   "outputs": [],
   "source": [
    "std_scaler=StandardScaler().fit(X1_train)   \n",
    "\n",
    "X1_train_scaled=std_scaler.transform(X1_train)\n",
    "\n"
   ]
  },
  {
   "cell_type": "code",
   "execution_count": 283,
   "id": "bdabb893",
   "metadata": {},
   "outputs": [],
   "source": [
    "X1_test_scaled=std_scaler.transform(X1_test)"
   ]
  },
  {
   "cell_type": "markdown",
   "id": "96d1890e",
   "metadata": {},
   "source": [
    "# Fitting model (Linear Regression, X1, y1)\n",
    "\n"
   ]
  },
  {
   "cell_type": "code",
   "execution_count": 284,
   "id": "a7e4a7b3",
   "metadata": {},
   "outputs": [
    {
     "data": {
      "text/html": [
       "<style>#sk-container-id-9 {color: black;background-color: white;}#sk-container-id-9 pre{padding: 0;}#sk-container-id-9 div.sk-toggleable {background-color: white;}#sk-container-id-9 label.sk-toggleable__label {cursor: pointer;display: block;width: 100%;margin-bottom: 0;padding: 0.3em;box-sizing: border-box;text-align: center;}#sk-container-id-9 label.sk-toggleable__label-arrow:before {content: \"▸\";float: left;margin-right: 0.25em;color: #696969;}#sk-container-id-9 label.sk-toggleable__label-arrow:hover:before {color: black;}#sk-container-id-9 div.sk-estimator:hover label.sk-toggleable__label-arrow:before {color: black;}#sk-container-id-9 div.sk-toggleable__content {max-height: 0;max-width: 0;overflow: hidden;text-align: left;background-color: #f0f8ff;}#sk-container-id-9 div.sk-toggleable__content pre {margin: 0.2em;color: black;border-radius: 0.25em;background-color: #f0f8ff;}#sk-container-id-9 input.sk-toggleable__control:checked~div.sk-toggleable__content {max-height: 200px;max-width: 100%;overflow: auto;}#sk-container-id-9 input.sk-toggleable__control:checked~label.sk-toggleable__label-arrow:before {content: \"▾\";}#sk-container-id-9 div.sk-estimator input.sk-toggleable__control:checked~label.sk-toggleable__label {background-color: #d4ebff;}#sk-container-id-9 div.sk-label input.sk-toggleable__control:checked~label.sk-toggleable__label {background-color: #d4ebff;}#sk-container-id-9 input.sk-hidden--visually {border: 0;clip: rect(1px 1px 1px 1px);clip: rect(1px, 1px, 1px, 1px);height: 1px;margin: -1px;overflow: hidden;padding: 0;position: absolute;width: 1px;}#sk-container-id-9 div.sk-estimator {font-family: monospace;background-color: #f0f8ff;border: 1px dotted black;border-radius: 0.25em;box-sizing: border-box;margin-bottom: 0.5em;}#sk-container-id-9 div.sk-estimator:hover {background-color: #d4ebff;}#sk-container-id-9 div.sk-parallel-item::after {content: \"\";width: 100%;border-bottom: 1px solid gray;flex-grow: 1;}#sk-container-id-9 div.sk-label:hover label.sk-toggleable__label {background-color: #d4ebff;}#sk-container-id-9 div.sk-serial::before {content: \"\";position: absolute;border-left: 1px solid gray;box-sizing: border-box;top: 0;bottom: 0;left: 50%;z-index: 0;}#sk-container-id-9 div.sk-serial {display: flex;flex-direction: column;align-items: center;background-color: white;padding-right: 0.2em;padding-left: 0.2em;position: relative;}#sk-container-id-9 div.sk-item {position: relative;z-index: 1;}#sk-container-id-9 div.sk-parallel {display: flex;align-items: stretch;justify-content: center;background-color: white;position: relative;}#sk-container-id-9 div.sk-item::before, #sk-container-id-9 div.sk-parallel-item::before {content: \"\";position: absolute;border-left: 1px solid gray;box-sizing: border-box;top: 0;bottom: 0;left: 50%;z-index: -1;}#sk-container-id-9 div.sk-parallel-item {display: flex;flex-direction: column;z-index: 1;position: relative;background-color: white;}#sk-container-id-9 div.sk-parallel-item:first-child::after {align-self: flex-end;width: 50%;}#sk-container-id-9 div.sk-parallel-item:last-child::after {align-self: flex-start;width: 50%;}#sk-container-id-9 div.sk-parallel-item:only-child::after {width: 0;}#sk-container-id-9 div.sk-dashed-wrapped {border: 1px dashed gray;margin: 0 0.4em 0.5em 0.4em;box-sizing: border-box;padding-bottom: 0.4em;background-color: white;}#sk-container-id-9 div.sk-label label {font-family: monospace;font-weight: bold;display: inline-block;line-height: 1.2em;}#sk-container-id-9 div.sk-label-container {text-align: center;}#sk-container-id-9 div.sk-container {/* jupyter's `normalize.less` sets `[hidden] { display: none; }` but bootstrap.min.css set `[hidden] { display: none !important; }` so we also need the `!important` here to be able to override the default hidden behavior on the sphinx rendered scikit-learn.org. See: https://github.com/scikit-learn/scikit-learn/issues/21755 */display: inline-block !important;position: relative;}#sk-container-id-9 div.sk-text-repr-fallback {display: none;}</style><div id=\"sk-container-id-9\" class=\"sk-top-container\"><div class=\"sk-text-repr-fallback\"><pre>LinearRegression()</pre><b>In a Jupyter environment, please rerun this cell to show the HTML representation or trust the notebook. <br />On GitHub, the HTML representation is unable to render, please try loading this page with nbviewer.org.</b></div><div class=\"sk-container\" hidden><div class=\"sk-item\"><div class=\"sk-estimator sk-toggleable\"><input class=\"sk-toggleable__control sk-hidden--visually\" id=\"sk-estimator-id-9\" type=\"checkbox\" checked><label for=\"sk-estimator-id-9\" class=\"sk-toggleable__label sk-toggleable__label-arrow\">LinearRegression</label><div class=\"sk-toggleable__content\"><pre>LinearRegression()</pre></div></div></div></div></div>"
      ],
      "text/plain": [
       "LinearRegression()"
      ]
     },
     "execution_count": 284,
     "metadata": {},
     "output_type": "execute_result"
    }
   ],
   "source": [
    "model1=LinearRegression()    \n",
    "model1.fit(X1_train_scaled, y1_train)"
   ]
  },
  {
   "cell_type": "markdown",
   "id": "bdd7fe0c",
   "metadata": {},
   "source": [
    "# Feature importance (Linear Regression, X1, y1)\n"
   ]
  },
  {
   "cell_type": "code",
   "execution_count": 285,
   "id": "3af4ba48",
   "metadata": {},
   "outputs": [],
   "source": [
    "feature_names1 = X1_train.columns\n",
    "feature_names1 = list(feature_names1)"
   ]
  },
  {
   "cell_type": "code",
   "execution_count": 286,
   "id": "24be0e37",
   "metadata": {},
   "outputs": [
    {
     "data": {
      "text/html": [
       "<div>\n",
       "<style scoped>\n",
       "    .dataframe tbody tr th:only-of-type {\n",
       "        vertical-align: middle;\n",
       "    }\n",
       "\n",
       "    .dataframe tbody tr th {\n",
       "        vertical-align: top;\n",
       "    }\n",
       "\n",
       "    .dataframe thead th {\n",
       "        text-align: right;\n",
       "    }\n",
       "</style>\n",
       "<table border=\"1\" class=\"dataframe\">\n",
       "  <thead>\n",
       "    <tr style=\"text-align: right;\">\n",
       "      <th></th>\n",
       "      <th>columns_name</th>\n",
       "      <th>score_feature_importance</th>\n",
       "    </tr>\n",
       "  </thead>\n",
       "  <tbody>\n",
       "    <tr>\n",
       "      <th>9</th>\n",
       "      <td>hiv/aids</td>\n",
       "      <td>3.302840</td>\n",
       "    </tr>\n",
       "    <tr>\n",
       "      <th>7</th>\n",
       "      <td>polio</td>\n",
       "      <td>2.769611</td>\n",
       "    </tr>\n",
       "    <tr>\n",
       "      <th>11</th>\n",
       "      <td>income composition of resources</td>\n",
       "      <td>2.615962</td>\n",
       "    </tr>\n",
       "    <tr>\n",
       "      <th>6</th>\n",
       "      <td>bmi</td>\n",
       "      <td>1.664782</td>\n",
       "    </tr>\n",
       "    <tr>\n",
       "      <th>4</th>\n",
       "      <td>hepatitis b</td>\n",
       "      <td>1.117014</td>\n",
       "    </tr>\n",
       "    <tr>\n",
       "      <th>12</th>\n",
       "      <td>schooling</td>\n",
       "      <td>1.009324</td>\n",
       "    </tr>\n",
       "    <tr>\n",
       "      <th>3</th>\n",
       "      <td>percentage expenditure</td>\n",
       "      <td>0.936234</td>\n",
       "    </tr>\n",
       "    <tr>\n",
       "      <th>0</th>\n",
       "      <td>status</td>\n",
       "      <td>0.711110</td>\n",
       "    </tr>\n",
       "    <tr>\n",
       "      <th>8</th>\n",
       "      <td>total expenditure</td>\n",
       "      <td>0.481385</td>\n",
       "    </tr>\n",
       "    <tr>\n",
       "      <th>2</th>\n",
       "      <td>alcohol</td>\n",
       "      <td>0.369812</td>\n",
       "    </tr>\n",
       "    <tr>\n",
       "      <th>1</th>\n",
       "      <td>infant deaths</td>\n",
       "      <td>0.307065</td>\n",
       "    </tr>\n",
       "    <tr>\n",
       "      <th>10</th>\n",
       "      <td>thinness 1-19 years</td>\n",
       "      <td>0.231517</td>\n",
       "    </tr>\n",
       "    <tr>\n",
       "      <th>5</th>\n",
       "      <td>measles</td>\n",
       "      <td>0.180842</td>\n",
       "    </tr>\n",
       "  </tbody>\n",
       "</table>\n",
       "</div>"
      ],
      "text/plain": [
       "                       columns_name  score_feature_importance\n",
       "9                          hiv/aids                  3.302840\n",
       "7                             polio                  2.769611\n",
       "11  income composition of resources                  2.615962\n",
       "6                               bmi                  1.664782\n",
       "4                       hepatitis b                  1.117014\n",
       "12                        schooling                  1.009324\n",
       "3            percentage expenditure                  0.936234\n",
       "0                            status                  0.711110\n",
       "8                 total expenditure                  0.481385\n",
       "2                           alcohol                  0.369812\n",
       "1                     infant deaths                  0.307065\n",
       "10              thinness 1-19 years                  0.231517\n",
       "5                           measles                  0.180842"
      ]
     },
     "execution_count": 286,
     "metadata": {},
     "output_type": "execute_result"
    }
   ],
   "source": [
    "df6 = pd.DataFrame(list(zip(feature_names1, abs(model1.coef_))))\n",
    "df6.columns = ['columns_name', 'score_feature_importance']\n",
    "df6.sort_values(by=['score_feature_importance'], ascending = False)"
   ]
  },
  {
   "cell_type": "code",
   "execution_count": 287,
   "id": "0c90fe38",
   "metadata": {},
   "outputs": [
    {
     "data": {
      "image/png": "[encoded data removed]",
      "text/plain": [
       "<Figure size 640x480 with 1 Axes>"
      ]
     },
     "metadata": {},
     "output_type": "display_data"
    }
   ],
   "source": [
    "plt.bar(x=df6['columns_name'], height=df6['score_feature_importance'], color='#087E8B')\n",
    "plt.title('Feature importances obtained from coefficients', size=20)\n",
    "plt.xticks(rotation='vertical')\n",
    "plt.show()"
   ]
  },
  {
   "cell_type": "markdown",
   "id": "69309a57",
   "metadata": {},
   "source": [
    "# Making prediction (X1, y1)"
   ]
  },
  {
   "cell_type": "code",
   "execution_count": 288,
   "id": "16aac1df",
   "metadata": {},
   "outputs": [],
   "source": [
    "y1_pred=model1.predict(X1_test_scaled)   \n",
    "\n",
    "y1_pred_train=model1.predict(X1_train_scaled)"
   ]
  },
  {
   "cell_type": "markdown",
   "id": "5605438a",
   "metadata": {},
   "source": [
    "# Evaluating model performance (X1, y1)"
   ]
  },
  {
   "cell_type": "code",
   "execution_count": 289,
   "id": "ea616e3d",
   "metadata": {},
   "outputs": [
    {
     "data": {
      "text/plain": [
       "[<matplotlib.lines.Line2D at 0x7fdbe0708070>]"
      ]
     },
     "execution_count": 289,
     "metadata": {},
     "output_type": "execute_result"
    },
    {
     "data": {
      "image/png": "[encoded data removed]",
      "text/plain": [
       "<Figure size 1400x400 with 3 Axes>"
      ]
     },
     "metadata": {},
     "output_type": "display_data"
    }
   ],
   "source": [
    "fig, ax = plt.subplots(1,3,figsize=(14,4))\n",
    "\n",
    "ax[0].plot(y1_pred, y1_test, 'o')\n",
    "ax[0].set_xlabel(\"y_test\")\n",
    "ax[0].set_ylabel(\"y_pred\")\n",
    "ax[0].set_title(\"Test Set - Predicted vs real\")\n",
    " \n",
    "\n",
    "ax[1].hist(y1_test - y1_pred)\n",
    "ax[1].set_xlabel(\"Test y-y_pred\")\n",
    "ax[1].set_title(\"Test Set Residual histogram\")\n",
    "\n",
    "ax[2].plot(y1_pred,y1_test - y1_pred,\"o\")\n",
    "ax[2].set_xlabel(\"predicted\")\n",
    "ax[2].set_ylabel(\"residuals\")\n",
    "ax[2].set_title(\"Residuals by Predicted\")\n",
    "ax[2].plot(y1_pred,np.zeros(len(y1_pred)),linestyle='dashed')"
   ]
  },
  {
   "cell_type": "markdown",
   "id": "578775ec",
   "metadata": {},
   "source": [
    "# Error metrics (X1, y1)"
   ]
  },
  {
   "cell_type": "code",
   "execution_count": 290,
   "id": "fe0b50d6",
   "metadata": {},
   "outputs": [
    {
     "name": "stdout",
     "output_type": "stream",
     "text": [
      "12.369063205026105\n",
      "2.7112650370694182\n"
     ]
    }
   ],
   "source": [
    "print(mse(y1_test,y1_pred))\n",
    "print(mae(y1_test,y1_pred))"
   ]
  },
  {
   "cell_type": "code",
   "execution_count": 291,
   "id": "e0959f63",
   "metadata": {},
   "outputs": [
    {
     "data": {
      "text/plain": [
       "0.7671156394917041"
      ]
     },
     "execution_count": 291,
     "metadata": {},
     "output_type": "execute_result"
    }
   ],
   "source": [
    "R2_1=r2_score(y1_test,y1_pred)\n",
    "R2_1"
   ]
  },
  {
   "cell_type": "markdown",
   "id": "41b28e5e",
   "metadata": {},
   "source": [
    "# Cross validation (X1, y1)"
   ]
  },
  {
   "cell_type": "code",
   "execution_count": 292,
   "id": "e5bffe0b",
   "metadata": {},
   "outputs": [
    {
     "data": {
      "text/plain": [
       "array([0.87961097, 0.78521754, 0.783813  , 0.70549627, 0.85421262])"
      ]
     },
     "execution_count": 292,
     "metadata": {},
     "output_type": "execute_result"
    }
   ],
   "source": [
    "scores1=cross_val_score(model1, X1_train_scaled, y1_train, cv = 5)\n",
    "scores1"
   ]
  },
  {
   "cell_type": "code",
   "execution_count": 293,
   "id": "9ae24973",
   "metadata": {},
   "outputs": [
    {
     "name": "stdout",
     "output_type": "stream",
     "text": [
      "0.80 accuracy with a standard deviation of 0.06\n"
     ]
    }
   ],
   "source": [
    "print(\"%0.2f accuracy with a standard deviation of %0.2f\" % (scores1.mean(), scores1.std()))"
   ]
  },
  {
   "cell_type": "markdown",
   "id": "747486fa",
   "metadata": {},
   "source": [
    "# Defining X2, y2 (RFE)"
   ]
  },
  {
   "cell_type": "code",
   "execution_count": 294,
   "id": "3ef7ca7b",
   "metadata": {},
   "outputs": [],
   "source": [
    "X2 = X1"
   ]
  },
  {
   "cell_type": "code",
   "execution_count": 295,
   "id": "60bc3bfd",
   "metadata": {},
   "outputs": [],
   "source": [
    "y2 = y1"
   ]
  },
  {
   "cell_type": "markdown",
   "id": "4a918fcf",
   "metadata": {},
   "source": [
    "# Data splitting (X2, y2)"
   ]
  },
  {
   "cell_type": "code",
   "execution_count": 296,
   "id": "403e1c2f",
   "metadata": {},
   "outputs": [],
   "source": [
    "X2_train, X2_test, y2_train, y2_test = train_test_split(X2, y2, test_size=0.20, random_state=42)\n",
    "\n",
    "X2_train = pd.DataFrame(X2_train, columns=X2.columns)\n",
    "X2_test  = pd.DataFrame(X2_test, columns=X2.columns)"
   ]
  },
  {
   "cell_type": "markdown",
   "id": "3bfa1914",
   "metadata": {},
   "source": [
    "# Recursive Feature Elimination (X2, y2)"
   ]
  },
  {
   "cell_type": "code",
   "execution_count": 297,
   "id": "8fa058eb",
   "metadata": {},
   "outputs": [
    {
     "name": "stdout",
     "output_type": "stream",
     "text": [
      "Final selected features: \n"
     ]
    },
    {
     "data": {
      "text/html": [
       "<div>\n",
       "<style scoped>\n",
       "    .dataframe tbody tr th:only-of-type {\n",
       "        vertical-align: middle;\n",
       "    }\n",
       "\n",
       "    .dataframe tbody tr th {\n",
       "        vertical-align: top;\n",
       "    }\n",
       "\n",
       "    .dataframe thead th {\n",
       "        text-align: right;\n",
       "    }\n",
       "</style>\n",
       "<table border=\"1\" class=\"dataframe\">\n",
       "  <thead>\n",
       "    <tr style=\"text-align: right;\">\n",
       "      <th></th>\n",
       "      <th>status</th>\n",
       "      <th>infant deaths</th>\n",
       "      <th>alcohol</th>\n",
       "      <th>percentage expenditure</th>\n",
       "      <th>hepatitis b</th>\n",
       "      <th>measles</th>\n",
       "      <th>bmi</th>\n",
       "      <th>polio</th>\n",
       "      <th>total expenditure</th>\n",
       "      <th>hiv/aids</th>\n",
       "      <th>thinness 1-19 years</th>\n",
       "      <th>income composition of resources</th>\n",
       "      <th>schooling</th>\n",
       "    </tr>\n",
       "  </thead>\n",
       "  <tbody>\n",
       "    <tr>\n",
       "      <th>0</th>\n",
       "      <td>0.0</td>\n",
       "      <td>2.8750</td>\n",
       "      <td>6.835312</td>\n",
       "      <td>3923.050329</td>\n",
       "      <td>92.0000</td>\n",
       "      <td>6875.8125</td>\n",
       "      <td>25.60625</td>\n",
       "      <td>96.0000</td>\n",
       "      <td>6.427812</td>\n",
       "      <td>0.10000</td>\n",
       "      <td>1.81250</td>\n",
       "      <td>0.876563</td>\n",
       "      <td>14.97500</td>\n",
       "    </tr>\n",
       "    <tr>\n",
       "      <th>1</th>\n",
       "      <td>1.0</td>\n",
       "      <td>1.0000</td>\n",
       "      <td>9.183438</td>\n",
       "      <td>0.000000</td>\n",
       "      <td>95.0000</td>\n",
       "      <td>390.8750</td>\n",
       "      <td>43.90625</td>\n",
       "      <td>94.9375</td>\n",
       "      <td>6.881563</td>\n",
       "      <td>0.10000</td>\n",
       "      <td>3.02500</td>\n",
       "      <td>0.677000</td>\n",
       "      <td>12.30000</td>\n",
       "    </tr>\n",
       "    <tr>\n",
       "      <th>2</th>\n",
       "      <td>1.0</td>\n",
       "      <td>64.6250</td>\n",
       "      <td>1.601562</td>\n",
       "      <td>97.698443</td>\n",
       "      <td>78.5000</td>\n",
       "      <td>3108.0000</td>\n",
       "      <td>43.50000</td>\n",
       "      <td>72.2500</td>\n",
       "      <td>5.699063</td>\n",
       "      <td>0.25000</td>\n",
       "      <td>3.30000</td>\n",
       "      <td>0.441000</td>\n",
       "      <td>6.37500</td>\n",
       "    </tr>\n",
       "    <tr>\n",
       "      <th>3</th>\n",
       "      <td>1.0</td>\n",
       "      <td>13.8750</td>\n",
       "      <td>4.377813</td>\n",
       "      <td>516.640179</td>\n",
       "      <td>79.0000</td>\n",
       "      <td>9.5000</td>\n",
       "      <td>49.54375</td>\n",
       "      <td>84.2500</td>\n",
       "      <td>6.303438</td>\n",
       "      <td>0.10000</td>\n",
       "      <td>2.30000</td>\n",
       "      <td>0.681875</td>\n",
       "      <td>12.23125</td>\n",
       "    </tr>\n",
       "    <tr>\n",
       "      <th>4</th>\n",
       "      <td>0.0</td>\n",
       "      <td>2.2500</td>\n",
       "      <td>9.608438</td>\n",
       "      <td>310.682268</td>\n",
       "      <td>97.3750</td>\n",
       "      <td>47.4375</td>\n",
       "      <td>53.73125</td>\n",
       "      <td>96.7500</td>\n",
       "      <td>6.340313</td>\n",
       "      <td>0.10000</td>\n",
       "      <td>2.20625</td>\n",
       "      <td>0.813187</td>\n",
       "      <td>15.25000</td>\n",
       "    </tr>\n",
       "    <tr>\n",
       "      <th>...</th>\n",
       "      <td>...</td>\n",
       "      <td>...</td>\n",
       "      <td>...</td>\n",
       "      <td>...</td>\n",
       "      <td>...</td>\n",
       "      <td>...</td>\n",
       "      <td>...</td>\n",
       "      <td>...</td>\n",
       "      <td>...</td>\n",
       "      <td>...</td>\n",
       "      <td>...</td>\n",
       "      <td>...</td>\n",
       "      <td>...</td>\n",
       "    </tr>\n",
       "    <tr>\n",
       "      <th>148</th>\n",
       "      <td>1.0</td>\n",
       "      <td>0.0000</td>\n",
       "      <td>2.959687</td>\n",
       "      <td>422.239524</td>\n",
       "      <td>96.1875</td>\n",
       "      <td>54.3125</td>\n",
       "      <td>25.98125</td>\n",
       "      <td>96.5000</td>\n",
       "      <td>4.601562</td>\n",
       "      <td>0.10625</td>\n",
       "      <td>7.46875</td>\n",
       "      <td>0.722625</td>\n",
       "      <td>13.53125</td>\n",
       "    </tr>\n",
       "    <tr>\n",
       "      <th>149</th>\n",
       "      <td>1.0</td>\n",
       "      <td>0.5625</td>\n",
       "      <td>12.888438</td>\n",
       "      <td>329.046455</td>\n",
       "      <td>88.9375</td>\n",
       "      <td>24.8125</td>\n",
       "      <td>54.74375</td>\n",
       "      <td>89.8750</td>\n",
       "      <td>6.164688</td>\n",
       "      <td>0.10000</td>\n",
       "      <td>2.21250</td>\n",
       "      <td>0.743250</td>\n",
       "      <td>14.75000</td>\n",
       "    </tr>\n",
       "    <tr>\n",
       "      <th>150</th>\n",
       "      <td>1.0</td>\n",
       "      <td>4.5000</td>\n",
       "      <td>2.190937</td>\n",
       "      <td>82.118913</td>\n",
       "      <td>76.7500</td>\n",
       "      <td>266.6875</td>\n",
       "      <td>25.23750</td>\n",
       "      <td>67.9375</td>\n",
       "      <td>7.491562</td>\n",
       "      <td>22.96875</td>\n",
       "      <td>7.18750</td>\n",
       "      <td>0.456813</td>\n",
       "      <td>10.65625</td>\n",
       "    </tr>\n",
       "    <tr>\n",
       "      <th>151</th>\n",
       "      <td>1.0</td>\n",
       "      <td>89.6875</td>\n",
       "      <td>7.782188</td>\n",
       "      <td>47.692108</td>\n",
       "      <td>67.0000</td>\n",
       "      <td>12394.6250</td>\n",
       "      <td>15.52500</td>\n",
       "      <td>65.4375</td>\n",
       "      <td>8.367812</td>\n",
       "      <td>7.65000</td>\n",
       "      <td>6.26250</td>\n",
       "      <td>0.445312</td>\n",
       "      <td>10.59375</td>\n",
       "    </tr>\n",
       "    <tr>\n",
       "      <th>152</th>\n",
       "      <td>1.0</td>\n",
       "      <td>55.9375</td>\n",
       "      <td>0.645312</td>\n",
       "      <td>48.981177</td>\n",
       "      <td>71.8125</td>\n",
       "      <td>823.3125</td>\n",
       "      <td>17.21250</td>\n",
       "      <td>62.5000</td>\n",
       "      <td>6.474687</td>\n",
       "      <td>1.82500</td>\n",
       "      <td>7.07500</td>\n",
       "      <td>0.365187</td>\n",
       "      <td>6.43125</td>\n",
       "    </tr>\n",
       "  </tbody>\n",
       "</table>\n",
       "<p>153 rows × 13 columns</p>\n",
       "</div>"
      ],
      "text/plain": [
       "     status  infant deaths    alcohol  percentage expenditure  hepatitis b  \\\n",
       "0       0.0         2.8750   6.835312             3923.050329      92.0000   \n",
       "1       1.0         1.0000   9.183438                0.000000      95.0000   \n",
       "2       1.0        64.6250   1.601562               97.698443      78.5000   \n",
       "3       1.0        13.8750   4.377813              516.640179      79.0000   \n",
       "4       0.0         2.2500   9.608438              310.682268      97.3750   \n",
       "..      ...            ...        ...                     ...          ...   \n",
       "148     1.0         0.0000   2.959687              422.239524      96.1875   \n",
       "149     1.0         0.5625  12.888438              329.046455      88.9375   \n",
       "150     1.0         4.5000   2.190937               82.118913      76.7500   \n",
       "151     1.0        89.6875   7.782188               47.692108      67.0000   \n",
       "152     1.0        55.9375   0.645312               48.981177      71.8125   \n",
       "\n",
       "        measles       bmi    polio  total expenditure  hiv/aids  \\\n",
       "0     6875.8125  25.60625  96.0000           6.427812   0.10000   \n",
       "1      390.8750  43.90625  94.9375           6.881563   0.10000   \n",
       "2     3108.0000  43.50000  72.2500           5.699063   0.25000   \n",
       "3        9.5000  49.54375  84.2500           6.303438   0.10000   \n",
       "4       47.4375  53.73125  96.7500           6.340313   0.10000   \n",
       "..          ...       ...      ...                ...       ...   \n",
       "148     54.3125  25.98125  96.5000           4.601562   0.10625   \n",
       "149     24.8125  54.74375  89.8750           6.164688   0.10000   \n",
       "150    266.6875  25.23750  67.9375           7.491562  22.96875   \n",
       "151  12394.6250  15.52500  65.4375           8.367812   7.65000   \n",
       "152    823.3125  17.21250  62.5000           6.474687   1.82500   \n",
       "\n",
       "     thinness 1-19 years  income composition of resources  schooling  \n",
       "0                1.81250                         0.876563   14.97500  \n",
       "1                3.02500                         0.677000   12.30000  \n",
       "2                3.30000                         0.441000    6.37500  \n",
       "3                2.30000                         0.681875   12.23125  \n",
       "4                2.20625                         0.813187   15.25000  \n",
       "..                   ...                              ...        ...  \n",
       "148              7.46875                         0.722625   13.53125  \n",
       "149              2.21250                         0.743250   14.75000  \n",
       "150              7.18750                         0.456813   10.65625  \n",
       "151              6.26250                         0.445312   10.59375  \n",
       "152              7.07500                         0.365187    6.43125  \n",
       "\n",
       "[153 rows x 13 columns]"
      ]
     },
     "metadata": {},
     "output_type": "display_data"
    }
   ],
   "source": [
    "lm = LinearRegression()\n",
    "\n",
    "selector = RFE(lm, n_features_to_select= 17, step = 1, verbose = 1)\n",
    "selector.fit(X2_train, y2_train)\n",
    "\n",
    "kept_features = selector.get_support(indices = True) \n",
    "kept_features = list(X2_train.iloc[:,kept_features].columns)\n",
    "\n",
    "X2_train_RFE = selector.transform(X2_train)\n",
    "X2_test_RFE  = selector.transform(X2_test)\n",
    "\n",
    "X2_train_RFE = pd.DataFrame(X2_train_RFE, columns=kept_features)\n",
    "X2_test_RFE  = pd.DataFrame(X2_test_RFE, columns=kept_features)\n",
    "\n",
    "print(\"Final selected features: \")\n",
    "display(X2_train_RFE)"
   ]
  },
  {
   "cell_type": "markdown",
   "id": "ca25b0e9",
   "metadata": {},
   "source": [
    "# Standardizing Data (X2, y2)"
   ]
  },
  {
   "cell_type": "code",
   "execution_count": 298,
   "id": "624d9385",
   "metadata": {},
   "outputs": [],
   "source": [
    "std_scaler=StandardScaler().fit(X2_train_RFE)   \n",
    "\n",
    "X2_train_scaled=std_scaler.transform(X2_train_RFE)\n"
   ]
  },
  {
   "cell_type": "code",
   "execution_count": 299,
   "id": "fde7a1ab",
   "metadata": {},
   "outputs": [],
   "source": [
    "X2_test_scaled=std_scaler.transform(X2_test_RFE)"
   ]
  },
  {
   "cell_type": "markdown",
   "id": "b0a6fb51",
   "metadata": {},
   "source": [
    "# Fitting model (Linear Regression, X2, y2, RFE)"
   ]
  },
  {
   "cell_type": "code",
   "execution_count": 300,
   "id": "6327cfb7",
   "metadata": {},
   "outputs": [
    {
     "data": {
      "text/html": [
       "<style>#sk-container-id-10 {color: black;background-color: white;}#sk-container-id-10 pre{padding: 0;}#sk-container-id-10 div.sk-toggleable {background-color: white;}#sk-container-id-10 label.sk-toggleable__label {cursor: pointer;display: block;width: 100%;margin-bottom: 0;padding: 0.3em;box-sizing: border-box;text-align: center;}#sk-container-id-10 label.sk-toggleable__label-arrow:before {content: \"▸\";float: left;margin-right: 0.25em;color: #696969;}#sk-container-id-10 label.sk-toggleable__label-arrow:hover:before {color: black;}#sk-container-id-10 div.sk-estimator:hover label.sk-toggleable__label-arrow:before {color: black;}#sk-container-id-10 div.sk-toggleable__content {max-height: 0;max-width: 0;overflow: hidden;text-align: left;background-color: #f0f8ff;}#sk-container-id-10 div.sk-toggleable__content pre {margin: 0.2em;color: black;border-radius: 0.25em;background-color: #f0f8ff;}#sk-container-id-10 input.sk-toggleable__control:checked~div.sk-toggleable__content {max-height: 200px;max-width: 100%;overflow: auto;}#sk-container-id-10 input.sk-toggleable__control:checked~label.sk-toggleable__label-arrow:before {content: \"▾\";}#sk-container-id-10 div.sk-estimator input.sk-toggleable__control:checked~label.sk-toggleable__label {background-color: #d4ebff;}#sk-container-id-10 div.sk-label input.sk-toggleable__control:checked~label.sk-toggleable__label {background-color: #d4ebff;}#sk-container-id-10 input.sk-hidden--visually {border: 0;clip: rect(1px 1px 1px 1px);clip: rect(1px, 1px, 1px, 1px);height: 1px;margin: -1px;overflow: hidden;padding: 0;position: absolute;width: 1px;}#sk-container-id-10 div.sk-estimator {font-family: monospace;background-color: #f0f8ff;border: 1px dotted black;border-radius: 0.25em;box-sizing: border-box;margin-bottom: 0.5em;}#sk-container-id-10 div.sk-estimator:hover {background-color: #d4ebff;}#sk-container-id-10 div.sk-parallel-item::after {content: \"\";width: 100%;border-bottom: 1px solid gray;flex-grow: 1;}#sk-container-id-10 div.sk-label:hover label.sk-toggleable__label {background-color: #d4ebff;}#sk-container-id-10 div.sk-serial::before {content: \"\";position: absolute;border-left: 1px solid gray;box-sizing: border-box;top: 0;bottom: 0;left: 50%;z-index: 0;}#sk-container-id-10 div.sk-serial {display: flex;flex-direction: column;align-items: center;background-color: white;padding-right: 0.2em;padding-left: 0.2em;position: relative;}#sk-container-id-10 div.sk-item {position: relative;z-index: 1;}#sk-container-id-10 div.sk-parallel {display: flex;align-items: stretch;justify-content: center;background-color: white;position: relative;}#sk-container-id-10 div.sk-item::before, #sk-container-id-10 div.sk-parallel-item::before {content: \"\";position: absolute;border-left: 1px solid gray;box-sizing: border-box;top: 0;bottom: 0;left: 50%;z-index: -1;}#sk-container-id-10 div.sk-parallel-item {display: flex;flex-direction: column;z-index: 1;position: relative;background-color: white;}#sk-container-id-10 div.sk-parallel-item:first-child::after {align-self: flex-end;width: 50%;}#sk-container-id-10 div.sk-parallel-item:last-child::after {align-self: flex-start;width: 50%;}#sk-container-id-10 div.sk-parallel-item:only-child::after {width: 0;}#sk-container-id-10 div.sk-dashed-wrapped {border: 1px dashed gray;margin: 0 0.4em 0.5em 0.4em;box-sizing: border-box;padding-bottom: 0.4em;background-color: white;}#sk-container-id-10 div.sk-label label {font-family: monospace;font-weight: bold;display: inline-block;line-height: 1.2em;}#sk-container-id-10 div.sk-label-container {text-align: center;}#sk-container-id-10 div.sk-container {/* jupyter's `normalize.less` sets `[hidden] { display: none; }` but bootstrap.min.css set `[hidden] { display: none !important; }` so we also need the `!important` here to be able to override the default hidden behavior on the sphinx rendered scikit-learn.org. See: https://github.com/scikit-learn/scikit-learn/issues/21755 */display: inline-block !important;position: relative;}#sk-container-id-10 div.sk-text-repr-fallback {display: none;}</style><div id=\"sk-container-id-10\" class=\"sk-top-container\"><div class=\"sk-text-repr-fallback\"><pre>LinearRegression()</pre><b>In a Jupyter environment, please rerun this cell to show the HTML representation or trust the notebook. <br />On GitHub, the HTML representation is unable to render, please try loading this page with nbviewer.org.</b></div><div class=\"sk-container\" hidden><div class=\"sk-item\"><div class=\"sk-estimator sk-toggleable\"><input class=\"sk-toggleable__control sk-hidden--visually\" id=\"sk-estimator-id-10\" type=\"checkbox\" checked><label for=\"sk-estimator-id-10\" class=\"sk-toggleable__label sk-toggleable__label-arrow\">LinearRegression</label><div class=\"sk-toggleable__content\"><pre>LinearRegression()</pre></div></div></div></div></div>"
      ],
      "text/plain": [
       "LinearRegression()"
      ]
     },
     "execution_count": 300,
     "metadata": {},
     "output_type": "execute_result"
    }
   ],
   "source": [
    "model2=LinearRegression()    \n",
    "model2.fit(X2_train_scaled, y2_train)"
   ]
  },
  {
   "cell_type": "markdown",
   "id": "4b3df4b5",
   "metadata": {},
   "source": [
    "# Feature importance (Linear Regression, X2, y2, RFE)\n"
   ]
  },
  {
   "cell_type": "code",
   "execution_count": 301,
   "id": "673fb7d9",
   "metadata": {},
   "outputs": [],
   "source": [
    "feature_names2 = X2_train.columns\n",
    "feature_names2 = list(feature_names2)"
   ]
  },
  {
   "cell_type": "code",
   "execution_count": 302,
   "id": "e69cb93b",
   "metadata": {},
   "outputs": [
    {
     "data": {
      "text/html": [
       "<div>\n",
       "<style scoped>\n",
       "    .dataframe tbody tr th:only-of-type {\n",
       "        vertical-align: middle;\n",
       "    }\n",
       "\n",
       "    .dataframe tbody tr th {\n",
       "        vertical-align: top;\n",
       "    }\n",
       "\n",
       "    .dataframe thead th {\n",
       "        text-align: right;\n",
       "    }\n",
       "</style>\n",
       "<table border=\"1\" class=\"dataframe\">\n",
       "  <thead>\n",
       "    <tr style=\"text-align: right;\">\n",
       "      <th></th>\n",
       "      <th>columns_name</th>\n",
       "      <th>score_feature_importance</th>\n",
       "    </tr>\n",
       "  </thead>\n",
       "  <tbody>\n",
       "    <tr>\n",
       "      <th>7</th>\n",
       "      <td>polio</td>\n",
       "      <td>2.769611</td>\n",
       "    </tr>\n",
       "    <tr>\n",
       "      <th>11</th>\n",
       "      <td>income composition of resources</td>\n",
       "      <td>2.615962</td>\n",
       "    </tr>\n",
       "    <tr>\n",
       "      <th>6</th>\n",
       "      <td>bmi</td>\n",
       "      <td>1.664782</td>\n",
       "    </tr>\n",
       "    <tr>\n",
       "      <th>12</th>\n",
       "      <td>schooling</td>\n",
       "      <td>1.009324</td>\n",
       "    </tr>\n",
       "    <tr>\n",
       "      <th>3</th>\n",
       "      <td>percentage expenditure</td>\n",
       "      <td>0.936234</td>\n",
       "    </tr>\n",
       "    <tr>\n",
       "      <th>8</th>\n",
       "      <td>total expenditure</td>\n",
       "      <td>0.481385</td>\n",
       "    </tr>\n",
       "    <tr>\n",
       "      <th>10</th>\n",
       "      <td>thinness 1-19 years</td>\n",
       "      <td>0.231517</td>\n",
       "    </tr>\n",
       "    <tr>\n",
       "      <th>5</th>\n",
       "      <td>measles</td>\n",
       "      <td>0.180842</td>\n",
       "    </tr>\n",
       "    <tr>\n",
       "      <th>1</th>\n",
       "      <td>infant deaths</td>\n",
       "      <td>-0.307065</td>\n",
       "    </tr>\n",
       "    <tr>\n",
       "      <th>2</th>\n",
       "      <td>alcohol</td>\n",
       "      <td>-0.369812</td>\n",
       "    </tr>\n",
       "    <tr>\n",
       "      <th>0</th>\n",
       "      <td>status</td>\n",
       "      <td>-0.711110</td>\n",
       "    </tr>\n",
       "    <tr>\n",
       "      <th>4</th>\n",
       "      <td>hepatitis b</td>\n",
       "      <td>-1.117014</td>\n",
       "    </tr>\n",
       "    <tr>\n",
       "      <th>9</th>\n",
       "      <td>hiv/aids</td>\n",
       "      <td>-3.302840</td>\n",
       "    </tr>\n",
       "  </tbody>\n",
       "</table>\n",
       "</div>"
      ],
      "text/plain": [
       "                       columns_name  score_feature_importance\n",
       "7                             polio                  2.769611\n",
       "11  income composition of resources                  2.615962\n",
       "6                               bmi                  1.664782\n",
       "12                        schooling                  1.009324\n",
       "3            percentage expenditure                  0.936234\n",
       "8                 total expenditure                  0.481385\n",
       "10              thinness 1-19 years                  0.231517\n",
       "5                           measles                  0.180842\n",
       "1                     infant deaths                 -0.307065\n",
       "2                           alcohol                 -0.369812\n",
       "0                            status                 -0.711110\n",
       "4                       hepatitis b                 -1.117014\n",
       "9                          hiv/aids                 -3.302840"
      ]
     },
     "execution_count": 302,
     "metadata": {},
     "output_type": "execute_result"
    }
   ],
   "source": [
    "df2 = pd.DataFrame(list(zip(feature_names2, model2.coef_)))\n",
    "df2.columns = ['columns_name', 'score_feature_importance']\n",
    "df2.sort_values(by=['score_feature_importance'], ascending = False)"
   ]
  },
  {
   "cell_type": "markdown",
   "id": "53c6352b",
   "metadata": {},
   "source": [
    "# Making prediction (X2, y2)"
   ]
  },
  {
   "cell_type": "code",
   "execution_count": 303,
   "id": "cd206b0c",
   "metadata": {},
   "outputs": [],
   "source": [
    "y2_pred=model2.predict(X2_test_scaled)   \n",
    "\n",
    "y2_pred_train=model2.predict(X2_train_scaled)"
   ]
  },
  {
   "cell_type": "markdown",
   "id": "eb8f7108",
   "metadata": {},
   "source": [
    "# Evaluating model performance (X2, y2)"
   ]
  },
  {
   "cell_type": "code",
   "execution_count": 304,
   "id": "0bda3b02",
   "metadata": {},
   "outputs": [
    {
     "data": {
      "text/plain": [
       "[<matplotlib.lines.Line2D at 0x7fdbe0bd3670>]"
      ]
     },
     "execution_count": 304,
     "metadata": {},
     "output_type": "execute_result"
    },
    {
     "data": {
      "image/png": "[encoded data removed]",
      "text/plain": [
       "<Figure size 1400x400 with 3 Axes>"
      ]
     },
     "metadata": {},
     "output_type": "display_data"
    }
   ],
   "source": [
    "fig, ax = plt.subplots(1,3,figsize=(14,4))\n",
    "\n",
    "ax[0].plot(y2_pred, y2_test, 'o')\n",
    "ax[0].set_xlabel(\"y_test\")\n",
    "ax[0].set_ylabel(\"y_pred\")\n",
    "ax[0].set_title(\"Test Set - Predicted vs real\")\n",
    " \n",
    "\n",
    "ax[1].hist(y2_test - y2_pred)\n",
    "ax[1].set_xlabel(\"Test y-y_pred\")\n",
    "ax[1].set_title(\"Test Set Residual histogram\")\n",
    "\n",
    "ax[2].plot(y2_pred,y2_test - y2_pred,\"o\")\n",
    "ax[2].set_xlabel(\"predicted\")\n",
    "ax[2].set_ylabel(\"residuals\")\n",
    "ax[2].set_title(\"Residuals by Predicted\")\n",
    "ax[2].plot(y2_pred,np.zeros(len(y2_pred)),linestyle='dashed')"
   ]
  },
  {
   "cell_type": "markdown",
   "id": "18643b9b",
   "metadata": {},
   "source": [
    "# Error metrics (X2, y2)"
   ]
  },
  {
   "cell_type": "code",
   "execution_count": 305,
   "id": "0ed79201",
   "metadata": {},
   "outputs": [
    {
     "name": "stdout",
     "output_type": "stream",
     "text": [
      "12.369063205026105\n",
      "2.7112650370694182\n"
     ]
    }
   ],
   "source": [
    "print(mse(y2_test,y2_pred))\n",
    "print(mae(y2_test,y2_pred))"
   ]
  },
  {
   "cell_type": "code",
   "execution_count": 306,
   "id": "6366e162",
   "metadata": {},
   "outputs": [
    {
     "data": {
      "text/plain": [
       "0.7671156394917041"
      ]
     },
     "execution_count": 306,
     "metadata": {},
     "output_type": "execute_result"
    }
   ],
   "source": [
    "R2_2=r2_score(y2_test,y2_pred)\n",
    "R2_2"
   ]
  },
  {
   "cell_type": "markdown",
   "id": "187a744a",
   "metadata": {},
   "source": [
    "# Cross validation (X2, y2)"
   ]
  },
  {
   "cell_type": "code",
   "execution_count": 307,
   "id": "3517bc94",
   "metadata": {},
   "outputs": [
    {
     "data": {
      "text/plain": [
       "array([0.87961097, 0.78521754, 0.783813  , 0.70549627, 0.85421262])"
      ]
     },
     "execution_count": 307,
     "metadata": {},
     "output_type": "execute_result"
    }
   ],
   "source": [
    "scores2=cross_val_score(model2, X2_train, y2_train, cv = 5)\n",
    "scores2"
   ]
  },
  {
   "cell_type": "code",
   "execution_count": 308,
   "id": "9aef9121",
   "metadata": {},
   "outputs": [
    {
     "name": "stdout",
     "output_type": "stream",
     "text": [
      "0.80 accuracy with a standard deviation of 0.06\n"
     ]
    }
   ],
   "source": [
    "print(\"%0.2f accuracy with a standard deviation of %0.2f\" % (scores2.mean(), scores2.std()))"
   ]
  },
  {
   "cell_type": "markdown",
   "id": "8e399264",
   "metadata": {},
   "source": [
    "# Defining X3, y3 (KNN Regression)"
   ]
  },
  {
   "cell_type": "code",
   "execution_count": 309,
   "id": "74bc9eae",
   "metadata": {},
   "outputs": [],
   "source": [
    "X3 = X2"
   ]
  },
  {
   "cell_type": "code",
   "execution_count": 310,
   "id": "96816f0f",
   "metadata": {},
   "outputs": [],
   "source": [
    "y3 = y2"
   ]
  },
  {
   "cell_type": "markdown",
   "id": "0d2150b4",
   "metadata": {},
   "source": [
    "# Data splitting (X3, y3)"
   ]
  },
  {
   "cell_type": "code",
   "execution_count": 311,
   "id": "394d7a8c",
   "metadata": {},
   "outputs": [],
   "source": [
    "X3_train, X3_test, y3_train, y3_test = train_test_split(X3, y3, test_size=0.20, random_state=42)\n",
    "\n",
    "X3_train = pd.DataFrame(X3_train, columns=X3.columns)\n",
    "X3_test  = pd.DataFrame(X3_test, columns=X3.columns)"
   ]
  },
  {
   "cell_type": "markdown",
   "id": "94c699e1",
   "metadata": {},
   "source": [
    "# Recursive Feature Elimination (X3, y3)"
   ]
  },
  {
   "cell_type": "code",
   "execution_count": 312,
   "id": "78a7951e",
   "metadata": {},
   "outputs": [
    {
     "name": "stdout",
     "output_type": "stream",
     "text": [
      "Final selected features: \n"
     ]
    },
    {
     "data": {
      "text/html": [
       "<div>\n",
       "<style scoped>\n",
       "    .dataframe tbody tr th:only-of-type {\n",
       "        vertical-align: middle;\n",
       "    }\n",
       "\n",
       "    .dataframe tbody tr th {\n",
       "        vertical-align: top;\n",
       "    }\n",
       "\n",
       "    .dataframe thead th {\n",
       "        text-align: right;\n",
       "    }\n",
       "</style>\n",
       "<table border=\"1\" class=\"dataframe\">\n",
       "  <thead>\n",
       "    <tr style=\"text-align: right;\">\n",
       "      <th></th>\n",
       "      <th>status</th>\n",
       "      <th>infant deaths</th>\n",
       "      <th>alcohol</th>\n",
       "      <th>percentage expenditure</th>\n",
       "      <th>hepatitis b</th>\n",
       "      <th>measles</th>\n",
       "      <th>bmi</th>\n",
       "      <th>polio</th>\n",
       "      <th>total expenditure</th>\n",
       "      <th>hiv/aids</th>\n",
       "      <th>thinness 1-19 years</th>\n",
       "      <th>income composition of resources</th>\n",
       "      <th>schooling</th>\n",
       "    </tr>\n",
       "  </thead>\n",
       "  <tbody>\n",
       "    <tr>\n",
       "      <th>0</th>\n",
       "      <td>0.0</td>\n",
       "      <td>2.8750</td>\n",
       "      <td>6.835312</td>\n",
       "      <td>3923.050329</td>\n",
       "      <td>92.0000</td>\n",
       "      <td>6875.8125</td>\n",
       "      <td>25.60625</td>\n",
       "      <td>96.0000</td>\n",
       "      <td>6.427812</td>\n",
       "      <td>0.10000</td>\n",
       "      <td>1.81250</td>\n",
       "      <td>0.876563</td>\n",
       "      <td>14.97500</td>\n",
       "    </tr>\n",
       "    <tr>\n",
       "      <th>1</th>\n",
       "      <td>1.0</td>\n",
       "      <td>1.0000</td>\n",
       "      <td>9.183438</td>\n",
       "      <td>0.000000</td>\n",
       "      <td>95.0000</td>\n",
       "      <td>390.8750</td>\n",
       "      <td>43.90625</td>\n",
       "      <td>94.9375</td>\n",
       "      <td>6.881563</td>\n",
       "      <td>0.10000</td>\n",
       "      <td>3.02500</td>\n",
       "      <td>0.677000</td>\n",
       "      <td>12.30000</td>\n",
       "    </tr>\n",
       "    <tr>\n",
       "      <th>2</th>\n",
       "      <td>1.0</td>\n",
       "      <td>64.6250</td>\n",
       "      <td>1.601562</td>\n",
       "      <td>97.698443</td>\n",
       "      <td>78.5000</td>\n",
       "      <td>3108.0000</td>\n",
       "      <td>43.50000</td>\n",
       "      <td>72.2500</td>\n",
       "      <td>5.699063</td>\n",
       "      <td>0.25000</td>\n",
       "      <td>3.30000</td>\n",
       "      <td>0.441000</td>\n",
       "      <td>6.37500</td>\n",
       "    </tr>\n",
       "    <tr>\n",
       "      <th>3</th>\n",
       "      <td>1.0</td>\n",
       "      <td>13.8750</td>\n",
       "      <td>4.377813</td>\n",
       "      <td>516.640179</td>\n",
       "      <td>79.0000</td>\n",
       "      <td>9.5000</td>\n",
       "      <td>49.54375</td>\n",
       "      <td>84.2500</td>\n",
       "      <td>6.303438</td>\n",
       "      <td>0.10000</td>\n",
       "      <td>2.30000</td>\n",
       "      <td>0.681875</td>\n",
       "      <td>12.23125</td>\n",
       "    </tr>\n",
       "    <tr>\n",
       "      <th>4</th>\n",
       "      <td>0.0</td>\n",
       "      <td>2.2500</td>\n",
       "      <td>9.608438</td>\n",
       "      <td>310.682268</td>\n",
       "      <td>97.3750</td>\n",
       "      <td>47.4375</td>\n",
       "      <td>53.73125</td>\n",
       "      <td>96.7500</td>\n",
       "      <td>6.340313</td>\n",
       "      <td>0.10000</td>\n",
       "      <td>2.20625</td>\n",
       "      <td>0.813187</td>\n",
       "      <td>15.25000</td>\n",
       "    </tr>\n",
       "    <tr>\n",
       "      <th>...</th>\n",
       "      <td>...</td>\n",
       "      <td>...</td>\n",
       "      <td>...</td>\n",
       "      <td>...</td>\n",
       "      <td>...</td>\n",
       "      <td>...</td>\n",
       "      <td>...</td>\n",
       "      <td>...</td>\n",
       "      <td>...</td>\n",
       "      <td>...</td>\n",
       "      <td>...</td>\n",
       "      <td>...</td>\n",
       "      <td>...</td>\n",
       "    </tr>\n",
       "    <tr>\n",
       "      <th>148</th>\n",
       "      <td>1.0</td>\n",
       "      <td>0.0000</td>\n",
       "      <td>2.959687</td>\n",
       "      <td>422.239524</td>\n",
       "      <td>96.1875</td>\n",
       "      <td>54.3125</td>\n",
       "      <td>25.98125</td>\n",
       "      <td>96.5000</td>\n",
       "      <td>4.601562</td>\n",
       "      <td>0.10625</td>\n",
       "      <td>7.46875</td>\n",
       "      <td>0.722625</td>\n",
       "      <td>13.53125</td>\n",
       "    </tr>\n",
       "    <tr>\n",
       "      <th>149</th>\n",
       "      <td>1.0</td>\n",
       "      <td>0.5625</td>\n",
       "      <td>12.888438</td>\n",
       "      <td>329.046455</td>\n",
       "      <td>88.9375</td>\n",
       "      <td>24.8125</td>\n",
       "      <td>54.74375</td>\n",
       "      <td>89.8750</td>\n",
       "      <td>6.164688</td>\n",
       "      <td>0.10000</td>\n",
       "      <td>2.21250</td>\n",
       "      <td>0.743250</td>\n",
       "      <td>14.75000</td>\n",
       "    </tr>\n",
       "    <tr>\n",
       "      <th>150</th>\n",
       "      <td>1.0</td>\n",
       "      <td>4.5000</td>\n",
       "      <td>2.190937</td>\n",
       "      <td>82.118913</td>\n",
       "      <td>76.7500</td>\n",
       "      <td>266.6875</td>\n",
       "      <td>25.23750</td>\n",
       "      <td>67.9375</td>\n",
       "      <td>7.491562</td>\n",
       "      <td>22.96875</td>\n",
       "      <td>7.18750</td>\n",
       "      <td>0.456813</td>\n",
       "      <td>10.65625</td>\n",
       "    </tr>\n",
       "    <tr>\n",
       "      <th>151</th>\n",
       "      <td>1.0</td>\n",
       "      <td>89.6875</td>\n",
       "      <td>7.782188</td>\n",
       "      <td>47.692108</td>\n",
       "      <td>67.0000</td>\n",
       "      <td>12394.6250</td>\n",
       "      <td>15.52500</td>\n",
       "      <td>65.4375</td>\n",
       "      <td>8.367812</td>\n",
       "      <td>7.65000</td>\n",
       "      <td>6.26250</td>\n",
       "      <td>0.445312</td>\n",
       "      <td>10.59375</td>\n",
       "    </tr>\n",
       "    <tr>\n",
       "      <th>152</th>\n",
       "      <td>1.0</td>\n",
       "      <td>55.9375</td>\n",
       "      <td>0.645312</td>\n",
       "      <td>48.981177</td>\n",
       "      <td>71.8125</td>\n",
       "      <td>823.3125</td>\n",
       "      <td>17.21250</td>\n",
       "      <td>62.5000</td>\n",
       "      <td>6.474687</td>\n",
       "      <td>1.82500</td>\n",
       "      <td>7.07500</td>\n",
       "      <td>0.365187</td>\n",
       "      <td>6.43125</td>\n",
       "    </tr>\n",
       "  </tbody>\n",
       "</table>\n",
       "<p>153 rows × 13 columns</p>\n",
       "</div>"
      ],
      "text/plain": [
       "     status  infant deaths    alcohol  percentage expenditure  hepatitis b  \\\n",
       "0       0.0         2.8750   6.835312             3923.050329      92.0000   \n",
       "1       1.0         1.0000   9.183438                0.000000      95.0000   \n",
       "2       1.0        64.6250   1.601562               97.698443      78.5000   \n",
       "3       1.0        13.8750   4.377813              516.640179      79.0000   \n",
       "4       0.0         2.2500   9.608438              310.682268      97.3750   \n",
       "..      ...            ...        ...                     ...          ...   \n",
       "148     1.0         0.0000   2.959687              422.239524      96.1875   \n",
       "149     1.0         0.5625  12.888438              329.046455      88.9375   \n",
       "150     1.0         4.5000   2.190937               82.118913      76.7500   \n",
       "151     1.0        89.6875   7.782188               47.692108      67.0000   \n",
       "152     1.0        55.9375   0.645312               48.981177      71.8125   \n",
       "\n",
       "        measles       bmi    polio  total expenditure  hiv/aids  \\\n",
       "0     6875.8125  25.60625  96.0000           6.427812   0.10000   \n",
       "1      390.8750  43.90625  94.9375           6.881563   0.10000   \n",
       "2     3108.0000  43.50000  72.2500           5.699063   0.25000   \n",
       "3        9.5000  49.54375  84.2500           6.303438   0.10000   \n",
       "4       47.4375  53.73125  96.7500           6.340313   0.10000   \n",
       "..          ...       ...      ...                ...       ...   \n",
       "148     54.3125  25.98125  96.5000           4.601562   0.10625   \n",
       "149     24.8125  54.74375  89.8750           6.164688   0.10000   \n",
       "150    266.6875  25.23750  67.9375           7.491562  22.96875   \n",
       "151  12394.6250  15.52500  65.4375           8.367812   7.65000   \n",
       "152    823.3125  17.21250  62.5000           6.474687   1.82500   \n",
       "\n",
       "     thinness 1-19 years  income composition of resources  schooling  \n",
       "0                1.81250                         0.876563   14.97500  \n",
       "1                3.02500                         0.677000   12.30000  \n",
       "2                3.30000                         0.441000    6.37500  \n",
       "3                2.30000                         0.681875   12.23125  \n",
       "4                2.20625                         0.813187   15.25000  \n",
       "..                   ...                              ...        ...  \n",
       "148              7.46875                         0.722625   13.53125  \n",
       "149              2.21250                         0.743250   14.75000  \n",
       "150              7.18750                         0.456813   10.65625  \n",
       "151              6.26250                         0.445312   10.59375  \n",
       "152              7.07500                         0.365187    6.43125  \n",
       "\n",
       "[153 rows x 13 columns]"
      ]
     },
     "metadata": {},
     "output_type": "display_data"
    }
   ],
   "source": [
    "lm = LinearRegression()\n",
    "\n",
    "selector = RFE(lm, n_features_to_select= 17, step = 1, verbose = 1)\n",
    "selector.fit(X3_train, y3_train)\n",
    "\n",
    "kept_features = selector.get_support(indices = True) \n",
    "kept_features = list(X3_train.iloc[:,kept_features].columns)\n",
    "\n",
    "X3_train_RFE = selector.transform(X3_train)\n",
    "X3_test_RFE  = selector.transform(X3_test)\n",
    "\n",
    "X3_train_RFE = pd.DataFrame(X3_train_RFE, columns=kept_features)\n",
    "X3_test_RFE  = pd.DataFrame(X3_test_RFE, columns=kept_features)\n",
    "\n",
    "print(\"Final selected features: \")\n",
    "display(X3_train_RFE)"
   ]
  },
  {
   "cell_type": "markdown",
   "id": "3e9c67ce",
   "metadata": {},
   "source": [
    "# Power transforming data (X3, y3)"
   ]
  },
  {
   "cell_type": "code",
   "execution_count": 313,
   "id": "04486c2e",
   "metadata": {},
   "outputs": [
    {
     "data": {
      "text/html": [
       "<style>#sk-container-id-11 {color: black;background-color: white;}#sk-container-id-11 pre{padding: 0;}#sk-container-id-11 div.sk-toggleable {background-color: white;}#sk-container-id-11 label.sk-toggleable__label {cursor: pointer;display: block;width: 100%;margin-bottom: 0;padding: 0.3em;box-sizing: border-box;text-align: center;}#sk-container-id-11 label.sk-toggleable__label-arrow:before {content: \"▸\";float: left;margin-right: 0.25em;color: #696969;}#sk-container-id-11 label.sk-toggleable__label-arrow:hover:before {color: black;}#sk-container-id-11 div.sk-estimator:hover label.sk-toggleable__label-arrow:before {color: black;}#sk-container-id-11 div.sk-toggleable__content {max-height: 0;max-width: 0;overflow: hidden;text-align: left;background-color: #f0f8ff;}#sk-container-id-11 div.sk-toggleable__content pre {margin: 0.2em;color: black;border-radius: 0.25em;background-color: #f0f8ff;}#sk-container-id-11 input.sk-toggleable__control:checked~div.sk-toggleable__content {max-height: 200px;max-width: 100%;overflow: auto;}#sk-container-id-11 input.sk-toggleable__control:checked~label.sk-toggleable__label-arrow:before {content: \"▾\";}#sk-container-id-11 div.sk-estimator input.sk-toggleable__control:checked~label.sk-toggleable__label {background-color: #d4ebff;}#sk-container-id-11 div.sk-label input.sk-toggleable__control:checked~label.sk-toggleable__label {background-color: #d4ebff;}#sk-container-id-11 input.sk-hidden--visually {border: 0;clip: rect(1px 1px 1px 1px);clip: rect(1px, 1px, 1px, 1px);height: 1px;margin: -1px;overflow: hidden;padding: 0;position: absolute;width: 1px;}#sk-container-id-11 div.sk-estimator {font-family: monospace;background-color: #f0f8ff;border: 1px dotted black;border-radius: 0.25em;box-sizing: border-box;margin-bottom: 0.5em;}#sk-container-id-11 div.sk-estimator:hover {background-color: #d4ebff;}#sk-container-id-11 div.sk-parallel-item::after {content: \"\";width: 100%;border-bottom: 1px solid gray;flex-grow: 1;}#sk-container-id-11 div.sk-label:hover label.sk-toggleable__label {background-color: #d4ebff;}#sk-container-id-11 div.sk-serial::before {content: \"\";position: absolute;border-left: 1px solid gray;box-sizing: border-box;top: 0;bottom: 0;left: 50%;z-index: 0;}#sk-container-id-11 div.sk-serial {display: flex;flex-direction: column;align-items: center;background-color: white;padding-right: 0.2em;padding-left: 0.2em;position: relative;}#sk-container-id-11 div.sk-item {position: relative;z-index: 1;}#sk-container-id-11 div.sk-parallel {display: flex;align-items: stretch;justify-content: center;background-color: white;position: relative;}#sk-container-id-11 div.sk-item::before, #sk-container-id-11 div.sk-parallel-item::before {content: \"\";position: absolute;border-left: 1px solid gray;box-sizing: border-box;top: 0;bottom: 0;left: 50%;z-index: -1;}#sk-container-id-11 div.sk-parallel-item {display: flex;flex-direction: column;z-index: 1;position: relative;background-color: white;}#sk-container-id-11 div.sk-parallel-item:first-child::after {align-self: flex-end;width: 50%;}#sk-container-id-11 div.sk-parallel-item:last-child::after {align-self: flex-start;width: 50%;}#sk-container-id-11 div.sk-parallel-item:only-child::after {width: 0;}#sk-container-id-11 div.sk-dashed-wrapped {border: 1px dashed gray;margin: 0 0.4em 0.5em 0.4em;box-sizing: border-box;padding-bottom: 0.4em;background-color: white;}#sk-container-id-11 div.sk-label label {font-family: monospace;font-weight: bold;display: inline-block;line-height: 1.2em;}#sk-container-id-11 div.sk-label-container {text-align: center;}#sk-container-id-11 div.sk-container {/* jupyter's `normalize.less` sets `[hidden] { display: none; }` but bootstrap.min.css set `[hidden] { display: none !important; }` so we also need the `!important` here to be able to override the default hidden behavior on the sphinx rendered scikit-learn.org. See: https://github.com/scikit-learn/scikit-learn/issues/21755 */display: inline-block !important;position: relative;}#sk-container-id-11 div.sk-text-repr-fallback {display: none;}</style><div id=\"sk-container-id-11\" class=\"sk-top-container\"><div class=\"sk-text-repr-fallback\"><pre>PowerTransformer()</pre><b>In a Jupyter environment, please rerun this cell to show the HTML representation or trust the notebook. <br />On GitHub, the HTML representation is unable to render, please try loading this page with nbviewer.org.</b></div><div class=\"sk-container\" hidden><div class=\"sk-item\"><div class=\"sk-estimator sk-toggleable\"><input class=\"sk-toggleable__control sk-hidden--visually\" id=\"sk-estimator-id-11\" type=\"checkbox\" checked><label for=\"sk-estimator-id-11\" class=\"sk-toggleable__label sk-toggleable__label-arrow\">PowerTransformer</label><div class=\"sk-toggleable__content\"><pre>PowerTransformer()</pre></div></div></div></div></div>"
      ],
      "text/plain": [
       "PowerTransformer()"
      ]
     },
     "execution_count": 313,
     "metadata": {},
     "output_type": "execute_result"
    }
   ],
   "source": [
    "trans = PowerTransformer()\n",
    "trans.fit(X3_train)"
   ]
  },
  {
   "cell_type": "code",
   "execution_count": 314,
   "id": "1fa1c7db",
   "metadata": {},
   "outputs": [],
   "source": [
    "X3_train_scaled = trans.transform(X3_train)\n",
    "X3_test_scaled  = trans.transform(X3_test)"
   ]
  },
  {
   "cell_type": "markdown",
   "id": "984a52c9",
   "metadata": {},
   "source": [
    "# Fitting model (KNN Regression, X3, y3)"
   ]
  },
  {
   "cell_type": "code",
   "execution_count": 315,
   "id": "095d1782",
   "metadata": {},
   "outputs": [],
   "source": [
    "model3 = KNeighborsRegressor(n_neighbors=2)"
   ]
  },
  {
   "cell_type": "code",
   "execution_count": 316,
   "id": "83cf984f",
   "metadata": {},
   "outputs": [
    {
     "data": {
      "text/html": [
       "<style>#sk-container-id-12 {color: black;background-color: white;}#sk-container-id-12 pre{padding: 0;}#sk-container-id-12 div.sk-toggleable {background-color: white;}#sk-container-id-12 label.sk-toggleable__label {cursor: pointer;display: block;width: 100%;margin-bottom: 0;padding: 0.3em;box-sizing: border-box;text-align: center;}#sk-container-id-12 label.sk-toggleable__label-arrow:before {content: \"▸\";float: left;margin-right: 0.25em;color: #696969;}#sk-container-id-12 label.sk-toggleable__label-arrow:hover:before {color: black;}#sk-container-id-12 div.sk-estimator:hover label.sk-toggleable__label-arrow:before {color: black;}#sk-container-id-12 div.sk-toggleable__content {max-height: 0;max-width: 0;overflow: hidden;text-align: left;background-color: #f0f8ff;}#sk-container-id-12 div.sk-toggleable__content pre {margin: 0.2em;color: black;border-radius: 0.25em;background-color: #f0f8ff;}#sk-container-id-12 input.sk-toggleable__control:checked~div.sk-toggleable__content {max-height: 200px;max-width: 100%;overflow: auto;}#sk-container-id-12 input.sk-toggleable__control:checked~label.sk-toggleable__label-arrow:before {content: \"▾\";}#sk-container-id-12 div.sk-estimator input.sk-toggleable__control:checked~label.sk-toggleable__label {background-color: #d4ebff;}#sk-container-id-12 div.sk-label input.sk-toggleable__control:checked~label.sk-toggleable__label {background-color: #d4ebff;}#sk-container-id-12 input.sk-hidden--visually {border: 0;clip: rect(1px 1px 1px 1px);clip: rect(1px, 1px, 1px, 1px);height: 1px;margin: -1px;overflow: hidden;padding: 0;position: absolute;width: 1px;}#sk-container-id-12 div.sk-estimator {font-family: monospace;background-color: #f0f8ff;border: 1px dotted black;border-radius: 0.25em;box-sizing: border-box;margin-bottom: 0.5em;}#sk-container-id-12 div.sk-estimator:hover {background-color: #d4ebff;}#sk-container-id-12 div.sk-parallel-item::after {content: \"\";width: 100%;border-bottom: 1px solid gray;flex-grow: 1;}#sk-container-id-12 div.sk-label:hover label.sk-toggleable__label {background-color: #d4ebff;}#sk-container-id-12 div.sk-serial::before {content: \"\";position: absolute;border-left: 1px solid gray;box-sizing: border-box;top: 0;bottom: 0;left: 50%;z-index: 0;}#sk-container-id-12 div.sk-serial {display: flex;flex-direction: column;align-items: center;background-color: white;padding-right: 0.2em;padding-left: 0.2em;position: relative;}#sk-container-id-12 div.sk-item {position: relative;z-index: 1;}#sk-container-id-12 div.sk-parallel {display: flex;align-items: stretch;justify-content: center;background-color: white;position: relative;}#sk-container-id-12 div.sk-item::before, #sk-container-id-12 div.sk-parallel-item::before {content: \"\";position: absolute;border-left: 1px solid gray;box-sizing: border-box;top: 0;bottom: 0;left: 50%;z-index: -1;}#sk-container-id-12 div.sk-parallel-item {display: flex;flex-direction: column;z-index: 1;position: relative;background-color: white;}#sk-container-id-12 div.sk-parallel-item:first-child::after {align-self: flex-end;width: 50%;}#sk-container-id-12 div.sk-parallel-item:last-child::after {align-self: flex-start;width: 50%;}#sk-container-id-12 div.sk-parallel-item:only-child::after {width: 0;}#sk-container-id-12 div.sk-dashed-wrapped {border: 1px dashed gray;margin: 0 0.4em 0.5em 0.4em;box-sizing: border-box;padding-bottom: 0.4em;background-color: white;}#sk-container-id-12 div.sk-label label {font-family: monospace;font-weight: bold;display: inline-block;line-height: 1.2em;}#sk-container-id-12 div.sk-label-container {text-align: center;}#sk-container-id-12 div.sk-container {/* jupyter's `normalize.less` sets `[hidden] { display: none; }` but bootstrap.min.css set `[hidden] { display: none !important; }` so we also need the `!important` here to be able to override the default hidden behavior on the sphinx rendered scikit-learn.org. See: https://github.com/scikit-learn/scikit-learn/issues/21755 */display: inline-block !important;position: relative;}#sk-container-id-12 div.sk-text-repr-fallback {display: none;}</style><div id=\"sk-container-id-12\" class=\"sk-top-container\"><div class=\"sk-text-repr-fallback\"><pre>KNeighborsRegressor(n_neighbors=2)</pre><b>In a Jupyter environment, please rerun this cell to show the HTML representation or trust the notebook. <br />On GitHub, the HTML representation is unable to render, please try loading this page with nbviewer.org.</b></div><div class=\"sk-container\" hidden><div class=\"sk-item\"><div class=\"sk-estimator sk-toggleable\"><input class=\"sk-toggleable__control sk-hidden--visually\" id=\"sk-estimator-id-12\" type=\"checkbox\" checked><label for=\"sk-estimator-id-12\" class=\"sk-toggleable__label sk-toggleable__label-arrow\">KNeighborsRegressor</label><div class=\"sk-toggleable__content\"><pre>KNeighborsRegressor(n_neighbors=2)</pre></div></div></div></div></div>"
      ],
      "text/plain": [
       "KNeighborsRegressor(n_neighbors=2)"
      ]
     },
     "execution_count": 316,
     "metadata": {},
     "output_type": "execute_result"
    }
   ],
   "source": [
    "model3.fit(X3_train_scaled, y3_train)"
   ]
  },
  {
   "cell_type": "markdown",
   "id": "e8aea25c",
   "metadata": {},
   "source": [
    "# Making prediction (X3, y3)"
   ]
  },
  {
   "cell_type": "code",
   "execution_count": 317,
   "id": "e6860576",
   "metadata": {},
   "outputs": [],
   "source": [
    "y3_pred_train = model3.predict(X3_train_scaled)\n",
    "y3_pred  = model3.predict(X3_test_scaled)"
   ]
  },
  {
   "cell_type": "markdown",
   "id": "c2a4ac24",
   "metadata": {},
   "source": [
    "# Evaluating model performance (X3, y3)"
   ]
  },
  {
   "cell_type": "code",
   "execution_count": 318,
   "id": "eac12a74",
   "metadata": {},
   "outputs": [
    {
     "data": {
      "text/plain": [
       "[<matplotlib.lines.Line2D at 0x7fdbe0ebaf40>]"
      ]
     },
     "execution_count": 318,
     "metadata": {},
     "output_type": "execute_result"
    },
    {
     "data": {
      "image/png": "[encoded data removed]",
      "text/plain": [
       "<Figure size 1400x400 with 3 Axes>"
      ]
     },
     "metadata": {},
     "output_type": "display_data"
    }
   ],
   "source": [
    "fig, ax = plt.subplots(1,3,figsize=(14,4))\n",
    "\n",
    "ax[0].plot(y3_pred, y3_test, 'o')\n",
    "ax[0].set_xlabel(\"y_test\")\n",
    "ax[0].set_ylabel(\"y_pred\")\n",
    "ax[0].set_title(\"Test Set - Predicted vs real\")\n",
    " \n",
    "\n",
    "ax[1].hist(y3_test - y3_pred)\n",
    "ax[1].set_xlabel(\"Test y-y_pred\")\n",
    "ax[1].set_title(\"Test Set Residual histogram\")\n",
    "\n",
    "ax[2].plot(y3_pred,y3_test - y3_pred,\"o\")\n",
    "ax[2].set_xlabel(\"predicted\")\n",
    "ax[2].set_ylabel(\"residuals\")\n",
    "ax[2].set_title(\"Residuals by Predicted\")\n",
    "ax[2].plot(y3_pred,np.zeros(len(y3_pred)),linestyle='dashed')"
   ]
  },
  {
   "cell_type": "markdown",
   "id": "5f551685",
   "metadata": {},
   "source": [
    "# Error metrics (X3, y3)"
   ]
  },
  {
   "cell_type": "code",
   "execution_count": 319,
   "id": "24056938",
   "metadata": {},
   "outputs": [
    {
     "name": "stdout",
     "output_type": "stream",
     "text": [
      "14.77009314903847\n",
      "2.888141025641026\n"
     ]
    }
   ],
   "source": [
    "print(mse(y3_test,y3_pred))\n",
    "print(mae(y3_test,y3_pred))"
   ]
  },
  {
   "cell_type": "code",
   "execution_count": 320,
   "id": "5a49cd14",
   "metadata": {},
   "outputs": [
    {
     "data": {
      "text/plain": [
       "0.7219091178817753"
      ]
     },
     "execution_count": 320,
     "metadata": {},
     "output_type": "execute_result"
    }
   ],
   "source": [
    "R2_3=r2_score(y3_test,y3_pred)\n",
    "R2_3"
   ]
  },
  {
   "cell_type": "markdown",
   "id": "41771994",
   "metadata": {},
   "source": [
    "# Cross validation (X3, y3)"
   ]
  },
  {
   "cell_type": "code",
   "execution_count": 321,
   "id": "82af6ee0",
   "metadata": {},
   "outputs": [
    {
     "data": {
      "text/plain": [
       "array([0.86196252, 0.85334895, 0.85144437, 0.89397984, 0.86295718])"
      ]
     },
     "execution_count": 321,
     "metadata": {},
     "output_type": "execute_result"
    }
   ],
   "source": [
    "scores3=cross_val_score(model3, X3_train_scaled, y3_train, cv = 5)\n",
    "scores3"
   ]
  },
  {
   "cell_type": "code",
   "execution_count": 322,
   "id": "aeee7882",
   "metadata": {},
   "outputs": [
    {
     "name": "stdout",
     "output_type": "stream",
     "text": [
      "0.86 accuracy with a standard deviation of 0.02\n"
     ]
    }
   ],
   "source": [
    "print(\"%0.2f accuracy with a standard deviation of %0.2f\" % (scores3.mean(), scores3.std()))"
   ]
  },
  {
   "cell_type": "markdown",
   "id": "6a37000b",
   "metadata": {},
   "source": [
    "# Defining X4, y4 (Decision Tree Regression)"
   ]
  },
  {
   "cell_type": "code",
   "execution_count": 323,
   "id": "48b6d442",
   "metadata": {},
   "outputs": [],
   "source": [
    "X4 = X3"
   ]
  },
  {
   "cell_type": "code",
   "execution_count": 324,
   "id": "75064b14",
   "metadata": {},
   "outputs": [],
   "source": [
    "y4 = y3"
   ]
  },
  {
   "cell_type": "markdown",
   "id": "f3b811e4",
   "metadata": {},
   "source": [
    "# Data splitting (X4, y4)"
   ]
  },
  {
   "cell_type": "code",
   "execution_count": 325,
   "id": "9846e3b9",
   "metadata": {},
   "outputs": [],
   "source": [
    "X4_train, X4_test, y4_train, y4_test = train_test_split(X4, y4, test_size=0.20, random_state=42)\n",
    "\n",
    "X4_train = pd.DataFrame(X4_train, columns=X4.columns)\n",
    "X4_test  = pd.DataFrame(X4_test, columns=X4.columns)"
   ]
  },
  {
   "cell_type": "markdown",
   "id": "f3262aed",
   "metadata": {},
   "source": [
    "# Standardizing Data (X4, y4)"
   ]
  },
  {
   "cell_type": "markdown",
   "id": "4831a900",
   "metadata": {},
   "source": [
    "- Not needed because using decision tree"
   ]
  },
  {
   "cell_type": "markdown",
   "id": "b385a70b",
   "metadata": {},
   "source": [
    "# Fitting model (Decision Tree Regression, X4, y4)"
   ]
  },
  {
   "cell_type": "code",
   "execution_count": 326,
   "id": "b29ccbab",
   "metadata": {},
   "outputs": [
    {
     "data": {
      "text/html": [
       "<style>#sk-container-id-13 {color: black;background-color: white;}#sk-container-id-13 pre{padding: 0;}#sk-container-id-13 div.sk-toggleable {background-color: white;}#sk-container-id-13 label.sk-toggleable__label {cursor: pointer;display: block;width: 100%;margin-bottom: 0;padding: 0.3em;box-sizing: border-box;text-align: center;}#sk-container-id-13 label.sk-toggleable__label-arrow:before {content: \"▸\";float: left;margin-right: 0.25em;color: #696969;}#sk-container-id-13 label.sk-toggleable__label-arrow:hover:before {color: black;}#sk-container-id-13 div.sk-estimator:hover label.sk-toggleable__label-arrow:before {color: black;}#sk-container-id-13 div.sk-toggleable__content {max-height: 0;max-width: 0;overflow: hidden;text-align: left;background-color: #f0f8ff;}#sk-container-id-13 div.sk-toggleable__content pre {margin: 0.2em;color: black;border-radius: 0.25em;background-color: #f0f8ff;}#sk-container-id-13 input.sk-toggleable__control:checked~div.sk-toggleable__content {max-height: 200px;max-width: 100%;overflow: auto;}#sk-container-id-13 input.sk-toggleable__control:checked~label.sk-toggleable__label-arrow:before {content: \"▾\";}#sk-container-id-13 div.sk-estimator input.sk-toggleable__control:checked~label.sk-toggleable__label {background-color: #d4ebff;}#sk-container-id-13 div.sk-label input.sk-toggleable__control:checked~label.sk-toggleable__label {background-color: #d4ebff;}#sk-container-id-13 input.sk-hidden--visually {border: 0;clip: rect(1px 1px 1px 1px);clip: rect(1px, 1px, 1px, 1px);height: 1px;margin: -1px;overflow: hidden;padding: 0;position: absolute;width: 1px;}#sk-container-id-13 div.sk-estimator {font-family: monospace;background-color: #f0f8ff;border: 1px dotted black;border-radius: 0.25em;box-sizing: border-box;margin-bottom: 0.5em;}#sk-container-id-13 div.sk-estimator:hover {background-color: #d4ebff;}#sk-container-id-13 div.sk-parallel-item::after {content: \"\";width: 100%;border-bottom: 1px solid gray;flex-grow: 1;}#sk-container-id-13 div.sk-label:hover label.sk-toggleable__label {background-color: #d4ebff;}#sk-container-id-13 div.sk-serial::before {content: \"\";position: absolute;border-left: 1px solid gray;box-sizing: border-box;top: 0;bottom: 0;left: 50%;z-index: 0;}#sk-container-id-13 div.sk-serial {display: flex;flex-direction: column;align-items: center;background-color: white;padding-right: 0.2em;padding-left: 0.2em;position: relative;}#sk-container-id-13 div.sk-item {position: relative;z-index: 1;}#sk-container-id-13 div.sk-parallel {display: flex;align-items: stretch;justify-content: center;background-color: white;position: relative;}#sk-container-id-13 div.sk-item::before, #sk-container-id-13 div.sk-parallel-item::before {content: \"\";position: absolute;border-left: 1px solid gray;box-sizing: border-box;top: 0;bottom: 0;left: 50%;z-index: -1;}#sk-container-id-13 div.sk-parallel-item {display: flex;flex-direction: column;z-index: 1;position: relative;background-color: white;}#sk-container-id-13 div.sk-parallel-item:first-child::after {align-self: flex-end;width: 50%;}#sk-container-id-13 div.sk-parallel-item:last-child::after {align-self: flex-start;width: 50%;}#sk-container-id-13 div.sk-parallel-item:only-child::after {width: 0;}#sk-container-id-13 div.sk-dashed-wrapped {border: 1px dashed gray;margin: 0 0.4em 0.5em 0.4em;box-sizing: border-box;padding-bottom: 0.4em;background-color: white;}#sk-container-id-13 div.sk-label label {font-family: monospace;font-weight: bold;display: inline-block;line-height: 1.2em;}#sk-container-id-13 div.sk-label-container {text-align: center;}#sk-container-id-13 div.sk-container {/* jupyter's `normalize.less` sets `[hidden] { display: none; }` but bootstrap.min.css set `[hidden] { display: none !important; }` so we also need the `!important` here to be able to override the default hidden behavior on the sphinx rendered scikit-learn.org. See: https://github.com/scikit-learn/scikit-learn/issues/21755 */display: inline-block !important;position: relative;}#sk-container-id-13 div.sk-text-repr-fallback {display: none;}</style><div id=\"sk-container-id-13\" class=\"sk-top-container\"><div class=\"sk-text-repr-fallback\"><pre>DecisionTreeRegressor(max_depth=3)</pre><b>In a Jupyter environment, please rerun this cell to show the HTML representation or trust the notebook. <br />On GitHub, the HTML representation is unable to render, please try loading this page with nbviewer.org.</b></div><div class=\"sk-container\" hidden><div class=\"sk-item\"><div class=\"sk-estimator sk-toggleable\"><input class=\"sk-toggleable__control sk-hidden--visually\" id=\"sk-estimator-id-13\" type=\"checkbox\" checked><label for=\"sk-estimator-id-13\" class=\"sk-toggleable__label sk-toggleable__label-arrow\">DecisionTreeRegressor</label><div class=\"sk-toggleable__content\"><pre>DecisionTreeRegressor(max_depth=3)</pre></div></div></div></div></div>"
      ],
      "text/plain": [
       "DecisionTreeRegressor(max_depth=3)"
      ]
     },
     "execution_count": 326,
     "metadata": {},
     "output_type": "execute_result"
    }
   ],
   "source": [
    "model4 = DecisionTreeRegressor(max_depth=3)\n",
    "\n",
    "model4.fit(X4_train, y4_train)\n",
    "\n"
   ]
  },
  {
   "cell_type": "markdown",
   "id": "3a493a3a",
   "metadata": {},
   "source": [
    "# Making prediction (X4, y4)"
   ]
  },
  {
   "cell_type": "code",
   "execution_count": 327,
   "id": "bccaecb1",
   "metadata": {},
   "outputs": [],
   "source": [
    "y4_pred_train = model4.predict(X4_train)\n",
    "y4_pred  = model4.predict(X4_test)"
   ]
  },
  {
   "cell_type": "markdown",
   "id": "3d4dd4b6",
   "metadata": {},
   "source": [
    "# Evaluating model performance (X4, y4)"
   ]
  },
  {
   "cell_type": "code",
   "execution_count": 328,
   "id": "55f22718",
   "metadata": {},
   "outputs": [
    {
     "data": {
      "text/plain": [
       "[<matplotlib.lines.Line2D at 0x7fdbe11e0d60>]"
      ]
     },
     "execution_count": 328,
     "metadata": {},
     "output_type": "execute_result"
    },
    {
     "data": {
      "image/png": "[encoded data removed]",
      "text/plain": [
       "<Figure size 1400x400 with 3 Axes>"
      ]
     },
     "metadata": {},
     "output_type": "display_data"
    }
   ],
   "source": [
    "fig, ax = plt.subplots(1,3,figsize=(14,4))\n",
    "\n",
    "ax[0].plot(y4_pred, y4_test, 'o')\n",
    "ax[0].set_xlabel(\"y_test\")\n",
    "ax[0].set_ylabel(\"y_pred\")\n",
    "ax[0].set_title(\"Test Set - Predicted vs real\")\n",
    " \n",
    "\n",
    "ax[1].hist(y4_test - y4_pred)\n",
    "ax[1].set_xlabel(\"Test y-y_pred\")\n",
    "ax[1].set_title(\"Test Set Residual histogram\")\n",
    "\n",
    "ax[2].plot(y4_pred,y4_test - y4_pred,\"o\")\n",
    "ax[2].set_xlabel(\"predicted\")\n",
    "ax[2].set_ylabel(\"residuals\")\n",
    "ax[2].set_title(\"Residuals by Predicted\")\n",
    "ax[2].plot(y4_pred,np.zeros(len(y4_pred)),linestyle='dashed')"
   ]
  },
  {
   "cell_type": "markdown",
   "id": "bb6d412f",
   "metadata": {},
   "source": [
    "# Error metrics (X4, y4)"
   ]
  },
  {
   "cell_type": "code",
   "execution_count": 329,
   "id": "39adb4b2",
   "metadata": {},
   "outputs": [
    {
     "name": "stdout",
     "output_type": "stream",
     "text": [
      "10.038162094331122\n",
      "2.2940508021390387\n"
     ]
    }
   ],
   "source": [
    "print(mse(y4_test,y4_pred))\n",
    "print(mae(y4_test,y4_pred))"
   ]
  },
  {
   "cell_type": "code",
   "execution_count": 330,
   "id": "0e6739a7",
   "metadata": {},
   "outputs": [
    {
     "data": {
      "text/plain": [
       "0.811001777477619"
      ]
     },
     "execution_count": 330,
     "metadata": {},
     "output_type": "execute_result"
    }
   ],
   "source": [
    "R2_4=r2_score(y4_test,y4_pred)\n",
    "R2_4"
   ]
  },
  {
   "cell_type": "markdown",
   "id": "7643b97c",
   "metadata": {},
   "source": [
    "# Cross validation (X4, y4)"
   ]
  },
  {
   "cell_type": "code",
   "execution_count": 331,
   "id": "4992eecc",
   "metadata": {},
   "outputs": [
    {
     "data": {
      "text/plain": [
       "array([0.65854531, 0.77017188, 0.69321879, 0.74387671, 0.8124097 ])"
      ]
     },
     "execution_count": 331,
     "metadata": {},
     "output_type": "execute_result"
    }
   ],
   "source": [
    "scores4=cross_val_score(model4, X4_train, y4_train, cv = 5)\n",
    "scores4"
   ]
  },
  {
   "cell_type": "code",
   "execution_count": 332,
   "id": "4dd3f075",
   "metadata": {},
   "outputs": [
    {
     "name": "stdout",
     "output_type": "stream",
     "text": [
      "0.74 accuracy with a standard deviation of 0.05\n"
     ]
    }
   ],
   "source": [
    "print(\"%0.2f accuracy with a standard deviation of %0.2f\" % (scores4.mean(), scores4.std()))"
   ]
  },
  {
   "cell_type": "markdown",
   "id": "ca4b3760",
   "metadata": {},
   "source": [
    "# Defining X5, y5 (Random Forest Regression)"
   ]
  },
  {
   "cell_type": "code",
   "execution_count": 333,
   "id": "ff1b18fc",
   "metadata": {},
   "outputs": [],
   "source": [
    "X5 = X4"
   ]
  },
  {
   "cell_type": "code",
   "execution_count": 334,
   "id": "31f9fafe",
   "metadata": {},
   "outputs": [],
   "source": [
    "y5 = y4"
   ]
  },
  {
   "cell_type": "markdown",
   "id": "36de83f1",
   "metadata": {},
   "source": [
    "# Data splitting (X5, y5)"
   ]
  },
  {
   "cell_type": "code",
   "execution_count": 335,
   "id": "6c193a81",
   "metadata": {},
   "outputs": [],
   "source": [
    "X5_train, X5_test, y5_train, y5_test = train_test_split(X5, y5, test_size=0.20, random_state=42)\n",
    "\n",
    "X5_train = pd.DataFrame(X5_train, columns=X5.columns)\n",
    "X5_test  = pd.DataFrame(X5_test, columns=X5.columns)"
   ]
  },
  {
   "cell_type": "markdown",
   "id": "3a54f147",
   "metadata": {},
   "source": [
    "# Standardizing Data (X5, y5)"
   ]
  },
  {
   "cell_type": "markdown",
   "id": "4ab8bb92",
   "metadata": {},
   "source": [
    "- Not needed because using decision tree"
   ]
  },
  {
   "cell_type": "markdown",
   "id": "3bde7176",
   "metadata": {},
   "source": [
    "# Fitting model (Random Forest Regression, X5, y5)"
   ]
  },
  {
   "cell_type": "code",
   "execution_count": 336,
   "id": "a50cd722",
   "metadata": {},
   "outputs": [
    {
     "data": {
      "text/html": [
       "<style>#sk-container-id-14 {color: black;background-color: white;}#sk-container-id-14 pre{padding: 0;}#sk-container-id-14 div.sk-toggleable {background-color: white;}#sk-container-id-14 label.sk-toggleable__label {cursor: pointer;display: block;width: 100%;margin-bottom: 0;padding: 0.3em;box-sizing: border-box;text-align: center;}#sk-container-id-14 label.sk-toggleable__label-arrow:before {content: \"▸\";float: left;margin-right: 0.25em;color: #696969;}#sk-container-id-14 label.sk-toggleable__label-arrow:hover:before {color: black;}#sk-container-id-14 div.sk-estimator:hover label.sk-toggleable__label-arrow:before {color: black;}#sk-container-id-14 div.sk-toggleable__content {max-height: 0;max-width: 0;overflow: hidden;text-align: left;background-color: #f0f8ff;}#sk-container-id-14 div.sk-toggleable__content pre {margin: 0.2em;color: black;border-radius: 0.25em;background-color: #f0f8ff;}#sk-container-id-14 input.sk-toggleable__control:checked~div.sk-toggleable__content {max-height: 200px;max-width: 100%;overflow: auto;}#sk-container-id-14 input.sk-toggleable__control:checked~label.sk-toggleable__label-arrow:before {content: \"▾\";}#sk-container-id-14 div.sk-estimator input.sk-toggleable__control:checked~label.sk-toggleable__label {background-color: #d4ebff;}#sk-container-id-14 div.sk-label input.sk-toggleable__control:checked~label.sk-toggleable__label {background-color: #d4ebff;}#sk-container-id-14 input.sk-hidden--visually {border: 0;clip: rect(1px 1px 1px 1px);clip: rect(1px, 1px, 1px, 1px);height: 1px;margin: -1px;overflow: hidden;padding: 0;position: absolute;width: 1px;}#sk-container-id-14 div.sk-estimator {font-family: monospace;background-color: #f0f8ff;border: 1px dotted black;border-radius: 0.25em;box-sizing: border-box;margin-bottom: 0.5em;}#sk-container-id-14 div.sk-estimator:hover {background-color: #d4ebff;}#sk-container-id-14 div.sk-parallel-item::after {content: \"\";width: 100%;border-bottom: 1px solid gray;flex-grow: 1;}#sk-container-id-14 div.sk-label:hover label.sk-toggleable__label {background-color: #d4ebff;}#sk-container-id-14 div.sk-serial::before {content: \"\";position: absolute;border-left: 1px solid gray;box-sizing: border-box;top: 0;bottom: 0;left: 50%;z-index: 0;}#sk-container-id-14 div.sk-serial {display: flex;flex-direction: column;align-items: center;background-color: white;padding-right: 0.2em;padding-left: 0.2em;position: relative;}#sk-container-id-14 div.sk-item {position: relative;z-index: 1;}#sk-container-id-14 div.sk-parallel {display: flex;align-items: stretch;justify-content: center;background-color: white;position: relative;}#sk-container-id-14 div.sk-item::before, #sk-container-id-14 div.sk-parallel-item::before {content: \"\";position: absolute;border-left: 1px solid gray;box-sizing: border-box;top: 0;bottom: 0;left: 50%;z-index: -1;}#sk-container-id-14 div.sk-parallel-item {display: flex;flex-direction: column;z-index: 1;position: relative;background-color: white;}#sk-container-id-14 div.sk-parallel-item:first-child::after {align-self: flex-end;width: 50%;}#sk-container-id-14 div.sk-parallel-item:last-child::after {align-self: flex-start;width: 50%;}#sk-container-id-14 div.sk-parallel-item:only-child::after {width: 0;}#sk-container-id-14 div.sk-dashed-wrapped {border: 1px dashed gray;margin: 0 0.4em 0.5em 0.4em;box-sizing: border-box;padding-bottom: 0.4em;background-color: white;}#sk-container-id-14 div.sk-label label {font-family: monospace;font-weight: bold;display: inline-block;line-height: 1.2em;}#sk-container-id-14 div.sk-label-container {text-align: center;}#sk-container-id-14 div.sk-container {/* jupyter's `normalize.less` sets `[hidden] { display: none; }` but bootstrap.min.css set `[hidden] { display: none !important; }` so we also need the `!important` here to be able to override the default hidden behavior on the sphinx rendered scikit-learn.org. See: https://github.com/scikit-learn/scikit-learn/issues/21755 */display: inline-block !important;position: relative;}#sk-container-id-14 div.sk-text-repr-fallback {display: none;}</style><div id=\"sk-container-id-14\" class=\"sk-top-container\"><div class=\"sk-text-repr-fallback\"><pre>RandomForestRegressor()</pre><b>In a Jupyter environment, please rerun this cell to show the HTML representation or trust the notebook. <br />On GitHub, the HTML representation is unable to render, please try loading this page with nbviewer.org.</b></div><div class=\"sk-container\" hidden><div class=\"sk-item\"><div class=\"sk-estimator sk-toggleable\"><input class=\"sk-toggleable__control sk-hidden--visually\" id=\"sk-estimator-id-14\" type=\"checkbox\" checked><label for=\"sk-estimator-id-14\" class=\"sk-toggleable__label sk-toggleable__label-arrow\">RandomForestRegressor</label><div class=\"sk-toggleable__content\"><pre>RandomForestRegressor()</pre></div></div></div></div></div>"
      ],
      "text/plain": [
       "RandomForestRegressor()"
      ]
     },
     "execution_count": 336,
     "metadata": {},
     "output_type": "execute_result"
    }
   ],
   "source": [
    "model5 = RandomForestRegressor(n_estimators=100)\n",
    "\n",
    "model5.fit(X5_train, y5_train)\n",
    "\n"
   ]
  },
  {
   "cell_type": "markdown",
   "id": "75e02c32",
   "metadata": {},
   "source": [
    "# Feature importance (Random Forest Regression, X5, y5)\n"
   ]
  },
  {
   "cell_type": "code",
   "execution_count": 337,
   "id": "ac20ecb2",
   "metadata": {},
   "outputs": [],
   "source": [
    "feature_names5 = X5_train.columns\n",
    "feature_names5 = list(feature_names5)"
   ]
  },
  {
   "cell_type": "code",
   "execution_count": 338,
   "id": "7c1a4a9b",
   "metadata": {},
   "outputs": [
    {
     "data": {
      "text/html": [
       "<div>\n",
       "<style scoped>\n",
       "    .dataframe tbody tr th:only-of-type {\n",
       "        vertical-align: middle;\n",
       "    }\n",
       "\n",
       "    .dataframe tbody tr th {\n",
       "        vertical-align: top;\n",
       "    }\n",
       "\n",
       "    .dataframe thead th {\n",
       "        text-align: right;\n",
       "    }\n",
       "</style>\n",
       "<table border=\"1\" class=\"dataframe\">\n",
       "  <thead>\n",
       "    <tr style=\"text-align: right;\">\n",
       "      <th></th>\n",
       "      <th>columns_name</th>\n",
       "      <th>score_feature_importance</th>\n",
       "    </tr>\n",
       "  </thead>\n",
       "  <tbody>\n",
       "    <tr>\n",
       "      <th>9</th>\n",
       "      <td>hiv/aids</td>\n",
       "      <td>0.687698</td>\n",
       "    </tr>\n",
       "    <tr>\n",
       "      <th>11</th>\n",
       "      <td>income composition of resources</td>\n",
       "      <td>0.097292</td>\n",
       "    </tr>\n",
       "    <tr>\n",
       "      <th>3</th>\n",
       "      <td>percentage expenditure</td>\n",
       "      <td>0.053791</td>\n",
       "    </tr>\n",
       "    <tr>\n",
       "      <th>12</th>\n",
       "      <td>schooling</td>\n",
       "      <td>0.044059</td>\n",
       "    </tr>\n",
       "    <tr>\n",
       "      <th>6</th>\n",
       "      <td>bmi</td>\n",
       "      <td>0.021596</td>\n",
       "    </tr>\n",
       "    <tr>\n",
       "      <th>5</th>\n",
       "      <td>measles</td>\n",
       "      <td>0.021427</td>\n",
       "    </tr>\n",
       "    <tr>\n",
       "      <th>7</th>\n",
       "      <td>polio</td>\n",
       "      <td>0.015474</td>\n",
       "    </tr>\n",
       "    <tr>\n",
       "      <th>10</th>\n",
       "      <td>thinness 1-19 years</td>\n",
       "      <td>0.015355</td>\n",
       "    </tr>\n",
       "    <tr>\n",
       "      <th>1</th>\n",
       "      <td>infant deaths</td>\n",
       "      <td>0.013916</td>\n",
       "    </tr>\n",
       "    <tr>\n",
       "      <th>8</th>\n",
       "      <td>total expenditure</td>\n",
       "      <td>0.010890</td>\n",
       "    </tr>\n",
       "    <tr>\n",
       "      <th>2</th>\n",
       "      <td>alcohol</td>\n",
       "      <td>0.008203</td>\n",
       "    </tr>\n",
       "    <tr>\n",
       "      <th>4</th>\n",
       "      <td>hepatitis b</td>\n",
       "      <td>0.006744</td>\n",
       "    </tr>\n",
       "    <tr>\n",
       "      <th>0</th>\n",
       "      <td>status</td>\n",
       "      <td>0.003556</td>\n",
       "    </tr>\n",
       "  </tbody>\n",
       "</table>\n",
       "</div>"
      ],
      "text/plain": [
       "                       columns_name  score_feature_importance\n",
       "9                          hiv/aids                  0.687698\n",
       "11  income composition of resources                  0.097292\n",
       "3            percentage expenditure                  0.053791\n",
       "12                        schooling                  0.044059\n",
       "6                               bmi                  0.021596\n",
       "5                           measles                  0.021427\n",
       "7                             polio                  0.015474\n",
       "10              thinness 1-19 years                  0.015355\n",
       "1                     infant deaths                  0.013916\n",
       "8                 total expenditure                  0.010890\n",
       "2                           alcohol                  0.008203\n",
       "4                       hepatitis b                  0.006744\n",
       "0                            status                  0.003556"
      ]
     },
     "execution_count": 338,
     "metadata": {},
     "output_type": "execute_result"
    }
   ],
   "source": [
    "df5 = pd.DataFrame(list(zip(feature_names5, model5.feature_importances_)))\n",
    "df5.columns = ['columns_name', 'score_feature_importance']\n",
    "df5.sort_values(by=['score_feature_importance'], ascending = False)"
   ]
  },
  {
   "cell_type": "markdown",
   "id": "748860e4",
   "metadata": {},
   "source": [
    "# Making prediction (X5, y5)"
   ]
  },
  {
   "cell_type": "code",
   "execution_count": 339,
   "id": "b5acda0f",
   "metadata": {},
   "outputs": [],
   "source": [
    "y5_pred_train = model5.predict(X5_train)\n",
    "y5_pred  = model5.predict(X5_test)"
   ]
  },
  {
   "cell_type": "markdown",
   "id": "30b04e66",
   "metadata": {},
   "source": [
    "# Evaluating model performance (X5, y5)"
   ]
  },
  {
   "cell_type": "code",
   "execution_count": 340,
   "id": "487acf05",
   "metadata": {},
   "outputs": [
    {
     "data": {
      "text/plain": [
       "[<matplotlib.lines.Line2D at 0x7fdbe1500d00>]"
      ]
     },
     "execution_count": 340,
     "metadata": {},
     "output_type": "execute_result"
    },
    {
     "data": {
      "image/png": "[encoded data removed]",
      "text/plain": [
       "<Figure size 1400x400 with 3 Axes>"
      ]
     },
     "metadata": {},
     "output_type": "display_data"
    }
   ],
   "source": [
    "fig, ax = plt.subplots(1,3,figsize=(14,4))\n",
    "\n",
    "ax[0].plot(y5_pred, y5_test, 'o')\n",
    "ax[0].set_xlabel(\"y_test\")\n",
    "ax[0].set_ylabel(\"y_pred\")\n",
    "ax[0].set_title(\"Test Set - Predicted vs real\")\n",
    " \n",
    "\n",
    "ax[1].hist(y5_test - y5_pred)\n",
    "ax[1].set_xlabel(\"Test y-y_pred\")\n",
    "ax[1].set_title(\"Test Set Residual histogram\")\n",
    "\n",
    "ax[2].plot(y5_pred,y5_test - y5_pred,\"o\")\n",
    "ax[2].set_xlabel(\"predicted\")\n",
    "ax[2].set_ylabel(\"residuals\")\n",
    "ax[2].set_title(\"Residuals by Predicted\")\n",
    "ax[2].plot(y5_pred,np.zeros(len(y5_pred)),linestyle='dashed')"
   ]
  },
  {
   "cell_type": "markdown",
   "id": "5186e4a4",
   "metadata": {},
   "source": [
    "# Error metrics (X5, y5)"
   ]
  },
  {
   "cell_type": "code",
   "execution_count": 341,
   "id": "717f6b35",
   "metadata": {},
   "outputs": [
    {
     "name": "stdout",
     "output_type": "stream",
     "text": [
      "6.362541590970569\n",
      "1.8730296474358978\n"
     ]
    }
   ],
   "source": [
    "print(mse(y5_test,y5_pred))\n",
    "print(mae(y5_test,y5_pred))"
   ]
  },
  {
   "cell_type": "code",
   "execution_count": 342,
   "id": "60a7d09b",
   "metadata": {},
   "outputs": [
    {
     "data": {
      "text/plain": [
       "0.8802062528859486"
      ]
     },
     "execution_count": 342,
     "metadata": {},
     "output_type": "execute_result"
    }
   ],
   "source": [
    "R2_5=r2_score(y5_test,y5_pred)\n",
    "R2_5"
   ]
  },
  {
   "cell_type": "markdown",
   "id": "b880820c",
   "metadata": {},
   "source": [
    "# Cross validation (X5, y5)"
   ]
  },
  {
   "cell_type": "code",
   "execution_count": 343,
   "id": "235ca529",
   "metadata": {},
   "outputs": [
    {
     "data": {
      "text/plain": [
       "array([0.66965823, 0.86918651, 0.9238238 , 0.90918201, 0.80954814,\n",
       "       0.87954613, 0.89657123, 0.77432951, 0.87895769, 0.79661996])"
      ]
     },
     "execution_count": 343,
     "metadata": {},
     "output_type": "execute_result"
    }
   ],
   "source": [
    "scores5=cross_val_score(model5, X5_train, y5_train, cv = 10)\n",
    "scores5"
   ]
  },
  {
   "cell_type": "code",
   "execution_count": 344,
   "id": "3e9e2d5d",
   "metadata": {},
   "outputs": [
    {
     "name": "stdout",
     "output_type": "stream",
     "text": [
      "0.84 accuracy with a standard deviation of 0.07\n"
     ]
    }
   ],
   "source": [
    "print(\"%0.2f accuracy with a standard deviation of %0.2f\" % (scores5.mean(), scores5.std()))"
   ]
  },
  {
   "cell_type": "code",
   "execution_count": 345,
   "id": "644adda3",
   "metadata": {},
   "outputs": [],
   "source": [
    "feature_names5 = X5_train.columns\n",
    "feature_names5 = list(feature_names5)\n"
   ]
  },
  {
   "cell_type": "code",
   "execution_count": 348,
   "id": "96444dc6",
   "metadata": {},
   "outputs": [
    {
     "data": {
      "text/html": [
       "<div>\n",
       "<style scoped>\n",
       "    .dataframe tbody tr th:only-of-type {\n",
       "        vertical-align: middle;\n",
       "    }\n",
       "\n",
       "    .dataframe tbody tr th {\n",
       "        vertical-align: top;\n",
       "    }\n",
       "\n",
       "    .dataframe thead th {\n",
       "        text-align: right;\n",
       "    }\n",
       "</style>\n",
       "<table border=\"1\" class=\"dataframe\">\n",
       "  <thead>\n",
       "    <tr style=\"text-align: right;\">\n",
       "      <th></th>\n",
       "      <th>columns_name</th>\n",
       "      <th>score_feature_importance</th>\n",
       "    </tr>\n",
       "  </thead>\n",
       "  <tbody>\n",
       "    <tr>\n",
       "      <th>9</th>\n",
       "      <td>hiv/aids</td>\n",
       "      <td>0.687698</td>\n",
       "    </tr>\n",
       "    <tr>\n",
       "      <th>11</th>\n",
       "      <td>income composition of resources</td>\n",
       "      <td>0.097292</td>\n",
       "    </tr>\n",
       "    <tr>\n",
       "      <th>3</th>\n",
       "      <td>percentage expenditure</td>\n",
       "      <td>0.053791</td>\n",
       "    </tr>\n",
       "    <tr>\n",
       "      <th>12</th>\n",
       "      <td>schooling</td>\n",
       "      <td>0.044059</td>\n",
       "    </tr>\n",
       "    <tr>\n",
       "      <th>6</th>\n",
       "      <td>bmi</td>\n",
       "      <td>0.021596</td>\n",
       "    </tr>\n",
       "    <tr>\n",
       "      <th>5</th>\n",
       "      <td>measles</td>\n",
       "      <td>0.021427</td>\n",
       "    </tr>\n",
       "    <tr>\n",
       "      <th>7</th>\n",
       "      <td>polio</td>\n",
       "      <td>0.015474</td>\n",
       "    </tr>\n",
       "    <tr>\n",
       "      <th>10</th>\n",
       "      <td>thinness 1-19 years</td>\n",
       "      <td>0.015355</td>\n",
       "    </tr>\n",
       "    <tr>\n",
       "      <th>1</th>\n",
       "      <td>infant deaths</td>\n",
       "      <td>0.013916</td>\n",
       "    </tr>\n",
       "    <tr>\n",
       "      <th>8</th>\n",
       "      <td>total expenditure</td>\n",
       "      <td>0.010890</td>\n",
       "    </tr>\n",
       "    <tr>\n",
       "      <th>2</th>\n",
       "      <td>alcohol</td>\n",
       "      <td>0.008203</td>\n",
       "    </tr>\n",
       "    <tr>\n",
       "      <th>4</th>\n",
       "      <td>hepatitis b</td>\n",
       "      <td>0.006744</td>\n",
       "    </tr>\n",
       "    <tr>\n",
       "      <th>0</th>\n",
       "      <td>status</td>\n",
       "      <td>0.003556</td>\n",
       "    </tr>\n",
       "  </tbody>\n",
       "</table>\n",
       "</div>"
      ],
      "text/plain": [
       "                       columns_name  score_feature_importance\n",
       "9                          hiv/aids                  0.687698\n",
       "11  income composition of resources                  0.097292\n",
       "3            percentage expenditure                  0.053791\n",
       "12                        schooling                  0.044059\n",
       "6                               bmi                  0.021596\n",
       "5                           measles                  0.021427\n",
       "7                             polio                  0.015474\n",
       "10              thinness 1-19 years                  0.015355\n",
       "1                     infant deaths                  0.013916\n",
       "8                 total expenditure                  0.010890\n",
       "2                           alcohol                  0.008203\n",
       "4                       hepatitis b                  0.006744\n",
       "0                            status                  0.003556"
      ]
     },
     "execution_count": 348,
     "metadata": {},
     "output_type": "execute_result"
    }
   ],
   "source": [
    "df5 = pd.DataFrame(list(zip(feature_names5, model5.feature_importances_)))\n",
    "df5.columns = ['columns_name', 'score_feature_importance']\n",
    "df5.sort_values(by=['score_feature_importance'], ascending = False)"
   ]
  },
  {
   "cell_type": "markdown",
   "id": "c6b35ff2",
   "metadata": {},
   "source": [
    "# Defining X6, y6 (Random Forest Regression w/ Feature Selection X5, y6)"
   ]
  },
  {
   "cell_type": "code",
   "execution_count": 349,
   "id": "20bf119a",
   "metadata": {},
   "outputs": [],
   "source": [
    "X6 = X5[['hiv/aids','income composition of resources','percentage expenditure']].copy()"
   ]
  },
  {
   "cell_type": "code",
   "execution_count": 350,
   "id": "30e44138",
   "metadata": {},
   "outputs": [],
   "source": [
    "y6 = y5"
   ]
  },
  {
   "cell_type": "markdown",
   "id": "ba247f5c",
   "metadata": {},
   "source": [
    "# Data splitting (X6, y6)"
   ]
  },
  {
   "cell_type": "code",
   "execution_count": 351,
   "id": "1574b9a9",
   "metadata": {},
   "outputs": [],
   "source": [
    "X6_train, X6_test, y6_train, y6_test = train_test_split(X6, y6, test_size=0.20, random_state=42)\n",
    "\n",
    "X6_train = pd.DataFrame(X6_train, columns=X6.columns)\n",
    "X6_test  = pd.DataFrame(X6_test, columns=X6.columns)"
   ]
  },
  {
   "cell_type": "markdown",
   "id": "1a6ae725",
   "metadata": {},
   "source": [
    "# Fitting model (Random Forest Regression, X6, y6 w/ Feature Selection X5, y5)"
   ]
  },
  {
   "cell_type": "code",
   "execution_count": 352,
   "id": "491f6bbb",
   "metadata": {},
   "outputs": [
    {
     "data": {
      "text/html": [
       "<style>#sk-container-id-15 {color: black;background-color: white;}#sk-container-id-15 pre{padding: 0;}#sk-container-id-15 div.sk-toggleable {background-color: white;}#sk-container-id-15 label.sk-toggleable__label {cursor: pointer;display: block;width: 100%;margin-bottom: 0;padding: 0.3em;box-sizing: border-box;text-align: center;}#sk-container-id-15 label.sk-toggleable__label-arrow:before {content: \"▸\";float: left;margin-right: 0.25em;color: #696969;}#sk-container-id-15 label.sk-toggleable__label-arrow:hover:before {color: black;}#sk-container-id-15 div.sk-estimator:hover label.sk-toggleable__label-arrow:before {color: black;}#sk-container-id-15 div.sk-toggleable__content {max-height: 0;max-width: 0;overflow: hidden;text-align: left;background-color: #f0f8ff;}#sk-container-id-15 div.sk-toggleable__content pre {margin: 0.2em;color: black;border-radius: 0.25em;background-color: #f0f8ff;}#sk-container-id-15 input.sk-toggleable__control:checked~div.sk-toggleable__content {max-height: 200px;max-width: 100%;overflow: auto;}#sk-container-id-15 input.sk-toggleable__control:checked~label.sk-toggleable__label-arrow:before {content: \"▾\";}#sk-container-id-15 div.sk-estimator input.sk-toggleable__control:checked~label.sk-toggleable__label {background-color: #d4ebff;}#sk-container-id-15 div.sk-label input.sk-toggleable__control:checked~label.sk-toggleable__label {background-color: #d4ebff;}#sk-container-id-15 input.sk-hidden--visually {border: 0;clip: rect(1px 1px 1px 1px);clip: rect(1px, 1px, 1px, 1px);height: 1px;margin: -1px;overflow: hidden;padding: 0;position: absolute;width: 1px;}#sk-container-id-15 div.sk-estimator {font-family: monospace;background-color: #f0f8ff;border: 1px dotted black;border-radius: 0.25em;box-sizing: border-box;margin-bottom: 0.5em;}#sk-container-id-15 div.sk-estimator:hover {background-color: #d4ebff;}#sk-container-id-15 div.sk-parallel-item::after {content: \"\";width: 100%;border-bottom: 1px solid gray;flex-grow: 1;}#sk-container-id-15 div.sk-label:hover label.sk-toggleable__label {background-color: #d4ebff;}#sk-container-id-15 div.sk-serial::before {content: \"\";position: absolute;border-left: 1px solid gray;box-sizing: border-box;top: 0;bottom: 0;left: 50%;z-index: 0;}#sk-container-id-15 div.sk-serial {display: flex;flex-direction: column;align-items: center;background-color: white;padding-right: 0.2em;padding-left: 0.2em;position: relative;}#sk-container-id-15 div.sk-item {position: relative;z-index: 1;}#sk-container-id-15 div.sk-parallel {display: flex;align-items: stretch;justify-content: center;background-color: white;position: relative;}#sk-container-id-15 div.sk-item::before, #sk-container-id-15 div.sk-parallel-item::before {content: \"\";position: absolute;border-left: 1px solid gray;box-sizing: border-box;top: 0;bottom: 0;left: 50%;z-index: -1;}#sk-container-id-15 div.sk-parallel-item {display: flex;flex-direction: column;z-index: 1;position: relative;background-color: white;}#sk-container-id-15 div.sk-parallel-item:first-child::after {align-self: flex-end;width: 50%;}#sk-container-id-15 div.sk-parallel-item:last-child::after {align-self: flex-start;width: 50%;}#sk-container-id-15 div.sk-parallel-item:only-child::after {width: 0;}#sk-container-id-15 div.sk-dashed-wrapped {border: 1px dashed gray;margin: 0 0.4em 0.5em 0.4em;box-sizing: border-box;padding-bottom: 0.4em;background-color: white;}#sk-container-id-15 div.sk-label label {font-family: monospace;font-weight: bold;display: inline-block;line-height: 1.2em;}#sk-container-id-15 div.sk-label-container {text-align: center;}#sk-container-id-15 div.sk-container {/* jupyter's `normalize.less` sets `[hidden] { display: none; }` but bootstrap.min.css set `[hidden] { display: none !important; }` so we also need the `!important` here to be able to override the default hidden behavior on the sphinx rendered scikit-learn.org. See: https://github.com/scikit-learn/scikit-learn/issues/21755 */display: inline-block !important;position: relative;}#sk-container-id-15 div.sk-text-repr-fallback {display: none;}</style><div id=\"sk-container-id-15\" class=\"sk-top-container\"><div class=\"sk-text-repr-fallback\"><pre>RandomForestRegressor()</pre><b>In a Jupyter environment, please rerun this cell to show the HTML representation or trust the notebook. <br />On GitHub, the HTML representation is unable to render, please try loading this page with nbviewer.org.</b></div><div class=\"sk-container\" hidden><div class=\"sk-item\"><div class=\"sk-estimator sk-toggleable\"><input class=\"sk-toggleable__control sk-hidden--visually\" id=\"sk-estimator-id-15\" type=\"checkbox\" checked><label for=\"sk-estimator-id-15\" class=\"sk-toggleable__label sk-toggleable__label-arrow\">RandomForestRegressor</label><div class=\"sk-toggleable__content\"><pre>RandomForestRegressor()</pre></div></div></div></div></div>"
      ],
      "text/plain": [
       "RandomForestRegressor()"
      ]
     },
     "execution_count": 352,
     "metadata": {},
     "output_type": "execute_result"
    }
   ],
   "source": [
    "model6 = RandomForestRegressor(n_estimators=100)\n",
    "\n",
    "model6.fit(X6_train, y6_train)\n",
    "\n"
   ]
  },
  {
   "cell_type": "markdown",
   "id": "e1f86eba",
   "metadata": {},
   "source": [
    "# Feature importance (Random Forest Regression, X6, y6 w/ Feature Selection X5, y5)\n"
   ]
  },
  {
   "cell_type": "markdown",
   "id": "f1e614e1",
   "metadata": {},
   "source": [
    "- no need to do feature importance, only using three features from X6, y6"
   ]
  },
  {
   "cell_type": "markdown",
   "id": "a5f8d97f",
   "metadata": {},
   "source": [
    "# Making prediction (X6, y6)"
   ]
  },
  {
   "cell_type": "code",
   "execution_count": 353,
   "id": "1a9926d9",
   "metadata": {},
   "outputs": [],
   "source": [
    "y6_pred_train = model6.predict(X6_train)\n",
    "y6_pred  = model6.predict(X6_test)"
   ]
  },
  {
   "cell_type": "markdown",
   "id": "93702ced",
   "metadata": {},
   "source": [
    "# Evaluating model performance (X6, y6)"
   ]
  },
  {
   "cell_type": "code",
   "execution_count": 354,
   "id": "bc9d72cc",
   "metadata": {
    "scrolled": true
   },
   "outputs": [
    {
     "data": {
      "text/plain": [
       "[<matplotlib.lines.Line2D at 0x7fdbe1834c70>]"
      ]
     },
     "execution_count": 354,
     "metadata": {},
     "output_type": "execute_result"
    },
    {
     "data": {
      "image/png": "[encoded data removed]",
      "text/plain": [
       "<Figure size 1400x400 with 3 Axes>"
      ]
     },
     "metadata": {},
     "output_type": "display_data"
    }
   ],
   "source": [
    "fig, ax = plt.subplots(1,3,figsize=(14,4))\n",
    "\n",
    "ax[0].plot(y6_pred, y6_test, 'o')\n",
    "ax[0].set_xlabel(\"y_test\")\n",
    "ax[0].set_ylabel(\"y_pred\")\n",
    "ax[0].set_title(\"Test Set - Predicted vs real\")\n",
    " \n",
    "\n",
    "ax[1].hist(y6_test - y6_pred)\n",
    "ax[1].set_xlabel(\"Test y-y_pred\")\n",
    "ax[1].set_title(\"Test Set Residual histogram\")\n",
    "\n",
    "ax[2].plot(y6_pred,y6_test - y6_pred,\"o\")\n",
    "ax[2].set_xlabel(\"predicted\")\n",
    "ax[2].set_ylabel(\"residuals\")\n",
    "ax[2].set_title(\"Residuals by Predicted\")\n",
    "ax[2].plot(y6_pred,np.zeros(len(y6_pred)),linestyle='dashed')"
   ]
  },
  {
   "cell_type": "markdown",
   "id": "46d34026",
   "metadata": {},
   "source": [
    "# Error metrics (X6, y6)"
   ]
  },
  {
   "cell_type": "code",
   "execution_count": 355,
   "id": "39b6d97e",
   "metadata": {},
   "outputs": [
    {
     "name": "stdout",
     "output_type": "stream",
     "text": [
      "7.491120684883394\n",
      "2.136809473623787\n"
     ]
    }
   ],
   "source": [
    "print(mse(y6_test,y6_pred))\n",
    "print(mae(y6_test,y6_pred))"
   ]
  },
  {
   "cell_type": "code",
   "execution_count": 356,
   "id": "9ea15120",
   "metadata": {},
   "outputs": [
    {
     "data": {
      "text/plain": [
       "0.8589573986912249"
      ]
     },
     "execution_count": 356,
     "metadata": {},
     "output_type": "execute_result"
    }
   ],
   "source": [
    "R2_6=r2_score(y6_test,y6_pred)\n",
    "R2_6"
   ]
  },
  {
   "cell_type": "markdown",
   "id": "d6e08db1",
   "metadata": {},
   "source": [
    "# Cross validation (X6, y6)"
   ]
  },
  {
   "cell_type": "code",
   "execution_count": 357,
   "id": "279b47e8",
   "metadata": {},
   "outputs": [
    {
     "data": {
      "text/plain": [
       "array([0.55643834, 0.79681517, 0.92508119, 0.84439523, 0.77997608,\n",
       "       0.82193832, 0.88940592, 0.81582891, 0.82709023, 0.76351429])"
      ]
     },
     "execution_count": 357,
     "metadata": {},
     "output_type": "execute_result"
    }
   ],
   "source": [
    "scores6=cross_val_score(model6, X6_train, y6_train, cv = 10)\n",
    "scores6"
   ]
  },
  {
   "cell_type": "code",
   "execution_count": 358,
   "id": "edec5be5",
   "metadata": {},
   "outputs": [
    {
     "name": "stdout",
     "output_type": "stream",
     "text": [
      "0.80 accuracy with a standard deviation of 0.09\n"
     ]
    }
   ],
   "source": [
    "print(\"%0.2f accuracy with a standard deviation of %0.2f\" % (scores6.mean(), scores6.std()))"
   ]
  }
 ],
 "metadata": {
  "kernelspec": {
   "display_name": "Python 3 (ipykernel)",
   "language": "python",
   "name": "python3"
  },
  "language_info": {
   "codemirror_mode": {
    "name": "ipython",
    "version": 3
   },
   "file_extension": ".py",
   "mimetype": "text/x-python",
   "name": "python",
   "nbconvert_exporter": "python",
   "pygments_lexer": "ipython3",
   "version": "3.9.12"
  },
  "toc": {
   "base_numbering": 1,
   "nav_menu": {},
   "number_sections": true,
   "sideBar": true,
   "skip_h1_title": false,
   "title_cell": "Table of Contents",
   "title_sidebar": "Contents",
   "toc_cell": false,
   "toc_position": {
    "height": "calc(100% - 180px)",
    "left": "10px",
    "top": "150px",
    "width": "240px"
   },
   "toc_section_display": true,
   "toc_window_display": true
  },
  "varInspector": {
   "cols": {
    "lenName": 16,
    "lenType": 16,
    "lenVar": 40
   },
   "kernels_config": {
    "python": {
     "delete_cmd_postfix": "",
     "delete_cmd_prefix": "del ",
     "library": "var_list.py",
     "varRefreshCmd": "print(var_dic_list())"
    },
    "r": {
     "delete_cmd_postfix": ") ",
     "delete_cmd_prefix": "rm(",
     "library": "var_list.r",
     "varRefreshCmd": "cat(var_dic_list()) "
    }
   },
   "types_to_exclude": [
    "module",
    "function",
    "builtin_function_or_method",
    "instance",
    "_Feature"
   ],
   "window_display": false
  }
 },
 "nbformat": 4,
 "nbformat_minor": 5
}
